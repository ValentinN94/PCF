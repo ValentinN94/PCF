{
 "cells": [
  {
   "cell_type": "markdown",
   "id": "dcd1eced-a7a6-4832-9c5e-22963b33ff51",
   "metadata": {},
   "source": [
    "# Program Flow Control"
   ]
  },
  {
   "cell_type": "markdown",
   "id": "4bef8185-39fd-4f17-b2ce-a283df8092c1",
   "metadata": {},
   "source": [
    "## If statements"
   ]
  },
  {
   "cell_type": "markdown",
   "id": "e24d33f4-5a93-45ed-9e66-d64fddffbd9c",
   "metadata": {},
   "source": [
    "- Used to define different types of paths our program goes through\n",
    "- Is based on boolean conditionals\n",
    "- A way to check if a variable is Truthy or Falsy\n",
    "- Evaluates if a condition is true or false\n",
    "- If condition or variable is true the block of code will be executed"
   ]
  },
  {
   "cell_type": "code",
   "execution_count": null,
   "id": "c28ede4e-588d-4b2b-a6aa-fa8d44c2d3d3",
   "metadata": {},
   "outputs": [],
   "source": [
    "#code example DO NOT RUN\n",
    "if (condition/variable):\n",
    "    #execute code within this block\n",
    "elif(condition/variable):\n",
    "    #execute code within this block\n",
    "else:\n",
    "    #execute code within this block"
   ]
  },
  {
   "cell_type": "markdown",
   "id": "17246285-d52e-4509-860d-b599b12b74f3",
   "metadata": {},
   "source": [
    "### Conditionals"
   ]
  },
  {
   "cell_type": "markdown",
   "id": "fc54b2a9-20bd-4eb6-a7c3-29ef6c4b5f98",
   "metadata": {},
   "source": [
    "- greater: >\n",
    "- less: <\n",
    "- equal: ==\n",
    "- not equal: !=\n",
    "- greater or equal: >=\n",
    "- less or equal: <=\n",
    "- modulo: %\n",
    "- variable: variable name"
   ]
  },
  {
   "cell_type": "markdown",
   "id": "90a30528-0f2d-45f1-b43c-53e742971f01",
   "metadata": {},
   "source": [
    "### If examples"
   ]
  },
  {
   "cell_type": "code",
   "execution_count": null,
   "id": "8ec74960-2e11-4cbb-874d-5d4563bd0f10",
   "metadata": {
    "scrolled": true
   },
   "outputs": [],
   "source": [
    "a = 5\n",
    "if a > 3:\n",
    "    print(\"a is bigger than 3!\")"
   ]
  },
  {
   "cell_type": "code",
   "execution_count": null,
   "id": "6553940d-2560-408d-b362-a28f918d1aa1",
   "metadata": {},
   "outputs": [],
   "source": [
    "a = 2\n",
    "if a < 3:\n",
    "    print(\"a is smaller than 3!\")\n",
    "else:\n",
    "    print(\"a is bigger than 3!\")"
   ]
  },
  {
   "cell_type": "code",
   "execution_count": null,
   "id": "f5442121-1611-4108-ba23-6ee4555f74a6",
   "metadata": {},
   "outputs": [],
   "source": [
    "if a < 3:\n",
    "    print(\"a is smaller than 3!\")\n",
    "elif a > 5:\n",
    "    print(\"a is bigger than 5!\")\n",
    "else:\n",
    "    print(\"a is equal to 5!\")"
   ]
  },
  {
   "cell_type": "markdown",
   "id": "30ea0192-0b37-42a6-910f-10b28c0d178b",
   "metadata": {},
   "source": [
    "## For statements"
   ]
  },
  {
   "cell_type": "markdown",
   "id": "5de0c870-90fc-4838-b9e5-65841d9c8679",
   "metadata": {},
   "source": [
    "- A statement that will execute a block of code a limited amount of times\n",
    "- Does not have an exit condition\n",
    "- It finishes after the iterator is depleted"
   ]
  },
  {
   "cell_type": "code",
   "execution_count": null,
   "id": "b00a5bed-092b-4453-8217-15463fca964f",
   "metadata": {},
   "outputs": [],
   "source": [
    "#code example DO NOT RUN\n",
    "for i in iterator:\n",
    "    code to be executed in a loop until iterator is depleted"
   ]
  },
  {
   "cell_type": "code",
   "execution_count": null,
   "id": "07535bf7-fc7b-4524-abd8-e50355e78c8d",
   "metadata": {},
   "outputs": [],
   "source": [
    "for i in range(0, 5):\n",
    "    print(\"print function is called!\")"
   ]
  },
  {
   "cell_type": "markdown",
   "id": "e27c04b6-5363-416b-90db-882273582bab",
   "metadata": {},
   "source": [
    "## While statements"
   ]
  },
  {
   "cell_type": "markdown",
   "id": "3d1228ff-7919-43c6-b50e-7bcf6bbbc66c",
   "metadata": {},
   "source": [
    "- A statement that will run a block of code as long as condition is true\n",
    "- Also used for infinite loops\n",
    "- Needs a exit condition to break the loop"
   ]
  },
  {
   "cell_type": "code",
   "execution_count": null,
   "id": "4a45ab55-dcdf-436b-8af3-927f2d54eb9b",
   "metadata": {},
   "outputs": [],
   "source": [
    "while True:\n",
    "    print(\"This is an infinite loop!\")"
   ]
  },
  {
   "cell_type": "code",
   "execution_count": null,
   "id": "5f6d1b04-affb-403b-93b0-cadf9d2c5782",
   "metadata": {},
   "outputs": [],
   "source": [
    "i = 0\n",
    "while i < 5:\n",
    "    print(\"i is less than 5\")\n",
    "    i += 1"
   ]
  },
  {
   "cell_type": "markdown",
   "id": "081e5782-4757-45fa-8c84-a466bd0ab7f5",
   "metadata": {},
   "source": [
    "## Brake statement"
   ]
  },
  {
   "cell_type": "markdown",
   "id": "7583fd03-e06b-461b-b4f6-786fbcb60bda",
   "metadata": {},
   "source": [
    "- Used to terminate a loop entirely, regardless of current iteration\n",
    "- Can be used for both while and for loops"
   ]
  },
  {
   "cell_type": "code",
   "execution_count": null,
   "id": "ab459084-ef3c-4ea5-8216-a449a2f62abb",
   "metadata": {},
   "outputs": [],
   "source": [
    "for letter in 'Hello, World!':\n",
    "    if letter == 'o':\n",
    "        break\n",
    "    print(letter)"
   ]
  },
  {
   "cell_type": "markdown",
   "id": "bd56cef4-3abd-446a-8b23-193e0b5fa529",
   "metadata": {},
   "source": [
    "## Continue statement"
   ]
  },
  {
   "cell_type": "markdown",
   "id": "dfb5077a-b3ba-4cf0-a768-ab4db4028a30",
   "metadata": {},
   "source": [
    "- Used to skip over the current iteration and move to the next one"
   ]
  },
  {
   "cell_type": "code",
   "execution_count": null,
   "id": "06d98186-d114-4918-adb3-9fcf6491578d",
   "metadata": {},
   "outputs": [],
   "source": [
    "for letter in 'abcdefg':\n",
    "    if letter == 'd':\n",
    "        continue\n",
    "    print(letter)"
   ]
  },
  {
   "cell_type": "markdown",
   "id": "bcce9245-b0b4-429e-b7b5-fa0ce46d0a10",
   "metadata": {},
   "source": [
    "## Functions"
   ]
  },
  {
   "cell_type": "markdown",
   "id": "f34152c5-e92e-4f8c-96a5-da6508bf9560",
   "metadata": {},
   "source": [
    "- A block of code executed when invoked\n",
    "- Makes easier the reuse of code"
   ]
  },
  {
   "cell_type": "code",
   "execution_count": null,
   "id": "2c50399b-e78d-4c70-bb31-e343289971f5",
   "metadata": {},
   "outputs": [],
   "source": [
    "name = 'John'\n",
    "age = 35\n",
    "\n",
    "def describe(pers_name, pers_age):\n",
    "    print(f\"Your name is {pers_name} and you are {pers_age}\")\n",
    "\n",
    "describe(name, age)"
   ]
  },
  {
   "cell_type": "code",
   "execution_count": null,
   "id": "0a84e2b0-468a-4c44-b775-a2eb906d310e",
   "metadata": {},
   "outputs": [],
   "source": [
    "def my_sum(a, b):\n",
    "    return a + b\n",
    "\n",
    "print(my_sum(10,53))\n",
    "print(my_sum(223, 12))"
   ]
  }
 ],
 "metadata": {
  "kernelspec": {
   "display_name": "Python 3 (ipykernel)",
   "language": "python",
   "name": "python3"
  },
  "language_info": {
   "codemirror_mode": {
    "name": "ipython",
    "version": 3
   },
   "file_extension": ".py",
   "mimetype": "text/x-python",
   "name": "python",
   "nbconvert_exporter": "python",
   "pygments_lexer": "ipython3",
   "version": "3.10.10"
  }
 },
 "nbformat": 4,
 "nbformat_minor": 5
}
