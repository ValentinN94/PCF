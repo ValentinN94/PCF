{
 "cells": [
  {
   "cell_type": "markdown",
   "id": "a58b0781-268c-4c1d-931b-3a22a358bcd0",
   "metadata": {},
   "source": [
    "# Syntactic Sugar"
   ]
  },
  {
   "cell_type": "markdown",
   "id": "390a2641-4ad4-45ef-a2b4-7d793d7a106e",
   "metadata": {},
   "source": [
    "## Lambda function"
   ]
  },
  {
   "cell_type": "markdown",
   "id": "e395ac50-e5be-4f1c-8b2b-6ef7e206d5fc",
   "metadata": {},
   "source": [
    "- Similar to a regular function but defined with the lambda keyword\n",
    "- Usually a one liner\n",
    "- Also known as anonymous functions\n",
    "- Used only once in the script"
   ]
  },
  {
   "cell_type": "code",
   "execution_count": null,
   "id": "ca4c5a1c-72c9-41f3-aa68-47860e8e8d7e",
   "metadata": {},
   "outputs": [],
   "source": [
    "def square_funct(x):\n",
    "    return x**2\n",
    "\n",
    "print(square_funct)\n",
    "print(type(square_funct))"
   ]
  },
  {
   "cell_type": "code",
   "execution_count": null,
   "id": "7114f6ef-076e-4e64-a8b1-62454cb61958",
   "metadata": {},
   "outputs": [],
   "source": [
    "square = lambda x: x**2\n",
    "print(square)\n",
    "\n",
    "print(type(square))\n",
    "print(square(5))"
   ]
  },
  {
   "cell_type": "code",
   "execution_count": null,
   "id": "d38bbc10-a150-460f-bf3f-5f0b7a12b4c4",
   "metadata": {},
   "outputs": [],
   "source": [
    "even_or_odd = lambda x: print('The number is even') if x % 2 == 0 else print('The number is odd')\n",
    "even_or_odd(10)\n",
    "even_or_odd(9)\n",
    "even_or_odd(111)"
   ]
  },
  {
   "cell_type": "markdown",
   "id": "c7aa77d4-c015-4859-9c3a-a80d79a23325",
   "metadata": {},
   "source": [
    "## Map function"
   ]
  },
  {
   "cell_type": "markdown",
   "id": "4a254b3c-610b-485e-bb0b-b5adf38b3b16",
   "metadata": {},
   "source": [
    "- Returns an object of the results after applying a given function to each item in a given iterable\n",
    "- Syntax: \n",
    "- map(function, iterable)\n",
    "- function can be a regular function or a lambda\n",
    "- iterable can be a list, tuple, dict, etc"
   ]
  },
  {
   "cell_type": "code",
   "execution_count": null,
   "id": "eb8795b2-36d8-4eb7-baab-f0958dcb1e76",
   "metadata": {},
   "outputs": [],
   "source": [
    "my_list = list(range(10))\n",
    "square_map = map(lambda x: x**2, my_list)\n",
    "print(square_map)\n",
    "print(type(square_map))\n",
    "print(list(square_map))"
   ]
  },
  {
   "cell_type": "code",
   "execution_count": null,
   "id": "75f5c16c-7605-43fd-83f0-32db34b48b7a",
   "metadata": {},
   "outputs": [],
   "source": [
    "my_list = ['Alex', 'John', 'Betty', 'Joe']\n",
    "list_map = list(map(list, my_list))\n",
    "print(list_map)\n",
    "print(list('Alex'))"
   ]
  },
  {
   "cell_type": "markdown",
   "id": "6d3abba4-233b-44cb-a257-59800b387642",
   "metadata": {},
   "source": [
    "## Filter function"
   ]
  },
  {
   "cell_type": "markdown",
   "id": "77c7a5ca-3598-4959-92e7-d0fc9202c7ad",
   "metadata": {},
   "source": [
    "- Returns an object which contains true or false with the help of a function that tests each element in the sequence\n",
    "- Syntax: \n",
    "- filter(function, sequence)\n",
    "- function can be a regular function or a lambda\n",
    "- sequence can be a lists, tuples, strings, range, etc"
   ]
  },
  {
   "cell_type": "code",
   "execution_count": null,
   "id": "a15b9741-2a67-460f-9315-11a67c1b3cd3",
   "metadata": {},
   "outputs": [],
   "source": [
    "def check_vowel(letter_searched):\n",
    "    vowels = ['a', 'e', 'i', 'o', 'u']\n",
    "    if letter_searched in vowels:\n",
    "        return True\n",
    "    else:\n",
    "        return False\n",
    "\n",
    "letters = ['g', 'e', 'e', 'j', 'k', 's', 'p', 'r']\n",
    "my_filter = filter(check_vowel, letters)\n",
    "\n",
    "print(list(my_filter))"
   ]
  },
  {
   "cell_type": "code",
   "execution_count": null,
   "id": "72a401f1-ced5-4dd1-af2a-7ea50e66e2a6",
   "metadata": {},
   "outputs": [],
   "source": [
    "#Filter using a lambda function:\n",
    "vowels = ['a', 'e', 'i', 'o', 'u']\n",
    "my_filter2 = filter(lambda x: True if x in vowels else False, letters)\n",
    "print(list(my_filter2))"
   ]
  },
  {
   "cell_type": "code",
   "execution_count": null,
   "id": "01f2ca4d-6fff-44c1-9993-a641392f6d1d",
   "metadata": {},
   "outputs": [],
   "source": [
    "seq = [0, 1, 2, 3, 5, 8, 13]\n",
    "result = filter(lambda x: x % 2 != 0, seq)\n",
    "print(list(result))\n",
    "\n",
    "result = filter(lambda x: x % 2 == 0, seq)\n",
    "print(list(result))"
   ]
  },
  {
   "cell_type": "markdown",
   "id": "43b58cca-a94f-466a-99cf-ef77a19cb2c7",
   "metadata": {},
   "source": [
    "## Comprehensions"
   ]
  },
  {
   "cell_type": "markdown",
   "id": "353438d5-b8f3-44db-ade2-60c171754dfa",
   "metadata": {},
   "source": [
    "- Python provides comprehensions for creation of new sequences based on previously defined sequences\n",
    "- List comprehensions\n",
    "- Set comprehensions\n",
    "- Dictionary comprehensions\n",
    "- Generator comprehensions"
   ]
  },
  {
   "cell_type": "markdown",
   "id": "e180a698-712a-4e1f-8bc4-c0ac51bedb42",
   "metadata": {},
   "source": [
    "### List comprehensions"
   ]
  },
  {
   "cell_type": "markdown",
   "id": "05e633f3-6f60-44f9-a62a-3f653aaeed93",
   "metadata": {},
   "source": [
    "Syntax:\n",
    "output_list = [output_exp for var in iterable if (var satisfies condition)]"
   ]
  },
  {
   "cell_type": "code",
   "execution_count": null,
   "id": "55b52cda-63ba-47bd-8762-0d9f3ac625e0",
   "metadata": {},
   "outputs": [],
   "source": [
    "output_list = []\n",
    "for var in range(1, 10):\n",
    "    output_list.append(var ** 2)\n",
    "print(output_list)\n",
    "\n",
    "#Using list comprehension\n",
    "output_list = [var**2 for var in range(1,10)]\n",
    "print(output_list)"
   ]
  },
  {
   "cell_type": "code",
   "execution_count": null,
   "id": "9c356770-e97b-4422-85f0-5d70be18c614",
   "metadata": {},
   "outputs": [],
   "source": [
    "output_list_evens = [var for var in range(10) if var % 2 == 0]\n",
    "print(output_list_evens)"
   ]
  },
  {
   "cell_type": "markdown",
   "id": "8bfd59bd-909f-4559-a3e3-5a6914c5993f",
   "metadata": {},
   "source": [
    "### Dictionaries comprehensions"
   ]
  },
  {
   "cell_type": "markdown",
   "id": "51ffa10b-06f1-48ed-a86e-7051e49ef4a4",
   "metadata": {},
   "source": [
    "Syntax:\n",
    "output_dict = {key: value for (key, value) in iterable if (key or value satisfies condition)}"
   ]
  },
  {
   "cell_type": "code",
   "execution_count": null,
   "id": "67da3c73-7a16-4103-a4e9-c0f7b38d9855",
   "metadata": {},
   "outputs": [],
   "source": [
    "square = {num: num**2 for num in range(1, 11)}\n",
    "print(square)\n",
    "\n",
    "even_squares = {num: num**2 for num in range(1, 11) if num % 2 == 0}\n",
    "print(even_squares)"
   ]
  },
  {
   "cell_type": "code",
   "execution_count": null,
   "id": "6cb73607-8a37-4850-b70e-b8154a1efa43",
   "metadata": {},
   "outputs": [],
   "source": [
    "words = ['apple', 'banana', 'cherry', 'apple', 'banana', 'cherry', 'cherry', 'banana']\n",
    "word_freq = {word: words.count(word) for word in words}\n",
    "print(word_freq)"
   ]
  },
  {
   "cell_type": "markdown",
   "id": "bd9c2679-66dd-420b-974f-0759d90e703d",
   "metadata": {},
   "source": [
    "### Set comprehensions"
   ]
  },
  {
   "cell_type": "markdown",
   "id": "4c00c8ef-a064-4a36-95f4-85f4249ae009",
   "metadata": {},
   "source": [
    "Syntax:\n",
    "output_set = {output_exp for var in iterable if (var satisfies condition)}"
   ]
  },
  {
   "cell_type": "code",
   "execution_count": null,
   "id": "220ed50e-3139-4272-812f-c74cdb8a78dd",
   "metadata": {},
   "outputs": [],
   "source": [
    "my_list = [1, 2, 1, 0, 1, 2, 3, 1, 2]\n",
    "my_set = {s**2 for s in my_list}\n",
    "print(my_set)\n",
    "my_set = {s for s in my_list if s % 2 == 0}\n",
    "print(my_set)"
   ]
  },
  {
   "cell_type": "markdown",
   "id": "ae6db1cf-7930-48bc-9c3d-cde472600a3c",
   "metadata": {},
   "source": [
    "### Generator comprehensions"
   ]
  },
  {
   "cell_type": "markdown",
   "id": "80372a43-f0b4-4d5d-b6f0-dddc50f443f6",
   "metadata": {},
   "source": [
    "Syntax\n",
    "output_list = (output_exp for var in iterable if (var satisfies condition))"
   ]
  },
  {
   "cell_type": "code",
   "execution_count": null,
   "id": "0562c14e-0815-4d71-91b6-ea829b301bbb",
   "metadata": {},
   "outputs": [],
   "source": [
    "squares = (i**2 for i in range(6))\n",
    "print(squares)\n",
    "print(next(squares))\n",
    "print(next(squares))\n",
    "print(next(squares))\n",
    "\n",
    "# What will the for print?\n",
    "for i in squares:\n",
    "    print(i)"
   ]
  }
 ],
 "metadata": {
  "kernelspec": {
   "display_name": "Python 3 (ipykernel)",
   "language": "python",
   "name": "python3"
  },
  "language_info": {
   "codemirror_mode": {
    "name": "ipython",
    "version": 3
   },
   "file_extension": ".py",
   "mimetype": "text/x-python",
   "name": "python",
   "nbconvert_exporter": "python",
   "pygments_lexer": "ipython3",
   "version": "3.10.10"
  }
 },
 "nbformat": 4,
 "nbformat_minor": 5
}
