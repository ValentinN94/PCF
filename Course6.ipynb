{
 "cells": [
  {
   "cell_type": "markdown",
   "id": "d93bb5c9-0747-4f48-8359-3af4a5a1d5e0",
   "metadata": {},
   "source": [
    "# Sets"
   ]
  },
  {
   "cell_type": "markdown",
   "id": "75c97566-cc62-450d-9b49-edec26791c51",
   "metadata": {},
   "source": [
    "- Collection of data types, unordered and without an index \n",
    "- No duplicate values allowed\n",
    "- Ability to check union, intersection and difference between sets"
   ]
  },
  {
   "cell_type": "code",
   "execution_count": null,
   "id": "e0ff6ded-cb12-42b2-8912-c7c654c1a73e",
   "metadata": {},
   "outputs": [],
   "source": [
    "data_types = {\"str\", \"int\", \"float\", \"bool\"}\n",
    "for i in data_types:\n",
    "    print(i)"
   ]
  },
  {
   "cell_type": "code",
   "execution_count": null,
   "id": "73b73766-a67a-458a-b726-c23275dec691",
   "metadata": {},
   "outputs": [],
   "source": [
    "my_set = {1, 10, 100}\n",
    "print(my_set[1])"
   ]
  },
  {
   "cell_type": "code",
   "execution_count": null,
   "id": "914ef9eb-b006-4f95-800d-9b04e3e7dc5b",
   "metadata": {},
   "outputs": [],
   "source": [
    "my_list = [1, 2, 3]\n",
    "my_set = {my_list}"
   ]
  },
  {
   "cell_type": "code",
   "execution_count": null,
   "id": "95d4723b-b7a3-4410-8a09-77ac1a6207eb",
   "metadata": {},
   "outputs": [],
   "source": [
    "my_set = {\"red\", \"green\", \"blue\", \"red\"}\n",
    "my_set\n",
    "{'blue', 'red', 'green'}\n",
    "print(hash(\"red\"))\n",
    "print(hash(True))\n",
    "print(hash(1))\n",
    "print(hash([3, 6, 9]))"
   ]
  },
  {
   "cell_type": "code",
   "execution_count": null,
   "id": "fd397cc5-9d18-408a-8767-23b674ef3157",
   "metadata": {},
   "outputs": [],
   "source": [
    "data_types = {\"str\", \"int\", \"float\", \"bool\"}\n",
    "print(data_types)\n",
    "data_types.add(\"bytes\")\n",
    "print(data_types)\n",
    "data_types.remove(\"bool\")\n",
    "print(data_types)"
   ]
  },
  {
   "cell_type": "code",
   "execution_count": null,
   "id": "94281dda-09b0-48f7-bb26-5caf3eb67051",
   "metadata": {},
   "outputs": [],
   "source": [
    "set1 = {\"abc\", 34, True, 40, \"male\"}\n",
    "print(set1)\n",
    "print(len(set1))\n",
    "my_list = [1, 2, 3]\n",
    "my_set = set(my_list)\n",
    "print(my_set)"
   ]
  },
  {
   "cell_type": "code",
   "execution_count": null,
   "id": "afd0fc4b-d882-4f9c-8127-f86166e50010",
   "metadata": {},
   "outputs": [],
   "source": [
    "set1 = {1, 3, 5, 7, 9}\n",
    "set2 = {0, 2, 4, 6, 8}\n",
    "print(set1.union(set2))\n",
    "print(set1)\n",
    "print(set1.intersection(set2))\n",
    "print(set1.difference(set2))"
   ]
  }
 ],
 "metadata": {
  "kernelspec": {
   "display_name": "Python 3 (ipykernel)",
   "language": "python",
   "name": "python3"
  },
  "language_info": {
   "codemirror_mode": {
    "name": "ipython",
    "version": 3
   },
   "file_extension": ".py",
   "mimetype": "text/x-python",
   "name": "python",
   "nbconvert_exporter": "python",
   "pygments_lexer": "ipython3",
   "version": "3.10.10"
  }
 },
 "nbformat": 4,
 "nbformat_minor": 5
}
