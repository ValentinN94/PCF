{
 "cells": [
  {
   "cell_type": "markdown",
   "id": "ae5e16f9-4295-41dc-a174-5936260cd7da",
   "metadata": {},
   "source": [
    "# Homework13. File Handling"
   ]
  },
  {
   "cell_type": "markdown",
   "id": "1216b249-30e9-4784-8618-37d277bbb982",
   "metadata": {},
   "source": [
    "# Note: This probably wont work using the jupyterhub site, please resolve the homework locally in VSCode/Pycharm"
   ]
  },
  {
   "cell_type": "markdown",
   "id": "d409e845-251f-455a-8ea7-1c0e90d0237e",
   "metadata": {},
   "source": [
    "### Exercise 1"
   ]
  },
  {
   "cell_type": "markdown",
   "id": "5b097123-6939-43d9-a54e-c95bb3c41ae0",
   "metadata": {},
   "source": [
    "Create a class called FileOperations which should take as an argument a text file. Create the following methods:\n",
    "- create or write in the file path provided as an argument.(if there is no file at the file path provided, create it)\n",
    "- read the content of the file\n",
    "- append to the file\n",
    "- clear all the data in the file\n",
    "- close the file\n",
    "- delete the file"
   ]
  },
  {
   "cell_type": "markdown",
   "id": "429e4e3c-b360-441f-ab08-8ced8ef9004c",
   "metadata": {},
   "source": [
    "### Exercise 2"
   ]
  },
  {
   "cell_type": "markdown",
   "id": "90c257d1-f8b2-48df-93c0-50c1de66778c",
   "metadata": {},
   "source": [
    "Using the class previously defined, create a new module called interactivemenu, where you constantly take input from the user and offer the user access to the FileOperations class/object(you can use the python input function).  \n",
    "For example, this is what the user should be able to see:  \n",
    "Please provide the operation wanted with the file:  \n",
    "1 - Create or write  \n",
    "2 - Read  \n",
    "3 – Clear  \n",
    "4 – Close  \n",
    "5 – Delete  \n",
    "6 – Exit menu  "
   ]
  },
  {
   "cell_type": "markdown",
   "id": "4eb112e1-b4be-4d29-bff8-468e00493096",
   "metadata": {},
   "source": [
    "### Exercise 3"
   ]
  },
  {
   "cell_type": "markdown",
   "id": "0168a773-b84f-4bde-97c8-a8a87d05bcfe",
   "metadata": {},
   "source": [
    "Using the context manager protocol, implement the python version of the linux tool called Tee where we write our commands to a file and also to a stdout. For our case we want our Tee context manager to write to 2 separate files at the same time.  \n",
    "\n",
    "For example(the second file can be set as a default value so we use it without providing it):  \n",
    "with Tee(‘text1.txt’) as t:  \n",
    "     t.write(‘Test’)  \n",
    "\n",
    "This construct should write in both our files the same content."
   ]
  }
 ],
 "metadata": {
  "kernelspec": {
   "display_name": "Python 3 (ipykernel)",
   "language": "python",
   "name": "python3"
  },
  "language_info": {
   "codemirror_mode": {
    "name": "ipython",
    "version": 3
   },
   "file_extension": ".py",
   "mimetype": "text/x-python",
   "name": "python",
   "nbconvert_exporter": "python",
   "pygments_lexer": "ipython3",
   "version": "3.10.10"
  }
 },
 "nbformat": 4,
 "nbformat_minor": 5
}
