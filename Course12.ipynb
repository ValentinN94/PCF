{
 "cells": [
  {
   "cell_type": "markdown",
   "id": "fa104e86-14d4-48f5-a415-95ffcd863e8c",
   "metadata": {},
   "source": [
    "# OOP"
   ]
  },
  {
   "cell_type": "markdown",
   "id": "53d8ad59-58c0-424c-93ab-d5097abeabc7",
   "metadata": {},
   "source": [
    "## Multiple Inheritance"
   ]
  },
  {
   "cell_type": "markdown",
   "id": "2dcb862e-0a06-4d2e-ad25-5637b45d11b5",
   "metadata": {},
   "source": [
    "- The ability of a child class to have more than one parent class\n",
    "- You can have unlimited parents of a class but you have to think of MRO (Method Resolution Order)"
   ]
  },
  {
   "cell_type": "code",
   "execution_count": null,
   "id": "0cb7a468-fbec-429e-b69e-b93b2621ebc8",
   "metadata": {},
   "outputs": [],
   "source": [
    "class ClassA():\n",
    "    pass\n",
    "\n",
    "class ClassB():\n",
    "    pass\n",
    "\n",
    "class ClassC(ClassA, ClassB):\n",
    "    pass"
   ]
  },
  {
   "cell_type": "code",
   "execution_count": null,
   "id": "176068ba-563d-4ee2-b9db-00bdd025db2d",
   "metadata": {},
   "outputs": [],
   "source": [
    "#We'll write our own DateTime classes\n",
    "class Date:\n",
    "    def return_date(self):\n",
    "        print('This function returns date')\n",
    "\n",
    "class Time:\n",
    "    def return_time(self):\n",
    "        print('This function returns time')\n",
    "        \n",
    "class Datetime(Date, Time):\n",
    "    pass"
   ]
  },
  {
   "cell_type": "code",
   "execution_count": null,
   "id": "1be2122e-f154-490f-92a2-b5a6059d6fa1",
   "metadata": {},
   "outputs": [],
   "source": [
    "my_dt = Datetime()\n",
    "print(my_dt)"
   ]
  },
  {
   "cell_type": "markdown",
   "id": "f032ff3d-2e67-40f0-97da-8411ff07607c",
   "metadata": {},
   "source": [
    "## MRO (Method Resolution Order)"
   ]
  },
  {
   "cell_type": "markdown",
   "id": "a4753ee9-8258-4b60-88a8-fabda8395a1c",
   "metadata": {},
   "source": [
    "- Stands for Methods Resolution Order\n",
    "- Python interpretor needs a way to resolve the order of methods or attributes which are inherited for child classes\n",
    "- For example:"
   ]
  },
  {
   "attachments": {
    "ed143e9f-6ec9-4346-910a-3de5283d8c3f.png": {
     "image/png": "[encoded data removed]"
    }
   },
   "cell_type": "markdown",
   "id": "2acdc0e4-d42d-4f05-a971-5beb7981fc34",
   "metadata": {},
   "source": [
    "![Diamonproblem.drawio.png](attachment:ed143e9f-6ec9-4346-910a-3de5283d8c3f.png)"
   ]
  },
  {
   "cell_type": "code",
   "execution_count": null,
   "id": "1606f582-9320-45cf-aa15-b898f8851c0d",
   "metadata": {},
   "outputs": [],
   "source": [
    "class B:\n",
    "     def info(self):\n",
    "         print('Class B')\n",
    "\n",
    "class C:\n",
    "    def info(self):\n",
    "        print('Class C')"
   ]
  },
  {
   "cell_type": "code",
   "execution_count": null,
   "id": "4e27f15c-dae2-4327-b290-8ba8a6362f6c",
   "metadata": {},
   "outputs": [],
   "source": [
    "class D(B, C):\n",
    "    pass\n",
    "\n",
    "d_obj = D()\n",
    "# The info method will be called by the D object, but from where will the info method be inherited?\n",
    "print(d_obj.info())\n",
    "print(D.mro())"
   ]
  },
  {
   "cell_type": "markdown",
   "id": "fa2292cc-2733-4a49-a540-f986c3643cfb",
   "metadata": {},
   "source": [
    "## Abstract classes"
   ]
  },
  {
   "cell_type": "markdown",
   "id": "bbcc4134-16aa-4d32-9ad5-1511dd1dfafb",
   "metadata": {},
   "source": [
    "- Creating an abstract class is about creating a template for other child classes\n",
    "- You cannot have an object of an abstract class\n",
    "- You will have multiple abstract methods which will need to be implemented in child classes\n",
    "- An abstract methods is a method without a body, used to specify which methods should be implemented by child classes"
   ]
  },
  {
   "cell_type": "code",
   "execution_count": null,
   "id": "acf9c35f-cb3e-46d3-a5b1-c6767663a9fc",
   "metadata": {},
   "outputs": [],
   "source": [
    "from abc import ABC, abstractmethod\n",
    "class Mammal(ABC):\n",
    "    @abstractmethod\n",
    "    def move(self):\n",
    "        pass\n",
    "\n",
    "my_mammal = Mammal()"
   ]
  },
  {
   "cell_type": "code",
   "execution_count": null,
   "id": "510976a2-ef99-4bbb-b5da-274428cdae57",
   "metadata": {},
   "outputs": [],
   "source": [
    "class Human(Mammal):\n",
    "    pass\n",
    "\n",
    "my_obj = Human()"
   ]
  },
  {
   "cell_type": "code",
   "execution_count": null,
   "id": "af90d13c-0849-491b-9b0a-42c30688be03",
   "metadata": {},
   "outputs": [],
   "source": [
    "class Human(Mammal):\n",
    "    def move(self):\n",
    "        print(\"I can walk and run!\")\n",
    "\n",
    "class Monkey(Mammal):\n",
    "    def move(self):\n",
    "        print(\"I can walk, run and climb!\")"
   ]
  },
  {
   "cell_type": "code",
   "execution_count": null,
   "id": "ec401555-3e3b-4b06-b074-0586221f684c",
   "metadata": {},
   "outputs": [],
   "source": [
    "human = Human()\n",
    "human.move()\n",
    "\n",
    "monkey = Monkey()\n",
    "monkey.move()"
   ]
  },
  {
   "cell_type": "markdown",
   "id": "7517b0da-b6d2-4c47-9691-ac52f47922a2",
   "metadata": {},
   "source": [
    "## Default arguments for classes"
   ]
  },
  {
   "cell_type": "code",
   "execution_count": null,
   "id": "f63170bd-4f02-4196-8b77-2804e9fdd433",
   "metadata": {},
   "outputs": [],
   "source": [
    "class DateTime:\n",
    "    def __init__(self, year, month, day, hour=0, minute=0, second = 0):\n",
    "        self.year = year\n",
    "        self.month = month\n",
    "        self.day = day\n",
    "        self.hour = hour\n",
    "        self.minute = minute\n",
    "        self.second = second\n",
    "    def timeinfo(self):\n",
    "        print(f' Year is {self.year}, month is {self.month}, day is {self.day}, hour is {self.hour}, minute is {self.minute}, second is {self.second}')"
   ]
  },
  {
   "cell_type": "code",
   "execution_count": null,
   "id": "1026484f-ab62-4a85-80f6-4eaec42db8cf",
   "metadata": {},
   "outputs": [],
   "source": [
    "my_datetime = DateTime('2024', '02', '03')\n",
    "my_datetime.timeinfo()\n",
    "my_datetime = DateTime('2024', '02', '03', '20', '50', '13')\n",
    "my_datetime.timeinfo()"
   ]
  }
 ],
 "metadata": {
  "kernelspec": {
   "display_name": "Python 3 (ipykernel)",
   "language": "python",
   "name": "python3"
  },
  "language_info": {
   "codemirror_mode": {
    "name": "ipython",
    "version": 3
   },
   "file_extension": ".py",
   "mimetype": "text/x-python",
   "name": "python",
   "nbconvert_exporter": "python",
   "pygments_lexer": "ipython3",
   "version": "3.10.10"
  }
 },
 "nbformat": 4,
 "nbformat_minor": 5
}
