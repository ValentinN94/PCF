{
 "cells": [
  {
   "cell_type": "markdown",
   "id": "7cb1db9d-a128-48b5-bf18-fee803ac67d9",
   "metadata": {},
   "source": [
    "# Homework11. Intro to OOP"
   ]
  },
  {
   "cell_type": "markdown",
   "id": "81e720c4-e172-4aa6-8066-99fd65c54566",
   "metadata": {},
   "source": [
    "### Exercise 1"
   ]
  },
  {
   "cell_type": "markdown",
   "id": "498900be-6c58-486a-bd6a-d61c63d9b3c9",
   "metadata": {},
   "source": [
    "Create a class called Person with the following:  \n",
    "- 1 class attribute called instance_list  \n",
    "- 2 instance attributes called age and name  \n",
    "- 1 method called info which should print something like: “Dan is 25 years old”  \n",
    "  \n",
    "In the instance_list class attribute we will store all objects we create using the Person class.  \n",
    "Create the following objects after you’ve written the code for the class.  \n",
    "Person(25, ‘Dan’), Person(100, ‘Alex’), Person(40, ‘Doria’)  \n",
    "Display person info for each object. Afterwards check the instance_list class   attribute. What does it contain?  "
   ]
  },
  {
   "cell_type": "code",
   "execution_count": null,
   "id": "2627ca8f-4a5d-44f7-9b87-02db66b12afe",
   "metadata": {},
   "outputs": [],
   "source": [
    "#INSERT CODE HERE"
   ]
  },
  {
   "cell_type": "code",
   "execution_count": null,
   "id": "de040372-0c62-425f-a0fc-b62d12a88b53",
   "metadata": {},
   "outputs": [],
   "source": [
    "#TESTS FOR EXERCISE 1\n",
    "assert (len(Person.instance_list) == 3)"
   ]
  },
  {
   "cell_type": "markdown",
   "id": "c706a304-5d66-4659-97ae-9bcd6aa17ac7",
   "metadata": {},
   "source": [
    "### Exercise 2"
   ]
  },
  {
   "cell_type": "markdown",
   "id": "dfaed72b-683a-48ed-9d48-30c11b9148a2",
   "metadata": {},
   "source": [
    "Create a class called Student which inherits from Person and has the following:\n",
    "-  one additional instance attribute beside age and name called school  \n",
    "-  1 method called info which should print something like: “Eduard is 15 years old and attends Brittish School “.  \n",
    "Create the following objects after you’ve written the code for the class.  \n",
    "Student(15, ’Eduard’, “Brittish School”), Student(16, ‘Kate’, “CA Middle   Highschool”), Student(18, ‘Doris’, “MA Elementary”)  \n",
    "Display student info for each object. Afterwards check the Person instance_list class attribute. What does it contain?"
   ]
  },
  {
   "cell_type": "code",
   "execution_count": null,
   "id": "36770af4-2bcb-448f-9b17-83f0318a989c",
   "metadata": {},
   "outputs": [],
   "source": [
    "#INSERT CODE HERE\n"
   ]
  },
  {
   "cell_type": "code",
   "execution_count": null,
   "id": "6a280211-eaab-4336-b7d5-2176935294fe",
   "metadata": {},
   "outputs": [],
   "source": [
    "#TESTS FOR EXERCISE 2\n",
    "assert (len(Person.instance_list) == 6)"
   ]
  },
  {
   "cell_type": "markdown",
   "id": "76a74b4f-4919-4033-aeb0-512c325bb301",
   "metadata": {},
   "source": [
    "### Exercise 3"
   ]
  },
  {
   "cell_type": "markdown",
   "id": "77ca0386-e313-4226-a952-6f5f85493062",
   "metadata": {},
   "source": [
    "After having all the objects from the previous exercises, using polymorphism display the info for all of our objects in a for loop."
   ]
  },
  {
   "cell_type": "code",
   "execution_count": null,
   "id": "c69a9f43-5b91-4e29-8a20-fc922a270af7",
   "metadata": {},
   "outputs": [],
   "source": [
    "#INSERT CODE HERE"
   ]
  },
  {
   "cell_type": "markdown",
   "id": "7a766663-16be-47ef-a17b-7c5395a58db4",
   "metadata": {},
   "source": [
    "No tests for this exercise"
   ]
  }
 ],
 "metadata": {
  "kernelspec": {
   "display_name": "Python 3 (ipykernel)",
   "language": "python",
   "name": "python3"
  },
  "language_info": {
   "codemirror_mode": {
    "name": "ipython",
    "version": 3
   },
   "file_extension": ".py",
   "mimetype": "text/x-python",
   "name": "python",
   "nbconvert_exporter": "python",
   "pygments_lexer": "ipython3",
   "version": "3.10.10"
  }
 },
 "nbformat": 4,
 "nbformat_minor": 5
}
