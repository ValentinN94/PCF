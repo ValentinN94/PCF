{
 "cells": [
  {
   "cell_type": "markdown",
   "id": "d911d4e6-6c5b-4116-a23d-3b08f84151eb",
   "metadata": {},
   "source": [
    "# Homework5. Tuples"
   ]
  },
  {
   "cell_type": "markdown",
   "id": "8aa06c9b-d422-4c0c-b2e8-96e0da0b7318",
   "metadata": {},
   "source": [
    "### Exercise 1"
   ]
  },
  {
   "cell_type": "markdown",
   "id": "7ac35d1e-d711-45df-934a-e2f410cf8b0c",
   "metadata": {},
   "source": [
    "Create a function called __list_to_tuple__. The function will have one paramater which is the list it receives.  \n",
    "1.1 The function will apply the hash() function to every element in the list  \n",
    "1.2 The function will return a tuple with all the hashed elements  \n",
    "Inputs examples:   \n",
    "a. [1, 2, 3, 4, 'True', True, False ,'False', 0, 2.30, '']  \n",
    "b. [10, 10, 10, 10, 20, 20, 20, 30, 30, 40]  \n",
    "c. ['', ' ', '  ', '   ',]  \n",
    "d. ['!', '@', '#', '$', '%', '6', '7', '8', '9']  \n",
    "e. ['\\n', '\\t', '\\r']  \n",
    "Provide the output for the function for the inputs provided and also print the length of the provided list and the length of the resulted tuple."
   ]
  },
  {
   "cell_type": "code",
   "execution_count": null,
   "id": "0daf52b3-a9b0-48a6-a709-7d965fc1c95f",
   "metadata": {},
   "outputs": [],
   "source": [
    "#INSERT CODE HERE\n"
   ]
  },
  {
   "cell_type": "code",
   "execution_count": null,
   "id": "5ce5dc9d-8df3-4e4c-8d51-e65c8d318cf8",
   "metadata": {},
   "outputs": [],
   "source": [
    "#TESTS FOR EXERCISE 1\n",
    "assert (type(list_to_tuple([1, 2, 3, 4, \"True\", True, False, \"False\", 0, 2.30, \"\"])) == tuple)\n",
    "assert (type(list_to_tuple([10, 10, 10, 10, 20, 20, 20, 30, 30, 40])) == tuple)\n",
    "assert (type(list_to_tuple([\"\", \" \", \"  \", \"   \"])) == tuple)\n",
    "assert (type(list_to_tuple([\"!\", \"@\", \"#\", \"$\", \"%\", \"6\", \"7\", \"8\", \"9\"])) == tuple)\n",
    "assert (type(list_to_tuple([\"\\n\", \"\\t\", \"\\r\"])) == tuple)"
   ]
  },
  {
   "cell_type": "markdown",
   "id": "bacf43ae-ec3b-450c-8aec-b5a0c68444bc",
   "metadata": {},
   "source": [
    "# Exercise 2"
   ]
  },
  {
   "cell_type": "markdown",
   "id": "522ad337-3e28-4abc-85cb-076c618fe88b",
   "metadata": {},
   "source": [
    "You are given the following values: 10, 20, 30, 40. Create a tuple called __my_tup__ with them and afterwards reverse the tuple and store it in another variable called __my_tup_reversed__. You can use slicing or other python functionality to reverse the tuple."
   ]
  },
  {
   "cell_type": "code",
   "execution_count": null,
   "id": "a0388132-31f5-4c70-a2dc-f3a3a14be5ac",
   "metadata": {},
   "outputs": [],
   "source": [
    "#INSERT CODE HERE\n"
   ]
  },
  {
   "cell_type": "code",
   "execution_count": null,
   "id": "75b4d6e6-a916-45a6-9277-e33fe23e687a",
   "metadata": {},
   "outputs": [],
   "source": [
    "#TESTS FOR EXERCISE 2\n",
    "assert (my_tup == (10, 20, 30, 40))\n",
    "assert (my_tup_reversed == (40, 30, 20, 10))"
   ]
  },
  {
   "cell_type": "markdown",
   "id": "7a028ce3-8e6b-413c-a817-ae1278c75d5f",
   "metadata": {},
   "source": [
    "# Exercise 3"
   ]
  },
  {
   "cell_type": "markdown",
   "id": "4792c313-2a93-4658-a9f3-917b4e96605d",
   "metadata": {},
   "source": [
    "Create a tuple variable called __my_tup__ that only the value 50 inside. Print the type of the tuple created."
   ]
  },
  {
   "cell_type": "code",
   "execution_count": null,
   "id": "b30aea11-6b35-4f64-aa78-872c8e4ef72d",
   "metadata": {},
   "outputs": [],
   "source": [
    "#INSERT CODE HERE\n"
   ]
  },
  {
   "cell_type": "code",
   "execution_count": null,
   "id": "b3002a31-65ad-41b9-a93e-77ca912a28af",
   "metadata": {},
   "outputs": [],
   "source": [
    "assert (type(my_tup) == tuple)"
   ]
  },
  {
   "cell_type": "markdown",
   "id": "de06b3e9-ebac-4743-b511-d841299309fc",
   "metadata": {},
   "source": [
    "# Exercise 4"
   ]
  },
  {
   "cell_type": "markdown",
   "id": "23b8f4ac-7ab3-4aa7-b466-0399bd2ac3c3",
   "metadata": {},
   "source": [
    "Create 2 functions, the first one will be called __append_to_list__ and will have 2 parameters, the first one is a list and the second one is a tuple. The function will append the tuple to the list and return the list with all elements.\n",
    "The second function will be called __append_to_tuple__ and will have 2 parameters, the first one is the tuple and the second one is a list. The function will append the list to the tupple and will return the tuple with all elements."
   ]
  },
  {
   "cell_type": "code",
   "execution_count": null,
   "id": "bdbc53a7-fb50-4c1d-b02b-4e1c6d39cf9e",
   "metadata": {},
   "outputs": [],
   "source": [
    "#INSERT CODE HERE\n"
   ]
  },
  {
   "cell_type": "code",
   "execution_count": null,
   "id": "637e5995-c490-487d-8acf-d9cef24f27ac",
   "metadata": {},
   "outputs": [],
   "source": [
    "#TESTS FOR EXERCISE 4\n",
    "assert (append_to_list([1, 2, 3], (4, 5)) == [1, 2, 3, 4, 5])\n",
    "assert (append_to_tuple((1, 2, 3), [4, 5]) == (1, 2, 3, 4, 5))\n",
    "assert (type(append_to_list([1, 2, 3], (4, 5))) == list)\n",
    "assert (type(append_to_tuple((1, 2, 3), [4, 5])) == tuple)"
   ]
  },
  {
   "cell_type": "markdown",
   "id": "07a33c0d-f4d1-465a-952d-af26d409c258",
   "metadata": {},
   "source": [
    "# Exercise 5"
   ]
  },
  {
   "cell_type": "markdown",
   "id": "cc8c0c9b-d1e6-449b-b86f-ee06ef1d38d0",
   "metadata": {},
   "source": [
    "Given the following variable __my_tuple__: (1, 4, 5, 6, 1, 4)\n",
    "Write a function called __duplicate_check__ which checks if the tuple has duplicated values.  \n",
    "The function __duplicate_check__ has two parameters, the first one is the tuple with all elements and the second parameter is the element in the tuple we check to see if it has duplicates.\n",
    "Return __True__ if it does have dupplicates inside otherwise return __False__"
   ]
  },
  {
   "cell_type": "code",
   "execution_count": null,
   "id": "1708f6e4-52c6-4d69-8c05-28a4ae63f96f",
   "metadata": {},
   "outputs": [],
   "source": [
    "#INSERT CODE HERE\n",
    "\n",
    "    "
   ]
  },
  {
   "cell_type": "code",
   "execution_count": null,
   "id": "fa3f0a21-e267-4d8b-92f8-1b5dae7cbb4e",
   "metadata": {},
   "outputs": [],
   "source": [
    "#TESTS FOR EXERCISE 5\n",
    "assert (duplicate_check((1, 4, 5, 6, 1, 4), 1) == True)\n",
    "assert (duplicate_check((1, 2, 3, 4, 5, 6), 1) == False)"
   ]
  }
 ],
 "metadata": {
  "kernelspec": {
   "display_name": "Python 3 (ipykernel)",
   "language": "python",
   "name": "python3"
  },
  "language_info": {
   "codemirror_mode": {
    "name": "ipython",
    "version": 3
   },
   "file_extension": ".py",
   "mimetype": "text/x-python",
   "name": "python",
   "nbconvert_exporter": "python",
   "pygments_lexer": "ipython3",
   "version": "3.12.4"
  }
 },
 "nbformat": 4,
 "nbformat_minor": 5
}
