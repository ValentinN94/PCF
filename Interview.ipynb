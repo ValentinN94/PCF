{
 "cells": [
  {
   "cell_type": "markdown",
   "id": "a8b87bc0-030e-4b6d-bf02-fdee8df1a2f5",
   "metadata": {},
   "source": [
    "# Interview Topics"
   ]
  },
  {
   "cell_type": "markdown",
   "id": "e43b1c25-ac9f-4988-8652-73e01a201e08",
   "metadata": {},
   "source": [
    "### Generic python knowledge"
   ]
  },
  {
   "cell_type": "markdown",
   "id": "c29a589a-b877-49ea-bdf8-320743b94425",
   "metadata": {},
   "source": [
    "1. Difference between tuples and lists"
   ]
  },
  {
   "cell_type": "markdown",
   "id": "d543dfab-9342-428c-a06e-f7321a353719",
   "metadata": {},
   "source": [
    "2. You have a function which returns a list, what would the replacement of keyword return with keyword yield do?"
   ]
  },
  {
   "cell_type": "markdown",
   "id": "39b502d7-3ea1-4f36-bbcb-59ec656115aa",
   "metadata": {},
   "source": [
    "3. What are decorators in python and how do you declare one?"
   ]
  },
  {
   "cell_type": "markdown",
   "id": "e8bf0326-6e79-4574-ac7a-b5c351bdd712",
   "metadata": {},
   "source": [
    "4. The difference between is and =="
   ]
  },
  {
   "cell_type": "code",
   "execution_count": 3,
   "id": "6f516731-76e9-4810-860e-f3c552c37841",
   "metadata": {},
   "outputs": [
    {
     "name": "stdout",
     "output_type": "stream",
     "text": [
      "True\n",
      "False\n"
     ]
    }
   ],
   "source": [
    "#4. Practical exemple\n",
    "a = 'hi'\n",
    "b = 'hi'\n",
    "print(a is b)\n",
    "c = 'hello, this is from santa'\n",
    "d = 'hello, this is from santa'\n",
    "print(c is d)"
   ]
  },
  {
   "cell_type": "code",
   "execution_count": 4,
   "id": "b2ffd885-9a5f-47e4-92e5-b0909fa85067",
   "metadata": {},
   "outputs": [
    {
     "name": "stdout",
     "output_type": "stream",
     "text": [
      "a is palindrome\n"
     ]
    }
   ],
   "source": [
    "#5. Write a function which check if a string is a palindrome\n",
    "\n",
    "a = 'racecar'\n",
    "\n",
    "if a == a[::-1]:\n",
    "    print('a is palindrome')"
   ]
  },
  {
   "cell_type": "code",
   "execution_count": null,
   "id": "7f3b1514-88da-4c47-9b39-ec7c4cce1559",
   "metadata": {},
   "outputs": [],
   "source": [
    "#6. You are given the following list, remove duplicates from it."
   ]
  },
  {
   "cell_type": "code",
   "execution_count": null,
   "id": "5759feac-bfc8-4780-aaa1-c0b495131076",
   "metadata": {},
   "outputs": [],
   "source": [
    "#7. Write a algorithm which converts and integer to binary (Embedded inteview)"
   ]
  },
  {
   "cell_type": "code",
   "execution_count": null,
   "id": "960b7c7d-a618-45ac-9283-786115d7acec",
   "metadata": {},
   "outputs": [],
   "source": [
    "#8. Shiftare de biti (Embedded interview)"
   ]
  },
  {
   "cell_type": "code",
   "execution_count": null,
   "id": "d8e231c6-0719-4ba3-9d51-811235293f8f",
   "metadata": {},
   "outputs": [],
   "source": [
    "pyATS"
   ]
  }
 ],
 "metadata": {
  "kernelspec": {
   "display_name": "Python 3 (ipykernel)",
   "language": "python",
   "name": "python3"
  },
  "language_info": {
   "codemirror_mode": {
    "name": "ipython",
    "version": 3
   },
   "file_extension": ".py",
   "mimetype": "text/x-python",
   "name": "python",
   "nbconvert_exporter": "python",
   "pygments_lexer": "ipython3",
   "version": "3.10.10"
  }
 },
 "nbformat": 4,
 "nbformat_minor": 5
}
