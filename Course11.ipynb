{
 "cells": [
  {
   "cell_type": "markdown",
   "id": "f91aa3f7-91d1-409e-bd8d-5c9866448426",
   "metadata": {},
   "source": [
    "# Intro to OOP(Object oriented programming)"
   ]
  },
  {
   "cell_type": "markdown",
   "id": "d9d0d6fd-90e3-44e9-9614-87b2a177932e",
   "metadata": {},
   "source": [
    "## Classes"
   ]
  },
  {
   "cell_type": "markdown",
   "id": "a9eb1a10-e4a1-424a-8a84-355239967290",
   "metadata": {},
   "source": [
    "- A class is a blueprint for how a instance of a class(object) should behave(methods) and what attributes(properties) it has\n",
    "- Attributes: name, age, color\n",
    "- Methods: run, swim, calculate"
   ]
  },
  {
   "cell_type": "code",
   "execution_count": null,
   "id": "5fe87e8c-1d14-4b2c-80d2-a779514fe23e",
   "metadata": {},
   "outputs": [],
   "source": [
    "#Empty class containing a placeholder\n",
    "class Laptop:\n",
    "    pass\n",
    "\n",
    "print(Laptop)"
   ]
  },
  {
   "cell_type": "code",
   "execution_count": null,
   "id": "cb8b53d6-5d07-4982-a405-44a739abd1b6",
   "metadata": {},
   "outputs": [],
   "source": [
    "#Class with properties and methods\n",
    "class Laptop:\n",
    "    model = 'Asus'\n",
    "    os = 'Windows10'\n",
    "    color = 'Black'\n",
    "    def start():\n",
    "        print('Laptop is starting')\n",
    "    def stop():\n",
    "        print('Laptop is shutting down')"
   ]
  },
  {
   "cell_type": "code",
   "execution_count": null,
   "id": "c1900ccb-fa25-4ff6-9e03-cd4da74ef1b2",
   "metadata": {},
   "outputs": [],
   "source": [
    "print(Laptop.model)\n",
    "print(Laptop.os)\n",
    "print(Laptop.color)\n",
    "Laptop.start()\n",
    "Laptop.stop()"
   ]
  },
  {
   "cell_type": "markdown",
   "id": "54f93881-d776-46be-b758-2a68737360ed",
   "metadata": {},
   "source": [
    "## Instances"
   ]
  },
  {
   "cell_type": "markdown",
   "id": "930656bb-bb05-48b5-91b4-17d8bdd3ff5e",
   "metadata": {},
   "source": [
    "- An instance is similar to creating a variable by assigning a type \n",
    "- In our case the assignment of the variable name is done to our Class\n",
    "- The instance is also known as an object of the class"
   ]
  },
  {
   "cell_type": "code",
   "execution_count": null,
   "id": "70bd2a7f-5a3b-4fa9-aef8-11ce2813f6b2",
   "metadata": {},
   "outputs": [],
   "source": [
    "class Laptop:\n",
    "    def __init__(self, model, os, color):\n",
    "        self.model = model\n",
    "        self.os = os\n",
    "        self.color = color\n",
    "    def info(self):\n",
    "        print(f'Laptop has {self.model} model, {self.os} os and {self.color} color')"
   ]
  },
  {
   "cell_type": "code",
   "execution_count": null,
   "id": "931a6e98-561b-4842-80f4-abef7932a908",
   "metadata": {},
   "outputs": [],
   "source": [
    "my_laptop = Laptop('Thinkpad', 'Linux', 'Green')\n",
    "print(my_laptop)\n",
    "print(my_laptop.info())"
   ]
  },
  {
   "cell_type": "code",
   "execution_count": null,
   "id": "41d33b6f-f75a-4a01-890f-4ef06f724b2f",
   "metadata": {},
   "outputs": [],
   "source": [
    "my_laptop2 = Laptop('Macbook', 'MacOS', 'Grey')\n",
    "print(my_laptop2)\n",
    "print(my_laptop2.info())"
   ]
  },
  {
   "cell_type": "markdown",
   "id": "42d21f31-768f-452f-8381-da35149b89ae",
   "metadata": {},
   "source": [
    "## Class properties vs Instance properties"
   ]
  },
  {
   "cell_type": "markdown",
   "id": "4b9cbfdc-9147-4050-94e1-e3b5599dafe8",
   "metadata": {},
   "source": [
    "- Class properties are the variables defined in the class at the topmost level\n",
    "- Instance properties are the variables defined in the __init__ function\n",
    "- Class properties are shared among instances, meanwhile instance properties are specific for each instance"
   ]
  },
  {
   "cell_type": "code",
   "execution_count": null,
   "id": "59fe89bd-778f-4d0c-a6aa-8c2ddc76a4af",
   "metadata": {},
   "outputs": [],
   "source": [
    "class Laptop:\n",
    "    obj_counter = 0\n",
    "    def __init__(self, model, os, color):\n",
    "        self.model = model\n",
    "        self.os = os\n",
    "        self.color = color\n",
    "        Laptop.obj_counter += 1\n",
    "\n",
    "print(Laptop.obj_counter)"
   ]
  },
  {
   "cell_type": "code",
   "execution_count": null,
   "id": "9e33446b-dedb-4838-8507-7e7082336d25",
   "metadata": {},
   "outputs": [],
   "source": [
    "my_laptop = Laptop('Thinkpad', 'Linux', 'Black')\n",
    "print(my_laptop)\n",
    "print(my_laptop.model)\n",
    "print(my_laptop.os)\n",
    "print(my_laptop.color)\n",
    "print(my_laptop.obj_counter)"
   ]
  },
  {
   "cell_type": "code",
   "execution_count": null,
   "id": "31d98ad0-50d9-42c3-9d4f-80462ee3a87c",
   "metadata": {},
   "outputs": [],
   "source": [
    "my_laptop2 = Laptop('Asus', 'Windows', 'Grey')\n",
    "print(my_laptop2.model)\n",
    "print(my_laptop2.os)\n",
    "print(my_laptop2.color)\n",
    "print(my_laptop2.obj_counter)\n",
    "print(Laptop.obj_counter)\n",
    "print(my_laptop.obj_counter)"
   ]
  },
  {
   "cell_type": "markdown",
   "id": "96c6957e-6dbc-4c5a-8b98-9cc3a8b6edad",
   "metadata": {},
   "source": [
    "## Inheritance"
   ]
  },
  {
   "cell_type": "markdown",
   "id": "f52ee103-02da-4d47-8492-3120ca4a5d04",
   "metadata": {},
   "source": [
    "- Allows a class to inherit all methods and attributes of another class\n",
    "- Parent class is called the class from which we inherit \n",
    "- Child class is called the class which inherits from parent class"
   ]
  },
  {
   "cell_type": "code",
   "execution_count": null,
   "id": "b9cee0c3-9010-407a-8678-544a79e38298",
   "metadata": {},
   "outputs": [],
   "source": [
    "class Electronics:\n",
    "    def __init__(self, status, battery):\n",
    "        self.status = status\n",
    "        self.battery = battery\n",
    "    def turn_on(self):\n",
    "        self.status = 1\n",
    "    def turn_off(self):\n",
    "        self.status = 0\n",
    "\n",
    "e = Electronics(0, 70)\n",
    "print(e.status)\n",
    "print(e.battery)"
   ]
  },
  {
   "cell_type": "code",
   "execution_count": null,
   "id": "19de6c9a-156a-4f31-92c4-b103159657f1",
   "metadata": {},
   "outputs": [],
   "source": [
    "e.turn_on()\n",
    "print(e.status)\n",
    "e.turn_off()\n",
    "print(e.status)"
   ]
  },
  {
   "cell_type": "code",
   "execution_count": null,
   "id": "08e293b5-9a58-4dd5-b57b-21f4dc86c1c2",
   "metadata": {},
   "outputs": [],
   "source": [
    "class Laptop(Electronics):\n",
    "    def __init__(self, status, battery, model, os, color):\n",
    "        super().__init__(status, battery)\n",
    "        self.model = model\n",
    "        self.os = os\n",
    "        self.color = color\n",
    "\n",
    "    def __asd(self):\n",
    "        super().turn_on()\n",
    "\n",
    "my_laptop = Laptop(0, 90, \"Lenovo\", 'Windows', \"Black\")\n",
    "#my_laptop = Laptop(90, \"Lenovo\", 'Windows', \"Black\")"
   ]
  },
  {
   "cell_type": "code",
   "execution_count": null,
   "id": "3e3e0651-51dc-4be3-89a5-fa06d9a225f9",
   "metadata": {},
   "outputs": [],
   "source": [
    "print(my_laptop.status)\n",
    "my_laptop.__asd()\n",
    "print(my_laptop.status)\n",
    "my_laptop.turn_off()\n",
    "print(my_laptop.status)\n"
   ]
  },
  {
   "cell_type": "markdown",
   "id": "e4021392-c5f8-4121-9730-d7ecbe8d47f0",
   "metadata": {},
   "source": [
    "## Polymorphism"
   ]
  },
  {
   "cell_type": "markdown",
   "id": "0b256a9d-f358-4ba7-8afb-2dc512c97e25",
   "metadata": {},
   "source": [
    "- The word \"polymorphism\" means \"many forms\" and in programming it refers to methods/functions/operators \n",
    "with the same name that can be executed on many objects or classes\n",
    "- For example the len function\n",
    "- For our example we can think that all electronics object have a turn_on methods which can have different behaviour for specific subclassed object(laptop, smartphone)"
   ]
  },
  {
   "cell_type": "code",
   "execution_count": null,
   "id": "075bb8a4-e224-43e8-8c29-2b613648530d",
   "metadata": {},
   "outputs": [],
   "source": [
    "class India():\n",
    "    def capital(self):\n",
    "        print(\"New Delhi is the capital of India.\")\n",
    " \n",
    "    def language(self):\n",
    "        print(\"Hindi is the most widely spoken language of India.\")\n",
    " \n",
    "    def type(self):\n",
    "        print(\"India is a developing country.\")"
   ]
  },
  {
   "cell_type": "code",
   "execution_count": null,
   "id": "131f41fd-1da9-4716-9138-1f3a189143d9",
   "metadata": {},
   "outputs": [],
   "source": [
    "class USA():\n",
    "    def capital(self):\n",
    "        print(\"Washington, D.C. is the capital of USA.\")\n",
    " \n",
    "    def language(self):\n",
    "        print(\"English is the primary language of USA.\")\n",
    " \n",
    "    def type(self):\n",
    "        print(\"USA is a developed country.\")"
   ]
  },
  {
   "cell_type": "code",
   "execution_count": null,
   "id": "55271733-50e1-4206-a03b-8b76c2e4fb00",
   "metadata": {},
   "outputs": [],
   "source": [
    "obj_ind = India()\n",
    "obj_usa = USA()\n",
    "for country in (obj_ind, obj_usa):\n",
    "    country.capital()\n",
    "    country.language()\n",
    "    country.type()"
   ]
  }
 ],
 "metadata": {
  "kernelspec": {
   "display_name": "Python 3 (ipykernel)",
   "language": "python",
   "name": "python3"
  },
  "language_info": {
   "codemirror_mode": {
    "name": "ipython",
    "version": 3
   },
   "file_extension": ".py",
   "mimetype": "text/x-python",
   "name": "python",
   "nbconvert_exporter": "python",
   "pygments_lexer": "ipython3",
   "version": "3.10.10"
  }
 },
 "nbformat": 4,
 "nbformat_minor": 5
}
