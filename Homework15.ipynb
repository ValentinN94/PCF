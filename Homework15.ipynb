{
 "cells": [
  {
   "cell_type": "markdown",
   "id": "a8d4e7e7-ed7a-430d-b8df-58a864d98b8d",
   "metadata": {},
   "source": [
    "# Homework15. Syntactic Sugar"
   ]
  },
  {
   "cell_type": "markdown",
   "id": "a58b4281-2f1f-4312-86c5-40c7c125738b",
   "metadata": {},
   "source": [
    "#### Note: No tests for this homework since it would be hard to assert an anonymous functions"
   ]
  },
  {
   "cell_type": "markdown",
   "id": "f883593a-1438-44e6-913f-9089b94dc84d",
   "metadata": {},
   "source": [
    "### Exercise 1"
   ]
  },
  {
   "cell_type": "markdown",
   "id": "d68e065a-4d00-4434-9d04-1fc0ecbe7575",
   "metadata": {},
   "source": [
    "Write a Python algoritm to filter a list of integers using Lambda.  \n",
    "Original list of integers:  \n",
    "[1, 2, 3, 4, 5, 6, 7, 8, 9, 10]  \n",
    "Even numbers from the said list:  \n",
    "[2, 4, 6, 8, 10]  \n",
    "Odd numbers from the said list:  \n",
    "[1, 3, 5, 7, 9]   "
   ]
  },
  {
   "cell_type": "code",
   "execution_count": null,
   "id": "d63b71f2-3e61-4670-b878-39ae1b66bf0b",
   "metadata": {},
   "outputs": [],
   "source": [
    "#INSERT CODE HERE"
   ]
  },
  {
   "cell_type": "markdown",
   "id": "a5aced4e-2204-4965-9046-c0c8f0d20b49",
   "metadata": {},
   "source": [
    "### Exercise 2"
   ]
  },
  {
   "cell_type": "markdown",
   "id": "808cdeaf-37e0-4059-86c9-a43ca0c1ec69",
   "metadata": {},
   "source": [
    "Write a Python algoritm to add two given lists using map and lambda.  \n",
    "Original list:  \n",
    "[1, 2, 3]  \n",
    "[4, 5, 6]  \n",
    "Result: after adding two list  \n",
    "[5, 7, 9]   "
   ]
  },
  {
   "cell_type": "code",
   "execution_count": null,
   "id": "0de905cf-39f1-4870-aca6-496e249fdd8a",
   "metadata": {},
   "outputs": [],
   "source": [
    "#INSERT CODE HERE"
   ]
  },
  {
   "cell_type": "markdown",
   "id": "d1321756-cc32-4895-8063-9245aa1e322e",
   "metadata": {},
   "source": [
    "### Exercise 3"
   ]
  },
  {
   "cell_type": "markdown",
   "id": "b60deeee-3e59-4efa-bbd5-394b45c2db10",
   "metadata": {},
   "source": [
    "Write a Python algoritm to find numbers divisible by nineteen or thirteen from a list of numbers using Lambda.  \n",
    "Orginal list:  \n",
    "[19, 65, 57, 39, 152, 639, 121, 44, 90, 190]  \n",
    "Numbers of the above list divisible by nineteen or thirteen:  \n",
    "[19, 65, 57, 39, 152, 190]   "
   ]
  },
  {
   "cell_type": "code",
   "execution_count": null,
   "id": "58b30e7c-5864-4392-acc0-192c55878a70",
   "metadata": {},
   "outputs": [],
   "source": [
    "#INSERT CODE HERE"
   ]
  },
  {
   "cell_type": "markdown",
   "id": "db3e41d0-6f32-4d0e-ad8c-1b9b367d2f20",
   "metadata": {},
   "source": [
    "### Exercise 4"
   ]
  },
  {
   "cell_type": "markdown",
   "id": "820011b8-a724-4537-b699-60ad0751ff7e",
   "metadata": {},
   "source": [
    "Write a Python algoritm to find palindromes in a given list of strings using Lambda.  \n",
    "Orginal list of strings:  \n",
    "['php', 'w3r', 'Python', 'abcd', 'Java', 'aaa']  \n",
    "List of palindromes:  \n",
    "['php', 'aaa']  "
   ]
  },
  {
   "cell_type": "code",
   "execution_count": null,
   "id": "e2268727-0185-4261-9c4b-3aa4305ff547",
   "metadata": {},
   "outputs": [],
   "source": [
    "#INSERT CODE HERE"
   ]
  },
  {
   "cell_type": "markdown",
   "id": "f34eddc7-7223-48af-a3b3-92ce87225a87",
   "metadata": {},
   "source": [
    "### Exercise 5"
   ]
  },
  {
   "cell_type": "markdown",
   "id": "3e0099bf-6b4e-4108-a040-d736e3f9289f",
   "metadata": {},
   "source": [
    "You are given the following list: fruits = ['mango', 'kiwi', 'strawberry', 'apple', 'pineapple', 'orange']  \n",
    "a. Create a list comprehension which should contain all fruits strings but they should be capitalized.  \n",
    "b. Create a list comprehension which should contain all fruits that are made from 5 characters  \n",
    "c. Create a list comprehension which should contain the number of character of each fruit from the list  "
   ]
  },
  {
   "cell_type": "code",
   "execution_count": null,
   "id": "02b539e6-eb3a-46cf-8a9a-669792b229dc",
   "metadata": {},
   "outputs": [],
   "source": [
    "#INSERT CODE HERE"
   ]
  },
  {
   "cell_type": "markdown",
   "id": "b7bac5d2-495e-493b-a3ce-ccd8e7e76a57",
   "metadata": {},
   "source": [
    "### Exercise 6"
   ]
  },
  {
   "cell_type": "markdown",
   "id": "43ca68d0-eb95-4678-b5fc-7f1ac9a2881a",
   "metadata": {},
   "source": [
    "For the following list [100, 110, 120, 130, 140, 150, 160] create a dict comprehension where the element from the list is the key and the value is the element divided by 100."
   ]
  },
  {
   "cell_type": "code",
   "execution_count": null,
   "id": "24764671-8b22-463f-b6df-09c3dc12ff09",
   "metadata": {},
   "outputs": [],
   "source": [
    "#INSERT CODE HERE"
   ]
  },
  {
   "cell_type": "markdown",
   "id": "a7dfaf4d-4523-4516-aa38-54059bb157af",
   "metadata": {},
   "source": [
    "### Exercise 7"
   ]
  },
  {
   "cell_type": "markdown",
   "id": "d846844a-72a9-4ffd-94e3-6df37ad7e445",
   "metadata": {},
   "source": [
    "Using a set comprehension remove duplicates from the following list: [1, 2, 1, 3, 4, 1, 2, 3, 5, 6, 7, 8, 2, 1, 3, 5, 0, 9]"
   ]
  },
  {
   "cell_type": "code",
   "execution_count": null,
   "id": "9649b223-b462-49d3-8e72-3b6dee868a65",
   "metadata": {},
   "outputs": [],
   "source": [
    "#INSERT CODE HERE"
   ]
  }
 ],
 "metadata": {
  "kernelspec": {
   "display_name": "Python 3 (ipykernel)",
   "language": "python",
   "name": "python3"
  },
  "language_info": {
   "codemirror_mode": {
    "name": "ipython",
    "version": 3
   },
   "file_extension": ".py",
   "mimetype": "text/x-python",
   "name": "python",
   "nbconvert_exporter": "python",
   "pygments_lexer": "ipython3",
   "version": "3.10.10"
  }
 },
 "nbformat": 4,
 "nbformat_minor": 5
}
