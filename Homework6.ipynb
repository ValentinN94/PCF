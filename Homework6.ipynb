{
 "cells": [
  {
   "cell_type": "markdown",
   "id": "6ea6fed7-5913-4335-a53e-4178137b082a",
   "metadata": {},
   "source": [
    "# Homework6. Sets"
   ]
  },
  {
   "cell_type": "markdown",
   "id": "c92f3499-f783-4b72-90ad-6fe1045eae58",
   "metadata": {},
   "source": [
    "# Exercise 1"
   ]
  },
  {
   "cell_type": "markdown",
   "id": "6a736e82-de1f-4984-9cb0-5ab4a6b26144",
   "metadata": {},
   "source": [
    "Create a function called __list_to_set__. The function will have one paramater which is the list it receives.  \n",
    "1.1 The function will apply the hash() function to every element in the list  \n",
    "1.2 The function will return a set with all the hashed elements  \n",
    "Inputs examples:   \n",
    "a. [1, 2, 3, 4, 'True', True, False ,'False', 0, 2.30, '']  \n",
    "b. [10, 10, 10, 10, 20, 20, 20, 30, 30, 40]  \n",
    "c. ['', ' ', '  ', '   ',]  \n",
    "d. ['!', '@', '#', '$', '%', '6', '7', '8', '9']  \n",
    "e. ['\\n', '\\t', '\\r']  \n",
    "Provide the output for the function for the inputs provided and also print the length of the provided list and the length of the resulted set."
   ]
  },
  {
   "cell_type": "code",
   "execution_count": null,
   "id": "d5e0dd4a-d9a3-46f8-9e10-2235c0c5eca4",
   "metadata": {},
   "outputs": [],
   "source": [
    "#INSERT CODE HERE\n"
   ]
  },
  {
   "cell_type": "code",
   "execution_count": null,
   "id": "ae650026-c727-42ca-88f0-9139725b6086",
   "metadata": {},
   "outputs": [],
   "source": [
    "#TESTS FOR EXERCISE 1\n",
    "assert (type(list_to_set([1, 2, 3, 4, \"True\", True, False, \"False\", 0, 2.30, \"\"])) == set)\n",
    "assert (type(list_to_set([10, 10, 10, 10, 20, 20, 20, 30, 30, 40])) == set)\n",
    "assert (type(list_to_set([\"\", \" \", \"  \", \"   \"])) == set)\n",
    "assert (type(list_to_set([\"!\", \"@\", \"#\", \"$\", \"%\", \"6\", \"7\", \"8\", \"9\"])) == set)\n",
    "assert (type(list_to_set([\"\\n\", \"\\t\", \"\\r\"])) == set)"
   ]
  },
  {
   "cell_type": "markdown",
   "id": "1fda93cb-ef71-442c-8433-dba2512e07b0",
   "metadata": {},
   "source": [
    "# Exercise 2"
   ]
  },
  {
   "cell_type": "markdown",
   "id": "a4a2b038-22d5-4c63-8b3e-f856a1a0985c",
   "metadata": {},
   "source": [
    "Given the following set: {“red”, “green”, “blue”}.      \n",
    "Create a function called __add_remove_set__ with 2 parameters. The first one is a boolean and the second parameter is a string. If the first parameter is true it will add an element to our set, if it’s false it will remove the element from our set. The second parameter will be the string we want to add to our set. The function will print the elements in our set after every add or remove operation.\n",
    "For this exercise invoke the function with the following parameters:\n",
    "add_remove_set(True, “yellow”)\n",
    "add_remove_set(True, “blue”)\n",
    "add_remove_set(False, “red”)\n",
    "add_remove_set(False, “green”)"
   ]
  },
  {
   "cell_type": "code",
   "execution_count": null,
   "id": "38eb97b9-47ca-4b9f-a055-a3efa1ce1094",
   "metadata": {},
   "outputs": [],
   "source": [
    "#INSERT CODE HERE\n"
   ]
  },
  {
   "cell_type": "markdown",
   "id": "67d47440-5719-4e45-afcc-2cedd1f06dd9",
   "metadata": {},
   "source": [
    "No tests for this exercise"
   ]
  },
  {
   "cell_type": "markdown",
   "id": "dcc21ede-2fd1-49c2-8127-b99fe145c54d",
   "metadata": {},
   "source": [
    "# Exercise 3"
   ]
  },
  {
   "cell_type": "markdown",
   "id": "bdbb1f7d-e533-4f0f-b9ed-45b8b74a99d2",
   "metadata": {},
   "source": [
    "Given the following list: [1, 4, 5, 6, 1, 4]\n",
    "Write a function called __remove__duplicate__ which removes duplicates from a list and returns a list without duplicates. Our function receives one parameter which is the list of duplicates."
   ]
  },
  {
   "cell_type": "code",
   "execution_count": null,
   "id": "49ec7168-451b-4c97-ba4e-a516e57c882d",
   "metadata": {},
   "outputs": [],
   "source": [
    "#INSERT CODE HERE\n"
   ]
  },
  {
   "cell_type": "code",
   "execution_count": null,
   "id": "35c73c8c-242f-412b-8427-84799b54ac71",
   "metadata": {},
   "outputs": [],
   "source": [
    "#TESTS FOR EXERCISE 3\n",
    "assert (remove_duplicate([1, 4, 5, 6, 1, 4]) == [1, 4, 5, 6])"
   ]
  },
  {
   "cell_type": "markdown",
   "id": "b75c0ad9-f86a-4825-b644-b1f76bf50971",
   "metadata": {},
   "source": [
    "# Exercise 4"
   ]
  },
  {
   "cell_type": "markdown",
   "id": "94c68459-36af-4cc4-bba1-430807a1d98a",
   "metadata": {},
   "source": [
    "Create a function called __set_operations__ which has 3 parameters. First param will be a string describing which operation we want(union, difference, intersection). The second parameter will be the first set and the last parameter will be the second set. Based on our choice of parameter one value, we will do a union, difference and intersection between set1, set2 and set3, set4.\n",
    "Sets to use for this exercise:  \n",
    "__set1__ = {1 2 3 4 5 6 7 8 9}  \n",
    "__set2__ = {10 1 2 3 11 21 55 6 8}  \n",
    "__set3__ = {‘blue’, ‘green’, ‘teal’, ‘yellow’}  \n",
    "__set4__ = {‘blue’, ‘green’}  "
   ]
  },
  {
   "cell_type": "code",
   "execution_count": null,
   "id": "29227847-db07-4aaa-a894-58140ae28276",
   "metadata": {},
   "outputs": [],
   "source": [
    "#INSERT CODE HERE\n"
   ]
  },
  {
   "cell_type": "code",
   "execution_count": null,
   "id": "d7acde0f-6279-41c8-bd67-b7ddfc6b917d",
   "metadata": {},
   "outputs": [],
   "source": [
    "# TESTS FOR EXERCISE 4\n",
    "assert (set_operations(\"union\", set1, set2) == {1, 2, 3, 4, 5, 6, 7, 8, 9, 10, 11, 21, 55})\n",
    "assert (set_operations(\"union\", set3, set4) == {'green', 'blue', 'teal', 'yellow'})\n",
    "assert (set_operations(\"difference\", set_1, set_2) == {9, 4, 5, 7})\n",
    "assert (set_operations(\"difference\", set_3, set_4) == {'teal', 'yellow'})\n",
    "assert (set_operations(\"intersection\", set_1, set_2) == {1, 2, 3, 6, 8})\n",
    "assert (set_operations(\"intersection\", set_3, set_4) == {'green', 'blue'})"
   ]
  }
 ],
 "metadata": {
  "kernelspec": {
   "display_name": "Python 3 (ipykernel)",
   "language": "python",
   "name": "python3"
  },
  "language_info": {
   "codemirror_mode": {
    "name": "ipython",
    "version": 3
   },
   "file_extension": ".py",
   "mimetype": "text/x-python",
   "name": "python",
   "nbconvert_exporter": "python",
   "pygments_lexer": "ipython3",
   "version": "3.12.4"
  }
 },
 "nbformat": 4,
 "nbformat_minor": 5
}
