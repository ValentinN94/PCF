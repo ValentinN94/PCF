{
 "cells": [
  {
   "cell_type": "markdown",
   "id": "93147e89-2de9-4451-829b-ade1ba50f4fe",
   "metadata": {},
   "source": [
    "# Homework2. String functions"
   ]
  },
  {
   "cell_type": "markdown",
   "id": "a51a0e3b-614b-4fb6-a636-4aa2aa7b3b80",
   "metadata": {},
   "source": [
    "### Exercise 1"
   ]
  },
  {
   "cell_type": "markdown",
   "id": "911cab2e-8913-4a94-a918-d1dfe935258c",
   "metadata": {},
   "source": [
    "You are given the following variable:\n",
    "__full_name__ = __'john doe'__\n",
    "Using the String functions, slicing, indexing and other string properties, create another variable __full_name_capitalized__ which should contains the 'John Doe' string."
   ]
  },
  {
   "cell_type": "code",
   "execution_count": null,
   "id": "8b380721-1234-432c-b157-f27707aff8bb",
   "metadata": {},
   "outputs": [],
   "source": [
    "# INSERT YOUR CODE HERE\n"
   ]
  },
  {
   "cell_type": "code",
   "execution_count": null,
   "id": "119d537b-1e9d-4db1-b2ab-e2575bf2beb3",
   "metadata": {},
   "outputs": [],
   "source": [
    "# TESTS FOR EXERCISE 1, DO NOT MODIFY\n",
    "assert (full_name_capitalize == 'John Doe')\n",
    "assert (type(full_name_capitalized) == str)"
   ]
  },
  {
   "cell_type": "markdown",
   "id": "7ea163ad-4efb-4287-a492-e253bd49d2b8",
   "metadata": {},
   "source": [
    "### Exercise 2"
   ]
  },
  {
   "cell_type": "markdown",
   "id": "bd0c050b-0429-47e5-bc80-c0694fd27578",
   "metadata": {},
   "source": [
    "You are given the following variables:\n",
    "__firstname__ = __'George'__ , __lastname__ = __'Constanza'__\n",
    "Print the following line using formatted strings: __Hello George Constanza!__"
   ]
  },
  {
   "cell_type": "code",
   "execution_count": null,
   "id": "4a2c1d92-9b6b-4e43-8bae-77d9a137e315",
   "metadata": {},
   "outputs": [],
   "source": [
    "# INSERT YOUR CODE HERE\n"
   ]
  },
  {
   "cell_type": "markdown",
   "id": "d7c32707-d76c-4959-87d5-ab4a3a92cd54",
   "metadata": {},
   "source": [
    "This exercise does not have a test, make sure the print statement output matches the exercise description"
   ]
  },
  {
   "cell_type": "markdown",
   "id": "5c5e403f-fcee-4628-aa05-80bead88b326",
   "metadata": {},
   "source": [
    "### Exercise 3"
   ]
  },
  {
   "cell_type": "markdown",
   "id": "6a7ddfc8-0b4e-4afc-9233-426f8ec0562b",
   "metadata": {},
   "source": [
    "You are given the following string: __my_var__ = __'This One is EASY!'__\n",
    "Transform this string using string functions into: __'tHIS oNE IS easy!'__"
   ]
  },
  {
   "cell_type": "code",
   "execution_count": null,
   "id": "aafd547a-3db9-4728-a5a9-bb48da2c99d7",
   "metadata": {},
   "outputs": [],
   "source": [
    "# INSERT YOUR CODE HERE\n"
   ]
  },
  {
   "cell_type": "code",
   "execution_count": null,
   "id": "0c351a3f-d151-43c9-81ee-ab1954b7d3ad",
   "metadata": {},
   "outputs": [],
   "source": [
    "# TESTS FOR EXERCISE 3, DO NOT MODIFY\n",
    "assert (my_var == 'tHIS oNE IS easy!')\n",
    "assert (type(my_var) == str)"
   ]
  },
  {
   "cell_type": "markdown",
   "id": "ffc37651-adee-43c2-97eb-e77ec4c4547d",
   "metadata": {},
   "source": [
    "### Exercise 4"
   ]
  },
  {
   "cell_type": "markdown",
   "id": "41465289-79fb-48fd-853a-ae61575ff90e",
   "metadata": {},
   "source": [
    "Define 3 variables with the following names and provide values for them: __name__, __age__, __height__.\n",
    "Create a concatenated string variable called __sentance__ which includes the previous variables with the following text:\n",
    "“Hello my name is __name__, I’m __age__ and my height is __height__”.\n",
    "Print the string and check if the values from the initial variable are present in your sentance.\n",
    "This exercise should use string concatenation discussed in module 2."
   ]
  },
  {
   "cell_type": "code",
   "execution_count": null,
   "id": "70b45bdf-1ecb-4a4e-bd10-cc98c800b0e2",
   "metadata": {},
   "outputs": [],
   "source": [
    "#INSERT YOUR CODE HERE\n"
   ]
  },
  {
   "cell_type": "code",
   "execution_count": null,
   "id": "c89f2272-12f4-40b2-b133-b54cb60d3577",
   "metadata": {},
   "outputs": [],
   "source": [
    "# TESTS FOR EXERCISE 4, DO NOT MODIFY\n",
    "assert (name in sentance)\n",
    "assert (str(age) in sentance)\n",
    "assert (str(height) in sentance)\n",
    "assert (type(sentance) == str)"
   ]
  },
  {
   "cell_type": "markdown",
   "id": "e6b659ab-f2a5-4366-be69-365f88510dfa",
   "metadata": {},
   "source": [
    "### Exercise 4.1 "
   ]
  },
  {
   "cell_type": "markdown",
   "id": "b97bc242-9261-4d40-8dca-ffd4b10b6fdb",
   "metadata": {},
   "source": [
    "Instead of using string concatenation use string formating to obtain the same result for the __sentance__ variable."
   ]
  },
  {
   "cell_type": "code",
   "execution_count": null,
   "id": "bb8a1dc5-46d2-407f-950f-71ca227793e4",
   "metadata": {},
   "outputs": [],
   "source": [
    "#INSERT YOUR CODE HERE\n"
   ]
  },
  {
   "cell_type": "code",
   "execution_count": null,
   "id": "c8bf8373-1050-4af3-b408-cc7a5e23f098",
   "metadata": {},
   "outputs": [],
   "source": [
    "# TESTS FOR EXERCISE 4.1, DO NOT MODIFY\n",
    "assert (name in sentance)\n",
    "assert (str(age) in sentance)\n",
    "assert (str(height) in sentance)\n",
    "assert (type(sentance) == str)"
   ]
  },
  {
   "cell_type": "markdown",
   "id": "a5a9919c-2e7f-4d53-acf5-a1e253e40ebe",
   "metadata": {},
   "source": [
    "### Exercise 5"
   ]
  },
  {
   "cell_type": "markdown",
   "id": "d63117d4-7c50-4ad7-a03b-6028e216c7b9",
   "metadata": {},
   "source": [
    "You are provided th the following strings:\n",
    "- 1aaaaaaaaaaaaaaaaaaaaaaaaaaaaaaa1\n",
    "- WWWWWWWWWWWWWWWW\n",
    "- #$%@^&*kjnk\n",
    "- svskjnbui \n",
    "- fwhncoishmxlxfkjsahnxu83v\n",
    "- n8OHOIHIOMOICWHOFCMHEOFMCOEJMC0J09C\n",
    "- asdasdsa\n",
    "- 1235132169932\n",
    "Check if the strings provided at this exercise have the following properties:\n",
    "- all the characters in the strings are alphanumeric\n",
    "- all the characters in the strings are alphabetical\n",
    "- all the characters in the strings are digits\n",
    "- all the characters in the strings are lowercase\n",
    "- all the characters in the strings are uppercase"
   ]
  },
  {
   "cell_type": "code",
   "execution_count": null,
   "id": "40b97988-37ad-470f-ae06-be8844dec00f",
   "metadata": {},
   "outputs": [],
   "source": [
    "#INSERT YOUR CODE HERE"
   ]
  },
  {
   "cell_type": "markdown",
   "id": "a4d38d16-7bd5-4081-9b98-0f12e49ac1e5",
   "metadata": {},
   "source": [
    "This exercise does not have a test, make sure that for each string the checks are performed and make sure the results makes sense for you based on what we learned in Course 2."
   ]
  },
  {
   "cell_type": "markdown",
   "id": "e81c5487-4929-4dd0-8649-bb12ec402b41",
   "metadata": {},
   "source": [
    "### Exercise 6"
   ]
  },
  {
   "cell_type": "markdown",
   "id": "7ccbd721-1950-4c27-9942-3d78b901b3d9",
   "metadata": {},
   "source": [
    "Create a new string from the first, middle and last characters of a string. \n",
    "The first string is ‘James’ which should be stored in the variable __james__. \n",
    "The new string should contain __Jms__ and should be called __short_james__.  \n",
    "What about a name with a longer length for example __Raphael__ stored in variable called __raphael__. The new var should be called __short_raphael__ and should contain __Rhl__?"
   ]
  },
  {
   "cell_type": "code",
   "execution_count": null,
   "id": "37e726cf-db16-4ffd-bcec-ca321abcc2be",
   "metadata": {},
   "outputs": [],
   "source": [
    "#INSERT YOUR CODE HERE\n"
   ]
  },
  {
   "cell_type": "code",
   "execution_count": null,
   "id": "7424432b-7c3c-4c35-a066-ee7f3914ee6d",
   "metadata": {},
   "outputs": [],
   "source": [
    "# TESTS FOR EXERCISE 6, DO NOT MODIFY\n",
    "assert (type(short_raphael) == str)\n",
    "assert (type(short_james) == str)\n",
    "assert (short_raphael == 'Rhl')\n",
    "assert (short_james == 'Jms')"
   ]
  },
  {
   "cell_type": "markdown",
   "id": "79bfdf2c-c29e-4794-86bb-c463f38cc33f",
   "metadata": {},
   "source": [
    "### Exercise 6.1"
   ]
  },
  {
   "cell_type": "markdown",
   "id": "52e7fd6c-556c-454d-8f1f-bd0830f51ae1",
   "metadata": {},
   "source": [
    "Using the variables defined in exercise 6 we want to extract the middle three letters of the names.\n",
    "The __short_raphael__ shoudl contain the value __pha__ and the __short_james__ should contain the value __ame__"
   ]
  },
  {
   "cell_type": "code",
   "execution_count": null,
   "id": "153312d4-0010-41d2-96d8-040dac283f78",
   "metadata": {},
   "outputs": [],
   "source": [
    "#INSERT YOUR CODE HERE\n"
   ]
  },
  {
   "cell_type": "code",
   "execution_count": null,
   "id": "c9cf7c23-cd79-4366-bfb6-426dd6396747",
   "metadata": {},
   "outputs": [],
   "source": [
    "# TESTS FOR EXERCISE 6.1, DO NOT MODIFY\n",
    "assert (type(short_raphael) == str)\n",
    "assert (type(short_james) == str)\n",
    "assert (short_raphael == 'pha')\n",
    "assert (short_james == 'ame')"
   ]
  }
 ],
 "metadata": {
  "kernelspec": {
   "display_name": "Python 3 (ipykernel)",
   "language": "python",
   "name": "python3"
  },
  "language_info": {
   "codemirror_mode": {
    "name": "ipython",
    "version": 3
   },
   "file_extension": ".py",
   "mimetype": "text/x-python",
   "name": "python",
   "nbconvert_exporter": "python",
   "pygments_lexer": "ipython3",
   "version": "3.10.10"
  }
 },
 "nbformat": 4,
 "nbformat_minor": 5
}
