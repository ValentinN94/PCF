{
 "cells": [
  {
   "cell_type": "markdown",
   "id": "4762d059-8971-49db-9f12-4f013362f176",
   "metadata": {},
   "source": [
    "# Tuples"
   ]
  },
  {
   "cell_type": "markdown",
   "id": "cc9af90f-9017-4951-b385-08ac554991f3",
   "metadata": {},
   "source": [
    "- A collection of multiple data types\n",
    "- Defined by using round brackets\n",
    "- Immutable\n",
    "- Duplicates are allowed, same as for lists\n",
    "- Items once defined in a tuple cannot be changed unlike in the list\n",
    "- Immutable vs Mutable\n",
    "- "
   ]
  },
  {
   "cell_type": "code",
   "execution_count": null,
   "id": "8d4a5e0b-0a70-4f2e-8cde-686b9d1f56ee",
   "metadata": {},
   "outputs": [],
   "source": [
    "my_tup = (1, 'False', True)\n",
    "print(my_tup)\n",
    "my_tup[1] = False"
   ]
  },
  {
   "cell_type": "code",
   "execution_count": null,
   "id": "4838b7cb-73b4-4733-8585-5416498efddb",
   "metadata": {},
   "outputs": [],
   "source": [
    "my_tup = (1, 'False', True)\n",
    "print(my_tup.count(1))\n",
    "print(my_tup.index('False'))\n",
    "for i in my_tup:\n",
    "    print(i)"
   ]
  },
  {
   "cell_type": "code",
   "execution_count": null,
   "id": "cd925d52-f435-4437-aa39-dc2b6c4d9d02",
   "metadata": {},
   "outputs": [],
   "source": [
    "my_tup = (1, 'False', True)\n",
    "if True in my_tup:\n",
    "    print('True is in tuple')\n",
    "if False not in my_tup:\n",
    "    print('False is not in my tuple')"
   ]
  },
  {
   "cell_type": "code",
   "execution_count": null,
   "id": "9eff0f9b-7a04-482e-80cc-dd192e760217",
   "metadata": {},
   "outputs": [],
   "source": [
    "my_tuple = (\"red\", \"blue\", \"green\", \"red\")\n",
    "print(my_tuple)\n",
    "print(len(my_tuple))\n",
    "list_to_tuple = tuple([1, 2, 3])\n",
    "print(list_to_tuple)\n",
    "print(type(list_to_tuple))"
   ]
  },
  {
   "cell_type": "markdown",
   "id": "18af8010-065e-4472-a8a9-56cc3ce71261",
   "metadata": {},
   "source": [
    "If tuples are immutable, can we change the objects inside our tuple?"
   ]
  },
  {
   "cell_type": "markdown",
   "id": "f387f4f8-5f0e-47d9-8344-723ab95239ad",
   "metadata": {},
   "source": [
    "Tuples is of type sequence, mening we can use the same methods as for string and lists(slicing, len function, iterating through it and so on)"
   ]
  }
 ],
 "metadata": {
  "kernelspec": {
   "display_name": "Python 3 (ipykernel)",
   "language": "python",
   "name": "python3"
  },
  "language_info": {
   "codemirror_mode": {
    "name": "ipython",
    "version": 3
   },
   "file_extension": ".py",
   "mimetype": "text/x-python",
   "name": "python",
   "nbconvert_exporter": "python",
   "pygments_lexer": "ipython3",
   "version": "3.10.10"
  }
 },
 "nbformat": 4,
 "nbformat_minor": 5
}
