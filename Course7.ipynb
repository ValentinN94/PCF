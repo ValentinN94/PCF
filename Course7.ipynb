{
 "cells": [
  {
   "cell_type": "markdown",
   "id": "a39b66a0-66e2-48ae-b018-1f069d3f4642",
   "metadata": {},
   "source": [
    "# Dictionaries"
   ]
  },
  {
   "cell_type": "markdown",
   "id": "9717e533-5176-40e0-a5ea-7be95d7fb466",
   "metadata": {},
   "source": [
    "- A collection of multiple data types, stored as key-value pairs\n",
    "- Dictionaries are ordered, changeable and do not allow duplicates\n",
    "- Similar to hash maps in other languages\n",
    "- Not indexed by number, but by the keys of the dictionary\n",
    "- Each key must be unique, if there are duplicated keys only the last will remain"
   ]
  },
  {
   "cell_type": "markdown",
   "id": "f4be99a7-1941-424e-b235-d25321ae1cee",
   "metadata": {},
   "source": [
    "## Creating Dictionaries"
   ]
  },
  {
   "cell_type": "code",
   "execution_count": null,
   "id": "00850109-07d8-4167-b14c-f7b23b7a9e1b",
   "metadata": {},
   "outputs": [],
   "source": [
    "my_dict = {'one':1, 'two':2, 'three':3}\n",
    "print(my_dict)\n",
    "# when keys are arguments passed to the dict function\n",
    "my_dict2 = dict(one=1, two=2, three=3)\n",
    "print(my_dict2)"
   ]
  },
  {
   "cell_type": "code",
   "execution_count": null,
   "id": "9a79a210-33ad-4518-92a9-bc65a119fa0a",
   "metadata": {},
   "outputs": [],
   "source": [
    "# keys and values are provided as a list of tuples\n",
    "my_dict3 = dict([('one', 1), ('two', 2), ('three', 3)])\n",
    "print(my_dict3)\n",
    "print(my_dict3['one'])\n",
    "my_dict3['one'] = 44\n",
    "print(my_dict3)"
   ]
  },
  {
   "cell_type": "code",
   "execution_count": null,
   "id": "18999653-06e8-4cfe-bb8f-c6e423027d52",
   "metadata": {},
   "outputs": [],
   "source": [
    "my_dict3['four'] = 4\n",
    "print(my_dict3)\n",
    "my_dict2 = {'one':1, 'one':2}\n",
    "print(my_dict2)\n",
    "{'one': 2}"
   ]
  },
  {
   "cell_type": "code",
   "execution_count": null,
   "id": "175f17a4-3054-4c8e-a4ba-9946e355d614",
   "metadata": {},
   "outputs": [],
   "source": [
    "result = 'one' in my_dict3\n",
    "print(result)\n",
    "result = 'one' not in my_dict3\n",
    "print(result)"
   ]
  },
  {
   "cell_type": "markdown",
   "id": "607725aa-edc4-4c3e-a8db-6d53e7c74272",
   "metadata": {},
   "source": [
    "## Dictionary methods"
   ]
  },
  {
   "cell_type": "code",
   "execution_count": null,
   "id": "751ade62-96f7-43a8-a0f6-7ea82625f3fe",
   "metadata": {},
   "outputs": [],
   "source": [
    "#Removing all elements from the dict"
   ]
  },
  {
   "cell_type": "code",
   "execution_count": null,
   "id": "865a76e6-156e-4fc6-ab80-7a2f65e04231",
   "metadata": {},
   "outputs": [],
   "source": [
    "my_dict = {'one':1, 'two': 2, 'three':3}\n",
    "my_dict.clear()\n",
    "print(my_dict)"
   ]
  },
  {
   "cell_type": "code",
   "execution_count": null,
   "id": "cb2d813e-f3a6-44ea-9987-dc2017a7013d",
   "metadata": {},
   "outputs": [],
   "source": [
    "# Return a copy of the dictionary"
   ]
  },
  {
   "cell_type": "code",
   "execution_count": null,
   "id": "86476aae-206e-4de6-bb05-7b25c9b71287",
   "metadata": {},
   "outputs": [],
   "source": [
    "my_dict = {'one':1, 'two': 2, 'three':3}\n",
    "new_dict = my_dict.copy()\n",
    "print(my_dict)\n",
    "print(new_dict)"
   ]
  },
  {
   "cell_type": "code",
   "execution_count": null,
   "id": "70037c15-e57d-4aa6-a9f1-ac08c220d8ad",
   "metadata": {},
   "outputs": [],
   "source": [
    "# Return a list containing a tuple for each key value pair"
   ]
  },
  {
   "cell_type": "code",
   "execution_count": null,
   "id": "cfce4a28-6369-4356-9172-dd47613623cc",
   "metadata": {},
   "outputs": [],
   "source": [
    "print(my_dict.items())"
   ]
  },
  {
   "cell_type": "code",
   "execution_count": null,
   "id": "439c6239-032d-462a-a39f-0ff2bb0713ec",
   "metadata": {},
   "outputs": [],
   "source": [
    "#Return a list containing the dictionary keys"
   ]
  },
  {
   "cell_type": "raw",
   "id": "258a9f4f-2500-4be4-80f1-4ed8303c1c2c",
   "metadata": {},
   "source": [
    "print(my_dict.keys())"
   ]
  },
  {
   "cell_type": "code",
   "execution_count": null,
   "id": "129bb249-64d6-4ec4-ae49-3292e87039cb",
   "metadata": {},
   "outputs": [],
   "source": [
    "# Return a list containing the dictionary values"
   ]
  },
  {
   "cell_type": "code",
   "execution_count": null,
   "id": "1ef79f19-ad36-4af1-96a0-6b8e9820380b",
   "metadata": {},
   "outputs": [],
   "source": [
    "print(my_dict.values())"
   ]
  },
  {
   "cell_type": "code",
   "execution_count": null,
   "id": "93493cea-45e3-4a28-8f6d-37a2dd25d4cd",
   "metadata": {},
   "outputs": [],
   "source": [
    "# Removes the element by specifying the key"
   ]
  },
  {
   "cell_type": "code",
   "execution_count": null,
   "id": "12187e41-b34b-453e-a9b4-fd22b9151a21",
   "metadata": {},
   "outputs": [],
   "source": [
    "print(my_dict)\n",
    "my_dict.pop('one')\n",
    "print(my_dict)"
   ]
  },
  {
   "cell_type": "markdown",
   "id": "92d42242-2c1a-44c3-b254-05594dcdbeb0",
   "metadata": {},
   "source": [
    "## Looping through dictionaries"
   ]
  },
  {
   "cell_type": "code",
   "execution_count": null,
   "id": "66bd8d20-e354-4f7f-b6df-5ddcc443019f",
   "metadata": {},
   "outputs": [],
   "source": [
    "my_dict = {'one': 1, 'two': 2, 'three': 3}\n",
    "for k, v in my_dict.items():\n",
    "    print(k)\n",
    "    print(v)"
   ]
  }
 ],
 "metadata": {
  "kernelspec": {
   "display_name": "Python 3 (ipykernel)",
   "language": "python",
   "name": "python3"
  },
  "language_info": {
   "codemirror_mode": {
    "name": "ipython",
    "version": 3
   },
   "file_extension": ".py",
   "mimetype": "text/x-python",
   "name": "python",
   "nbconvert_exporter": "python",
   "pygments_lexer": "ipython3",
   "version": "3.10.10"
  }
 },
 "nbformat": 4,
 "nbformat_minor": 5
}
