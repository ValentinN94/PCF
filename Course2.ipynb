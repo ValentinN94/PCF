{
 "cells": [
  {
   "cell_type": "markdown",
   "id": "fcda9928-bb8c-47ce-bf7a-9fff89daf897",
   "metadata": {},
   "source": [
    "# String Functions, Indexing and Slicing, Formatting, Immutability in Python"
   ]
  },
  {
   "cell_type": "markdown",
   "id": "a3094582-5685-47ef-ad75-1f856f21b1eb",
   "metadata": {},
   "source": [
    "## String Functions"
   ]
  },
  {
   "cell_type": "markdown",
   "id": "d2fc0ae2-d064-461f-854a-a1e04ee294bc",
   "metadata": {},
   "source": [
    "- Once we have declared a string variable, we have access to it’s functions\n",
    "- Strings are Immutable. What does that mean?\n",
    "- The same way we have built-in functions, we also have available function for every string variable\n",
    "- There are 3 functions categories: conversions, checks and utilities"
   ]
  },
  {
   "cell_type": "markdown",
   "id": "9a81344e-e656-46a7-8444-45a5fd32bcbe",
   "metadata": {},
   "source": [
    "### String conversions "
   ]
  },
  {
   "cell_type": "code",
   "execution_count": null,
   "id": "ca36b410-b6af-4a1b-a1a1-4ed4c8c27702",
   "metadata": {},
   "outputs": [],
   "source": [
    "my_str = 'hello'\n",
    "print(my_str.capitalize())\n",
    "print(my_str)"
   ]
  },
  {
   "cell_type": "code",
   "execution_count": null,
   "id": "2134a593-e7f4-481a-937c-f28b0a37d6ce",
   "metadata": {},
   "outputs": [],
   "source": [
    "my_str = 'goodbye'\n",
    "print(my_str.upper())\n",
    "print(my_str)"
   ]
  },
  {
   "cell_type": "code",
   "execution_count": null,
   "id": "3fd7683b-e2e1-41a7-b8e2-21cadc634848",
   "metadata": {},
   "outputs": [],
   "source": [
    "my_str = 'GREETINGS'\n",
    "print(my_str.lower())\n",
    "print(my_str)"
   ]
  },
  {
   "cell_type": "code",
   "execution_count": null,
   "id": "e1ffe92a-e572-4403-9af6-0917a6752942",
   "metadata": {},
   "outputs": [],
   "source": [
    "my_str = 'Hello, World!'\n",
    "print(my_str.swapcase())\n",
    "print(my_str)"
   ]
  },
  {
   "cell_type": "markdown",
   "id": "115a5bea-8dc1-453a-9cc3-83f4553d1a89",
   "metadata": {},
   "source": [
    "### String checks"
   ]
  },
  {
   "cell_type": "code",
   "execution_count": null,
   "id": "1ec6b1d4-c87c-491e-9d09-2de79f605a7f",
   "metadata": {},
   "outputs": [],
   "source": [
    "my_str = 'goodbye'\n",
    "print(my_str.isalpha())\n",
    "# Returns True if all characters in the string are in the alphabet"
   ]
  },
  {
   "cell_type": "code",
   "execution_count": null,
   "id": "a306135e-e432-4200-a9f4-d13914af1fea",
   "metadata": {},
   "outputs": [],
   "source": [
    "my_str = '1234131'\n",
    "print(my_str.isdigit())\n",
    "# Return True if all characters in the strings are digits"
   ]
  },
  {
   "cell_type": "code",
   "execution_count": null,
   "id": "c44ebbd0-7660-4ae0-88c9-a02039f7aeba",
   "metadata": {},
   "outputs": [],
   "source": [
    "my_str = 'Happy New Year 2024!'\n",
    "print(my_str.isalnum())\n",
    "# isalnum() returns True if all characters in the strings are alphanumberic"
   ]
  },
  {
   "cell_type": "code",
   "execution_count": null,
   "id": "cce515e4-3e19-426a-a4a5-7eb37600c1ad",
   "metadata": {},
   "outputs": [],
   "source": [
    "my_str = 'hello, world!'\n",
    "print(my_str.islower())\n",
    "# Returns True if all characters in the string are lower case"
   ]
  },
  {
   "cell_type": "code",
   "execution_count": null,
   "id": "b5b1c200-6cea-4be9-b7e9-b9ac942129db",
   "metadata": {},
   "outputs": [],
   "source": [
    "my_str = 'HELLO, WORLD!'\n",
    "print(my_str.isupper())\n",
    "# Returns True if all characters in the string are upper case"
   ]
  },
  {
   "cell_type": "code",
   "execution_count": null,
   "id": "b8feb669-2eb1-4ba9-b02f-b2bad19fe099",
   "metadata": {},
   "outputs": [],
   "source": [
    "my_str = ''\n",
    "print(my_str.isspace())\n",
    "# Returns True if all characters in the strings are whitespaces"
   ]
  },
  {
   "cell_type": "markdown",
   "id": "077b8107-ff93-4749-96ad-31acb3853547",
   "metadata": {},
   "source": [
    "### String formatting"
   ]
  },
  {
   "cell_type": "code",
   "execution_count": null,
   "id": "7b86c1d0-bedd-4efc-b1c1-09a9aa7ada92",
   "metadata": {},
   "outputs": [],
   "source": [
    "formatted_string = \"My name is {} and I'm {}\".format('John', 36)\n",
    "print(formatted_string)"
   ]
  },
  {
   "cell_type": "code",
   "execution_count": null,
   "id": "07cbb7c5-0f77-4bff-8e4d-cdd54bdbbda6",
   "metadata": {},
   "outputs": [],
   "source": [
    "formatted_string = \"My name is {0} and I'm {1}\".format('John', 36)\n",
    "print(formatted_string)"
   ]
  },
  {
   "cell_type": "code",
   "execution_count": null,
   "id": "8de0d8d7-bc8a-4387-9ec4-9a3f2039c737",
   "metadata": {},
   "outputs": [],
   "source": [
    "formatted_string = \"My name is {1} and I'm {0}\".format('John', 36)\n",
    "print(formatted_string)"
   ]
  },
  {
   "cell_type": "code",
   "execution_count": null,
   "id": "104783b4-42d2-4824-90ae-977f751dd0c1",
   "metadata": {},
   "outputs": [],
   "source": [
    "formatted_string = \"My name is {fname} and I'm {age}\".format(fname = 'John', age = 36)\n",
    "print(formatted_string)"
   ]
  },
  {
   "cell_type": "code",
   "execution_count": null,
   "id": "c83d8eb1-9cad-4669-9e91-430064c7feb7",
   "metadata": {},
   "outputs": [],
   "source": [
    "age = 36\n",
    "name = 'John'\n",
    "formatted_string = f\"My name is {name} and I'm {age}\"\n",
    "print(formatted_string)"
   ]
  },
  {
   "cell_type": "markdown",
   "id": "0320982e-ec48-4a0c-b36a-ed71313dbeaa",
   "metadata": {},
   "source": [
    "## String Indexing and Slicing"
   ]
  },
  {
   "cell_type": "markdown",
   "id": "31026693-325f-4535-8355-35deabf1696c",
   "metadata": {},
   "source": [
    "- In the previous course, we’ve discussed that String implements the sequence protocol\n",
    "- Strings are sequences of character chained one after another\n",
    "- Strings are related to sequences, meaning that it can do what a sequence do"
   ]
  },
  {
   "attachments": {
    "424301e9-c525-4ae5-a7cc-4f71a76167ee.png": {
     "image/png": "[encoded data removed]"
    }
   },
   "cell_type": "markdown",
   "id": "cbfbb6ef-8845-4dc5-a257-ea0bb238296c",
   "metadata": {},
   "source": [
    "![image.png](attachment:424301e9-c525-4ae5-a7cc-4f71a76167ee.png)"
   ]
  },
  {
   "cell_type": "code",
   "execution_count": null,
   "id": "363faa04-5aec-4714-8246-269bdc4da857",
   "metadata": {},
   "outputs": [],
   "source": [
    "my_str = 'this is our string'\n",
    "print(my_str[0]) # accessing an item by index"
   ]
  },
  {
   "cell_type": "code",
   "execution_count": null,
   "id": "01a161f8-5bd2-4f29-a67b-b7dbc32e2548",
   "metadata": {},
   "outputs": [],
   "source": [
    "print(my_str[4:15]) # slicying using indexes, we specify the beginning index and end index"
   ]
  },
  {
   "cell_type": "code",
   "execution_count": null,
   "id": "2b5dd39b-c6c6-4b8e-b74d-e50444939717",
   "metadata": {},
   "outputs": [],
   "source": [
    "print(my_str[10:]) # same as above"
   ]
  },
  {
   "cell_type": "code",
   "execution_count": null,
   "id": "7d77861b-128a-448b-a7f4-7c93c753955c",
   "metadata": {},
   "outputs": [],
   "source": [
    "print(my_str[:-4]) # slicing using negative indexes"
   ]
  },
  {
   "cell_type": "code",
   "execution_count": null,
   "id": "c5ecfd3c-f0f4-4999-81e8-074c8c0b48ba",
   "metadata": {},
   "outputs": [],
   "source": [
    "print(my_str[::3]) # taking all characters in a string in reverse order"
   ]
  },
  {
   "cell_type": "markdown",
   "id": "ef7c6661-5708-4350-a16f-f7c55a20abf9",
   "metadata": {},
   "source": [
    "## Immutability in python"
   ]
  },
  {
   "cell_type": "markdown",
   "id": "db6f8b5b-ae76-4d2a-b182-cf2112034a2d",
   "metadata": {},
   "source": [
    "- Immutability means that the content of our immutable is not changeable after the variable definition phase\n",
    "- We can still copy the value of the immutable and create new variables\n"
   ]
  },
  {
   "cell_type": "code",
   "execution_count": null,
   "id": "5b5cc438-b973-4d84-a991-e7b4bcfe0a41",
   "metadata": {},
   "outputs": [],
   "source": [
    "my_str = 'example'\n",
    "print(my_str[0])\n",
    "my_str[0] = 'a'"
   ]
  },
  {
   "cell_type": "code",
   "execution_count": null,
   "id": "02d162bb-ee79-4d5e-81a7-8d3ef205027b",
   "metadata": {},
   "outputs": [],
   "source": [
    "my_example = 'This is my ' + my_str\n",
    "print(my_example)\n",
    "print(my_example.lower())\n",
    "# What will the next line print if we used the .lower function on our my_example variable\n",
    "print(my_example)"
   ]
  }
 ],
 "metadata": {
  "kernelspec": {
   "display_name": "Python 3 (ipykernel)",
   "language": "python",
   "name": "python3"
  },
  "language_info": {
   "codemirror_mode": {
    "name": "ipython",
    "version": 3
   },
   "file_extension": ".py",
   "mimetype": "text/x-python",
   "name": "python",
   "nbconvert_exporter": "python",
   "pygments_lexer": "ipython3",
   "version": "3.10.10"
  }
 },
 "nbformat": 4,
 "nbformat_minor": 5
}
