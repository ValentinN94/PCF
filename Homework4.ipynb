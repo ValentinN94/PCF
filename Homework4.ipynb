{
 "cells": [
  {
   "cell_type": "markdown",
   "id": "549b583e-b62d-4d1d-9583-7c11d8732713",
   "metadata": {},
   "source": [
    "# Homework4. Lists"
   ]
  },
  {
   "cell_type": "markdown",
   "id": "0f44b3e8-8615-4b43-a065-ab0248b5a309",
   "metadata": {},
   "source": [
    "### Exercise 1"
   ]
  },
  {
   "cell_type": "markdown",
   "id": "945e9790-5cc4-4113-90fa-1d8816fba800",
   "metadata": {},
   "source": [
    "You are given the following list empty list: __my_list__ = []  \n",
    "Define the following functions which do the following on your list:  \n",
    "a) insert(i, e): Insert integer e at position i.  \n",
    "b) print_list() Print the list.  \n",
    "c) remove(e): Delete the first occurrence of integer e  \n",
    "d) append(e): Insert integer at the end of the list  \n",
    "e) sort(): Sort the list.  \n",
    "d) pop(): Pop the last element from the list.  \n",
    "f) reverse(): Reverse the list. \n",
    "\n",
    "##### After defining the functions, test them with the following inputs:  \n",
    "insert 0 5  \n",
    "insert 1 10  \n",
    "insert 0 6  \n",
    "print_list    \n",
    "remove 6  \n",
    "append 9  \n",
    "append 1  \n",
    "sort  \n",
    "print_list  \n",
    "pop  \n",
    "reverse  \n",
    "print_list  \n",
    "##### The print output of the function calling should look something like this:\n",
    "[6, 5, 10]  \n",
    "[1, 5, 9, 10]  \n",
    "[9, 5, 1]"
   ]
  },
  {
   "cell_type": "code",
   "execution_count": null,
   "id": "79d1dc7c-6f3f-4f29-85d1-05b879f92342",
   "metadata": {},
   "outputs": [],
   "source": [
    "#INSERT CODE HERE\n"
   ]
  },
  {
   "cell_type": "code",
   "execution_count": null,
   "id": "d5c44eb6-9e9b-48cf-94c9-4dd5c2b9317c",
   "metadata": {},
   "outputs": [],
   "source": [
    "# FUNCTION CALLS AS DEFINED ABOVE, CHECK THAT THE OUTPUT MATCHES THE EXERCISE DESCRIPTION\n",
    "insert(0, 5)\n",
    "insert(1, 10)\n",
    "insert(0, 6)\n",
    "print_list()\n",
    "remove(6)\n",
    "append(9)\n",
    "append(1)\n",
    "sort()\n",
    "print_list()\n",
    "pop()\n",
    "reverse()\n",
    "print_list()"
   ]
  },
  {
   "cell_type": "markdown",
   "id": "e8a7e668-dd1a-4221-b1fe-d7367a49a419",
   "metadata": {},
   "source": [
    "No Tests are define but the output of the code should match the one mentioned above! "
   ]
  },
  {
   "cell_type": "markdown",
   "id": "23d169ec-01b4-4bb5-9816-9d5fa6fe9cea",
   "metadata": {},
   "source": [
    "### Exercise 2"
   ]
  },
  {
   "cell_type": "markdown",
   "id": "80f8bf3b-0ec9-4038-87d9-491cd66f9a05",
   "metadata": {},
   "source": [
    "Create a function called __empty_list__ which takes a list as a parameter and returns an empty list. For example provide the following list: my_list = [1, 2, 3, ‘asd’, [1, 2, 3,4]]"
   ]
  },
  {
   "cell_type": "code",
   "execution_count": null,
   "id": "9e33213d-057d-4d8e-a917-3b20777ae4a0",
   "metadata": {},
   "outputs": [],
   "source": [
    "#INSERT CODE HERE\n"
   ]
  },
  {
   "cell_type": "code",
   "execution_count": null,
   "id": "914b3135-68d0-4b39-a52f-5e83d34f603b",
   "metadata": {},
   "outputs": [],
   "source": [
    "#TESTS FOR EXERCISE 2, DO NOT MODIFY\n",
    "my_list = [1, 2, 3, \"asd\", [1, 2, 3,4]]\n",
    "\n",
    "assert (empty_list(my_list) == [])"
   ]
  },
  {
   "cell_type": "markdown",
   "id": "870641a9-c704-4fb3-b782-4c0207c4a671",
   "metadata": {},
   "source": [
    "### Exercise 3"
   ]
  },
  {
   "cell_type": "markdown",
   "id": "253d625c-043e-438c-9b06-7841626ecd55",
   "metadata": {},
   "source": [
    "Create the following function:  \n",
    "\tdef __selected_few__(list, index_order)  \n",
    "- the list parameter is the list we want to be iterated through  \n",
    "- index_order is the number by which we want to iterate through the list ( the number which is incremeting the index )"
   ]
  },
  {
   "cell_type": "code",
   "execution_count": null,
   "id": "3b97d5a8-f48c-41fa-a786-b922b80b5da3",
   "metadata": {},
   "outputs": [],
   "source": [
    "#INSERT CODE HERE\n"
   ]
  },
  {
   "cell_type": "code",
   "execution_count": null,
   "id": "dec5f261-6c02-4a4e-8ce1-e3cb20b3b2ec",
   "metadata": {},
   "outputs": [],
   "source": [
    "#TESTS FOR EXERCISE 3, DO NOT MODIFY\n",
    "assert (selected_few([1, 2, 3, 4, 5, 6, 7, 8, 9], index_order=2) == [3, 5, 7, 9])\n",
    "assert (selected_few([1, 2, 3, 4, 5, 6, 7, 8, 9], index_order=3) == [4, 7])"
   ]
  },
  {
   "cell_type": "markdown",
   "id": "7e7ab31b-d08b-4cf8-9c91-459fa3161cd3",
   "metadata": {},
   "source": [
    "### Exercise 4"
   ]
  },
  {
   "cell_type": "markdown",
   "id": "f9ee9ea9-b83d-4066-9fbc-fad08df19221",
   "metadata": {},
   "source": [
    "You are given the following texts and you have to write a program to:\n",
    "- extract all the numbers from the text\n",
    "- identify which of the numbers are even\n",
    "- calculate the sum of all even numbers\n",
    "- store the sum in the variables __sum_text1__ and __sum__text2__\n",
    "\n",
    "text1 = '''\n",
    "\"Într-o zi însorită, 5 prieteni decid să plece într-o aventură pentru a găsi comoara ascunsă.\n",
    "Ei încep călătoria cu un mic dejun la ora 8 dimineața.\n",
    "După 3 ore de mers, găsesc o hartă veche care menționează 14 pietre magice ascunse în pădure.\n",
    "Entuziasmați, ei se grăbesc să le găsească, dar pe drum se rătăcesc de 6 ori.\n",
    "În cele din urmă, după 2 ore de căutări, reușesc să găsească locul secret.\n",
    "Comoara era ascunsă sub un copac vechi de 97 de ani, iar pentru a o scoate la suprafață, au avut nevoie de\n",
    "14 chei magice. Ei se întorc acasă, epuizați dar fericiți, la ora 22.\"\n",
    "'''\n",
    "\n",
    "text2 = '''\n",
    "\"Într-o zi însorită, 5 prieteni decid să plece într-o aventură pentru a găsi comoara ascunsă.\n",
    "Ei încep călătoria cu un mic dejun la ora 8 dimineața.\n",
    "După 3 ore de mers, găsesc o hartă veche care menționează 4 pietre magice ascunse în pădure.\n",
    "Entuziasmați, ei se grăbesc să le găsească, dar pe drum se rătăcesc de 6 ori.\n",
    "În cele din urmă, după 2 ore de căutări, reușesc să găsească locul secret.\n",
    "Comoara era ascunsă sub un copac vechi de 9 ani, iar pentru a o scoate la suprafață, au avut nevoie de 4\n",
    "chei magice. Ei se întorc acasă, epuizați dar fericiți, la ora 2.\"\n",
    "'''"
   ]
  },
  {
   "cell_type": "code",
   "execution_count": null,
   "id": "7c6c0163-ecd6-439b-a05f-1bcc2f538e63",
   "metadata": {},
   "outputs": [],
   "source": [
    "#INSERT CODE \n"
   ]
  },
  {
   "cell_type": "code",
   "execution_count": null,
   "id": "0ea4484a-5322-4bb2-8aa4-ff85094f7c03",
   "metadata": {},
   "outputs": [],
   "source": [
    "#TESTS FOR EXERCISE 3, DO NOT MODIFY\n",
    "assert sum_text1 == 66\n",
    "assert sum_text2 == 26"
   ]
  }
 ],
 "metadata": {
  "kernelspec": {
   "display_name": "Python 3 (ipykernel)",
   "language": "python",
   "name": "python3"
  },
  "language_info": {
   "codemirror_mode": {
    "name": "ipython",
    "version": 3
   },
   "file_extension": ".py",
   "mimetype": "text/x-python",
   "name": "python",
   "nbconvert_exporter": "python",
   "pygments_lexer": "ipython3",
   "version": "3.12.4"
  }
 },
 "nbformat": 4,
 "nbformat_minor": 5
}
