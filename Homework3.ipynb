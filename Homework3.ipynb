{
 "cells": [
  {
   "cell_type": "markdown",
   "id": "aa5132f7-2877-4172-8fd8-31b2d6d7164d",
   "metadata": {},
   "source": [
    "# Homework3. Program Control Flow"
   ]
  },
  {
   "cell_type": "markdown",
   "id": "3a610f86-7170-4705-bd93-6faf290538fa",
   "metadata": {},
   "source": [
    "### Exercise 1"
   ]
  },
  {
   "cell_type": "markdown",
   "id": "cb00c1af-e52d-49c1-8f6d-f397a0ffaa9e",
   "metadata": {},
   "source": [
    "Define a variable called __x__ with the value of 88. Using the if statement check if __x__ is even or odd by adding the value true or false in the variable called __answer__.(True if x is even, False if x is false) (Hint: In python % is the modulo operator used to get the reminder of a division)."
   ]
  },
  {
   "cell_type": "code",
   "execution_count": null,
   "id": "e66caf7f-3f3b-47f3-88a4-17ebb4ad2584",
   "metadata": {},
   "outputs": [],
   "source": [
    "#INSERT CODE HERE"
   ]
  },
  {
   "cell_type": "code",
   "execution_count": null,
   "id": "4fe8337c-2fe5-4683-b7c0-5804af69031f",
   "metadata": {},
   "outputs": [],
   "source": [
    "# TESTS FOR EXERCISE 1, DO NOT MODIFY\n",
    "assert (type(answer) == bool)\n",
    "assert (answer == True)"
   ]
  },
  {
   "cell_type": "markdown",
   "id": "3b3827ce-d1e8-4013-b462-b642859ffd34",
   "metadata": {},
   "source": [
    "### Exercise 2"
   ]
  },
  {
   "cell_type": "markdown",
   "id": "fca5b2eb-5fbe-4bee-b0a4-ce04e5d6e353",
   "metadata": {},
   "source": [
    "For any int value of a variable check and print if the variable provided is prime."
   ]
  },
  {
   "cell_type": "code",
   "execution_count": null,
   "id": "8b77af51-3977-4f74-9ce9-fdb0d0b7e0f3",
   "metadata": {},
   "outputs": [],
   "source": [
    "#INSERT CODE HERE"
   ]
  },
  {
   "cell_type": "markdown",
   "id": "86db25d0-c7bd-4952-90de-962876846383",
   "metadata": {},
   "source": [
    "This exercise does not have any tests. Check with different numbers if your code works properly"
   ]
  },
  {
   "cell_type": "markdown",
   "id": "3e52f1c2-b743-46e8-bbd9-697b46ecd910",
   "metadata": {},
   "source": [
    "### Exercise 3"
   ]
  },
  {
   "cell_type": "markdown",
   "id": "7a11f779-c0ed-47d9-b2c9-2e2e2ce103b9",
   "metadata": {},
   "source": [
    "Using a for loop, iterate through a range of numbers from 0 to 10 using a interator __i__ and at each step print the value of the index or iterator."
   ]
  },
  {
   "cell_type": "code",
   "execution_count": null,
   "id": "d5155c9f-8f9d-4da3-90cb-a4bd2fbfce9f",
   "metadata": {},
   "outputs": [],
   "source": [
    "#INSERT CODE HERE"
   ]
  },
  {
   "cell_type": "code",
   "execution_count": null,
   "id": "f9538f72-6d75-49b9-b51f-4e5d78f807ae",
   "metadata": {},
   "outputs": [],
   "source": [
    "# TESTS FOR EXERCISE 3, DO NOT MODIFY\n",
    "assert (i == 10)"
   ]
  },
  {
   "cell_type": "markdown",
   "id": "2a8589e4-415f-4bb8-bfaa-e5a1dd6e040e",
   "metadata": {},
   "source": [
    "### Exercise 4"
   ]
  },
  {
   "cell_type": "markdown",
   "id": "96ab0a71-7542-4f3e-851e-04ddab93591a",
   "metadata": {},
   "source": [
    "Using a for loop, iterate through the string ‘This is our string!’ using the vaariable __i__ and print each character in the string."
   ]
  },
  {
   "cell_type": "code",
   "execution_count": null,
   "id": "1b2b6b8e-c168-48ab-ac4f-4cf6dddcb58d",
   "metadata": {},
   "outputs": [],
   "source": [
    "#INSERT CODE HERE"
   ]
  },
  {
   "cell_type": "code",
   "execution_count": null,
   "id": "f6f0f4ea-2481-4b56-9c92-5d8c9c788d9a",
   "metadata": {},
   "outputs": [],
   "source": [
    "# TESTS FOR EXERCISE 3, DO NOT MODIFY\n",
    "assert (i == '!')"
   ]
  },
  {
   "cell_type": "markdown",
   "id": "59153155-6513-4d67-bc15-d202adc791ea",
   "metadata": {},
   "source": [
    "### Exercise 5"
   ]
  },
  {
   "cell_type": "markdown",
   "id": "98410685-c40b-4722-b027-4be836817ba3",
   "metadata": {},
   "source": [
    "Using a while loop, check if our variable define as a = 0 is less than 10. In the while loop increment the variable by 2."
   ]
  },
  {
   "cell_type": "code",
   "execution_count": null,
   "id": "44624aea-e005-49d6-9534-10f0e5f13812",
   "metadata": {},
   "outputs": [],
   "source": [
    "#INSERT CODE HERE"
   ]
  },
  {
   "cell_type": "code",
   "execution_count": null,
   "id": "7efaad86-4940-4b5f-8e78-6da8721f6a92",
   "metadata": {},
   "outputs": [],
   "source": [
    "# TESTS FOR EXERCISE 5, DO NOT MODIFY\n",
    "assert (a == 10)"
   ]
  },
  {
   "cell_type": "markdown",
   "id": "dfc18c1a-32c1-4f3d-86a3-f4c1415f3fb7",
   "metadata": {},
   "source": [
    "### Exercise 6"
   ]
  },
  {
   "cell_type": "markdown",
   "id": "397908bd-7905-49f3-892c-c5ed5a0bdd77",
   "metadata": {},
   "source": [
    "Using a while loop, check if our variable defined as b = 15 is greater than 0. In the while loop decrement the variable by 5."
   ]
  },
  {
   "cell_type": "code",
   "execution_count": null,
   "id": "cbaf39b6-9993-493c-b6d7-18b31bd018ec",
   "metadata": {},
   "outputs": [],
   "source": [
    "#INSERT CODE HERE"
   ]
  },
  {
   "cell_type": "code",
   "execution_count": null,
   "id": "53fe5ce8-c8ba-48d3-bcd0-c79deee5a542",
   "metadata": {},
   "outputs": [],
   "source": [
    "#TESTS FOR EXERCISE 6, DO NOT MODIFY\n",
    "assert b == 0"
   ]
  },
  {
   "cell_type": "markdown",
   "id": "850d3de3-47bf-4028-ace5-0c964d4f800e",
   "metadata": {},
   "source": [
    "### Exercise 7"
   ]
  },
  {
   "cell_type": "markdown",
   "id": "4d585083-ebc2-4e53-a285-921a21d348cd",
   "metadata": {},
   "source": [
    "Create a function __even_or_odd__ which takes an integer as a parameter. The function will return __True__ if the parameter provided as an argument to the function is an even number else if it's an odd number it will return __False__."
   ]
  },
  {
   "cell_type": "code",
   "execution_count": null,
   "id": "da3b3f2d-23d5-49de-8d4d-1bc4510bcc7e",
   "metadata": {},
   "outputs": [],
   "source": [
    "#INSERT CODE HERE"
   ]
  },
  {
   "cell_type": "code",
   "execution_count": null,
   "id": "33993798-2b30-454b-9601-3d6b440550a2",
   "metadata": {},
   "outputs": [],
   "source": [
    "#TESTS FOR EXERCISE 7, DO NOT MODIFY\n",
    "assert (even_or_odd(123) == False)\n",
    "assert (even_or_odd(8) == True)\n",
    "assert (even_or_odd(128) == True)\n",
    "assert (even_or_odd(513) == False)"
   ]
  },
  {
   "cell_type": "markdown",
   "id": "2785dc50-92bd-4ec2-bce9-3f31702d1366",
   "metadata": {},
   "source": [
    "### Exercise 8"
   ]
  },
  {
   "cell_type": "markdown",
   "id": "cb73366c-4e8e-4636-b8be-860211cb217d",
   "metadata": {},
   "source": [
    "Create a function which will iterate through the parameter and print every value. The parameter can be a string or a range function."
   ]
  },
  {
   "cell_type": "code",
   "execution_count": null,
   "id": "67cf0796-a19d-4323-8666-c94be1c36201",
   "metadata": {},
   "outputs": [],
   "source": [
    "#INSERT CODE HERE"
   ]
  },
  {
   "cell_type": "markdown",
   "id": "a702b4fc-552c-499b-9c6c-da9e4ce68fab",
   "metadata": {},
   "source": [
    "This exercise does not have any tests. "
   ]
  },
  {
   "cell_type": "markdown",
   "id": "84384ab9-b2f2-4e5a-981d-3754929dee98",
   "metadata": {},
   "source": [
    "### Exercise 9"
   ]
  },
  {
   "cell_type": "markdown",
   "id": "2da5d803-fd41-4131-b154-f22b7673ab17",
   "metadata": {},
   "source": [
    "You are given the following python function:\n",
    "\n",
    "def loop(val):  \n",
    "----while True:\n",
    "\n",
    "Modify this function to print the following lines:  \n",
    "\t“We are at iteration 1”  \n",
    "\t“We are at iteration 3”   \n",
    "\t“We are at iteration 7”  \n",
    "Where the number of iteration is the value of val.(Hint: break and continue statements might be helpful here)  \n",
    "\t"
   ]
  },
  {
   "cell_type": "code",
   "execution_count": null,
   "id": "9bf7b301-f5e9-43b3-9b22-0213bb6722ad",
   "metadata": {},
   "outputs": [],
   "source": [
    "#INSERT CODE HERE"
   ]
  },
  {
   "cell_type": "markdown",
   "id": "f7a6bd89-a609-48be-ab0d-eb72519756ea",
   "metadata": {},
   "source": [
    "This exercise does not have any tests. "
   ]
  }
 ],
 "metadata": {
  "kernelspec": {
   "display_name": "Python 3 (ipykernel)",
   "language": "python",
   "name": "python3"
  },
  "language_info": {
   "codemirror_mode": {
    "name": "ipython",
    "version": 3
   },
   "file_extension": ".py",
   "mimetype": "text/x-python",
   "name": "python",
   "nbconvert_exporter": "python",
   "pygments_lexer": "ipython3",
   "version": "3.12.4"
  }
 },
 "nbformat": 4,
 "nbformat_minor": 5
}
