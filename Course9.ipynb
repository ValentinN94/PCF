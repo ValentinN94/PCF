{
 "cells": [
  {
   "cell_type": "markdown",
   "id": "dc69f2f1-9aab-4d3f-ba49-f46f28d6d3ea",
   "metadata": {},
   "source": [
    "# Generators"
   ]
  },
  {
   "cell_type": "markdown",
   "id": "d6eb2a92-2c78-4500-bcbb-8d6365588a6d",
   "metadata": {},
   "source": [
    "## Iterators"
   ]
  },
  {
   "cell_type": "markdown",
   "id": "8c0976f1-7253-497d-a9eb-38b0e9881cb2",
   "metadata": {},
   "source": [
    "- A collection of data that contains a countable number of values\n",
    "- Can be iterated upon, meaning we can traverse all of our values from the collection\n",
    "- Iter() method can be used on them to get the iterator"
   ]
  },
  {
   "cell_type": "code",
   "execution_count": null,
   "id": "85fd7f7e-edc1-40dd-983e-deb6302b5ff5",
   "metadata": {},
   "outputs": [],
   "source": [
    "my_list = [1, 2, 3, 4]\n",
    "my_iter = iter(my_list)\n",
    "print(next(my_iter))\n",
    "print(next(my_iter))\n",
    "print(next(my_iter))\n",
    "print(next(my_iter))"
   ]
  },
  {
   "cell_type": "code",
   "execution_count": null,
   "id": "6087277e-b98f-4468-8df0-c46e266285a4",
   "metadata": {},
   "outputs": [],
   "source": [
    ">>> for i in my_list:\n",
    "    print(i)\n"
   ]
  },
  {
   "cell_type": "markdown",
   "id": "b884eefc-35f8-43c7-bdd8-1027b6bcc3ec",
   "metadata": {},
   "source": [
    "## Generators"
   ]
  },
  {
   "cell_type": "markdown",
   "id": "e46c6199-702c-4463-bee2-bd6c0cd09018",
   "metadata": {},
   "source": [
    "- Functions that act like iterators\n",
    "- Generators contain on demand data generated in a loop\n",
    "- Where for an iterator we could go through our data using the next function, in generators we evaluate the values and then we access the next value\n",
    "- Lazily evaluated\n",
    "- Infinite data structures\n",
    "- Not infinite memory usage"
   ]
  },
  {
   "cell_type": "markdown",
   "id": "2f37dcff-3737-4811-9736-a99417afea33",
   "metadata": {},
   "source": [
    "### Yield statement"
   ]
  },
  {
   "cell_type": "markdown",
   "id": "7c680e2d-91b3-4b26-98ed-b00257970a4c",
   "metadata": {},
   "source": [
    "- Used to create a generator\n",
    "- Suspends the current execution, evaluate the values and sends the value back to the caller\n",
    "- Has a state to remember where it was left at"
   ]
  },
  {
   "cell_type": "code",
   "execution_count": null,
   "id": "56cac8b3-51b7-454c-a82a-a79c57eb1593",
   "metadata": {},
   "outputs": [],
   "source": [
    "#Creation of an iterator\n",
    "def my_iterator():\n",
    "    iter_list = []\n",
    "    for i in range(100):\n",
    "        iter_list.append(i)\n",
    "    return iter_list\n",
    "my_iterator_var = my_iterator()\n",
    "print(type(my_iterator_var))\n",
    "print(my_iterator_var)"
   ]
  },
  {
   "cell_type": "code",
   "execution_count": null,
   "id": "2d0d4372-df2e-481f-a6e9-1762e9ec72ac",
   "metadata": {},
   "outputs": [],
   "source": [
    "#Creation of a generator\n",
    "def my_generator():\n",
    "    for i in range(100):\n",
    "        yield i"
   ]
  },
  {
   "cell_type": "code",
   "execution_count": null,
   "id": "72924231-1d9b-469b-91ce-b95960cec33c",
   "metadata": {},
   "outputs": [],
   "source": [
    "# Usage of the generator\n",
    "my_generator_var = my_generator()\n",
    "print(my_generator_var)\n",
    "print(type(my_generator_var))\n",
    "for i in my_generator_var:\n",
    "    print(i)"
   ]
  },
  {
   "cell_type": "code",
   "execution_count": null,
   "id": "d697bfd4-a578-4e65-b8e0-77ba65829499",
   "metadata": {},
   "outputs": [],
   "source": [
    "numbers = [1, 2, 3, 4, 5, 6, 7, 8, 9, 10]\n",
    "squared_numbers = (x**2 for x in numbers)\n",
    "for num in squared_numbers:\n",
    "    print(num)"
   ]
  }
 ],
 "metadata": {
  "kernelspec": {
   "display_name": "Python 3 (ipykernel)",
   "language": "python",
   "name": "python3"
  },
  "language_info": {
   "codemirror_mode": {
    "name": "ipython",
    "version": 3
   },
   "file_extension": ".py",
   "mimetype": "text/x-python",
   "name": "python",
   "nbconvert_exporter": "python",
   "pygments_lexer": "ipython3",
   "version": "3.10.10"
  }
 },
 "nbformat": 4,
 "nbformat_minor": 5
}
