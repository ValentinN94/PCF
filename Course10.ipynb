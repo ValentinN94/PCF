{
 "cells": [
  {
   "cell_type": "markdown",
   "id": "5e24a425-256e-4edb-bef1-2ad713570211",
   "metadata": {},
   "source": [
    "# Python Modules"
   ]
  },
  {
   "cell_type": "markdown",
   "id": "1dd1f52d-dd54-4ebe-95e4-3e3ed53d9179",
   "metadata": {},
   "source": [
    "- Every .py file is a python module\n",
    "- It can be installed or imported\n",
    "- You can have multiple modules in a directory and import them from one another\n",
    "- You can call the following function to check modules on your system:\n",
    "- From REPL: >>>help(“modules”)"
   ]
  },
  {
   "cell_type": "markdown",
   "id": "d7fd3a12-fbd9-4c80-92b4-a5cbbebc699c",
   "metadata": {},
   "source": [
    "## Virtual Environments"
   ]
  },
  {
   "cell_type": "markdown",
   "id": "4d4b31c8-b013-44aa-a8a6-f28f4663675e",
   "metadata": {},
   "source": [
    "- Commonly referred as venv\n",
    "- Lightweight instance of a python interpreter where a user specifies which modules wants to be added to a project\n",
    "- Each venv has his own packages"
   ]
  },
  {
   "cell_type": "markdown",
   "id": "cd714fc6-268c-42b1-8047-69ba5bc7ba04",
   "metadata": {},
   "source": [
    "## PIP"
   ]
  },
  {
   "cell_type": "markdown",
   "id": "65c52d00-d8f6-47a7-aad1-d866f2ee9214",
   "metadata": {},
   "source": [
    "- A package manager for Python package or python modules\n",
    "- Modules vs Packages\n",
    "- Pip is used for installing both on different virtual environments (venv)\n",
    "- Command usage:\n",
    "- pip install module/package_name"
   ]
  },
  {
   "cell_type": "code",
   "execution_count": null,
   "id": "aa9885f0-db61-455b-836e-beb4f754bba7",
   "metadata": {},
   "outputs": [],
   "source": [
    "#Example of pip install\n",
    "import sys\n",
    "!{sys.executable} -m pip install numpy"
   ]
  },
  {
   "cell_type": "markdown",
   "id": "5139a9fe-6264-417a-bb21-e1532c189c6e",
   "metadata": {},
   "source": [
    "## Packages"
   ]
  },
  {
   "cell_type": "markdown",
   "id": "02b287fd-2a7c-4775-a0f5-1b8966e5d845",
   "metadata": {},
   "source": [
    "- A collection of python modules\n",
    "- Structured as a directory with a special file called __init__.py in there\n",
    "- The __init__.py file makes sure your directory is seen as a package\n",
    "- It can contain imports of modules from the directory"
   ]
  },
  {
   "cell_type": "markdown",
   "id": "66d27271-a4e9-4db3-b701-d59a09ce13d1",
   "metadata": {},
   "source": [
    "## DateTime Module"
   ]
  },
  {
   "cell_type": "markdown",
   "id": "ef9ba626-c83e-4e01-bb42-cea5da05b0e9",
   "metadata": {},
   "source": [
    "- A module in python which can be imported to work with date and time\n",
    "- Does not require external installation with PIP since it’s builtin Python"
   ]
  },
  {
   "cell_type": "markdown",
   "id": "3290f318-9a3a-46ad-8845-a14dd2ac5638",
   "metadata": {},
   "source": [
    "### DateTime Main Classes"
   ]
  },
  {
   "cell_type": "markdown",
   "id": "f7a5b2b4-a947-4dc3-bb0b-e94dbca73f8d",
   "metadata": {},
   "source": [
    "- date – returns a date with year, month and day as format\n",
    "- time – return a time of the day, hour, minute, second, microsecond as format\n",
    "- datetime – it’s a union of the two classes above, providing an exhaustive time\n",
    "- timedelta – used to measure and calculate time differences between two date, time or date-time instances"
   ]
  },
  {
   "cell_type": "code",
   "execution_count": null,
   "id": "939052b2-16a5-45cf-bbb6-3ad013bfcd2a",
   "metadata": {},
   "outputs": [],
   "source": [
    "import datetime\n",
    "print(datetime)"
   ]
  },
  {
   "cell_type": "markdown",
   "id": "66466784-8b98-4d2f-b1ec-e0d3a9450f92",
   "metadata": {},
   "source": [
    "### date"
   ]
  },
  {
   "cell_type": "code",
   "execution_count": null,
   "id": "32370fac-476d-45b0-ba16-6b7350c0fcaf",
   "metadata": {},
   "outputs": [],
   "source": [
    "from datetime import date\n",
    "\n",
    "print(date)\n",
    "my_date = date(2000, 10, 23)\n",
    "print(my_date)\n",
    "print(type(my_date))"
   ]
  },
  {
   "cell_type": "markdown",
   "id": "04b6cd67-021e-4f9d-a83a-0668f913d19e",
   "metadata": {},
   "source": [
    "### date and time"
   ]
  },
  {
   "cell_type": "code",
   "execution_count": null,
   "id": "0301bcc0-af62-45d3-9d9f-ead223fd88cc",
   "metadata": {},
   "outputs": [],
   "source": [
    "today = date.today()\n",
    "print(today)\n",
    "print(datetime.date(2024, 1, 26))\n",
    "from datetime import time\n",
    "my_time = time(12, 10, 30)\n",
    "print(my_time)"
   ]
  },
  {
   "cell_type": "markdown",
   "id": "7d8ce786-932e-4f6e-931b-8fd2033c612f",
   "metadata": {},
   "source": [
    "### datetime"
   ]
  },
  {
   "cell_type": "code",
   "execution_count": null,
   "id": "157746cd-280c-4ef2-8f85-73b504aef61a",
   "metadata": {},
   "outputs": [],
   "source": [
    "from datetime import datetime\n",
    "short_datetime = datetime(2004, 11, 12)\n",
    "print(short_datetime)\n",
    "long_datetime = datetime(2004, 11, 12, 12, 12, 12, 342380)\n",
    "print(long_datetime)\n",
    "print(long_datetime.year)\n",
    "print(long_datetime.minute)"
   ]
  },
  {
   "cell_type": "markdown",
   "id": "576f8a9d-97c9-4c65-bc8c-ce20586a2abe",
   "metadata": {},
   "source": [
    "### timedelta"
   ]
  },
  {
   "cell_type": "code",
   "execution_count": null,
   "id": "c7843893-ce17-4602-a112-05bef53fe840",
   "metadata": {},
   "outputs": [],
   "source": [
    "from datetime import datetime, timedelta\n",
    "time_now = datetime.now()\n",
    "past_time = datetime(2024, 1, 5, 12, 12, 12, 342380)\n",
    "print(\"Time difference is:\", str(time_now - past_time))\n",
    "future_date = time_now + timedelta(days=13)\n",
    "print(\"13 days into the future: \", str(future_date))"
   ]
  },
  {
   "cell_type": "markdown",
   "id": "755f36ba-453c-4627-90bc-72c3aaafaf98",
   "metadata": {},
   "source": [
    "### strftime "
   ]
  },
  {
   "cell_type": "code",
   "execution_count": null,
   "id": "28689614-f476-431d-a222-345221958b82",
   "metadata": {},
   "outputs": [],
   "source": [
    "time_now = datetime.now()\n",
    "custom_strftime = time_now.strftime(\"Today is %A, %B %d, %Y\")\n",
    "print(custom_strftime)\n",
    "custom_strftime = time_now.strftime(\"%d/%m/%Y %H:%M:%S\")\n",
    "print(custom_strftime)"
   ]
  },
  {
   "cell_type": "markdown",
   "id": "fe757b94-1987-4305-ab29-36c916d72ef8",
   "metadata": {},
   "source": [
    "## OS module"
   ]
  },
  {
   "cell_type": "markdown",
   "id": "702d5bae-a37e-4212-860a-f6f3ca8558d7",
   "metadata": {},
   "source": [
    "Pythons module to interact with operating system  \n",
    "An abstraction across all operating systems  \n",
    "Main functionalities:  \n",
    "  - check current working directory\n",
    "  - creation of a new directory\n",
    "  - listing out files and directories in Python\n",
    "  - delete files or directories using Python"
   ]
  },
  {
   "cell_type": "code",
   "execution_count": null,
   "id": "298bbbc3-cdcb-4305-95fa-92c5b96a7411",
   "metadata": {},
   "outputs": [],
   "source": [
    "import os\n",
    "print(os.getcwd())\n",
    "print(os.chdir('../'))\n",
    "print(os.getcwd())\n",
    "print(os.listdir())\n",
    "print(os.chdir('negru'))\n",
    "print(os.getcwd())"
   ]
  },
  {
   "cell_type": "code",
   "execution_count": null,
   "id": "8a7b5181-a443-41e8-a65a-7bf8ceda937c",
   "metadata": {},
   "outputs": [],
   "source": [
    "print(os.listdir())\n",
    "os.mkdir('New Project')\n",
    "print(os.listdir())\n",
    "os.makedirs('os-module/examples')\n",
    "print(os.listdir())\n"
   ]
  },
  {
   "cell_type": "code",
   "execution_count": null,
   "id": "5ac79451-3a6f-419b-87d3-4f47bc512a7b",
   "metadata": {},
   "outputs": [],
   "source": [
    "print(os.getcwd())\n",
    "os.chdir('os-module')\n",
    "print(os.listdir())\n",
    "os.rmdir('examples')\n",
    "print(os.listdir())\n",
    "os.chdir('../')"
   ]
  },
  {
   "cell_type": "code",
   "execution_count": null,
   "id": "b29ef474-0bca-4362-8411-ac9793c225d0",
   "metadata": {},
   "outputs": [],
   "source": [
    "directory_to_create = \"NewDir\"\n",
    "current_path = os.getcwd()\n",
    "print(current_path)\n",
    "print(type(current_path))\n",
    "path = os.path.join(current_path, directory_to_create)\n",
    "print(path)\n",
    "os.mkdir(path)\n",
    "print(os.listdir())"
   ]
  },
  {
   "cell_type": "markdown",
   "id": "a7aa0d3d-e258-473b-8cf2-78cb6aa0bb66",
   "metadata": {},
   "source": [
    "## Sys Module"
   ]
  },
  {
   "cell_type": "markdown",
   "id": "32f33d22-a829-4114-b197-6cc1a73b8161",
   "metadata": {},
   "source": [
    "Provides a way to interact with python runtime environment\n",
    "Commonly used for:\n",
    "- stdin\n",
    "- stdout\n",
    "- stderr\n",
    "- passing args to a python script and exiting the python interpretor\n",
    "- verifying the variables across scopes"
   ]
  },
  {
   "cell_type": "code",
   "execution_count": null,
   "id": "76d4dceb-3db2-4e63-9382-a207c3e6bd48",
   "metadata": {},
   "outputs": [],
   "source": [
    "import sys\n",
    "for line in sys.stdin:\n",
    "    if 'e' == line.rstrip():\n",
    "        break"
   ]
  },
  {
   "cell_type": "code",
   "execution_count": null,
   "id": "092d1907-cae7-46ce-b377-c073aaf5eb0c",
   "metadata": {},
   "outputs": [],
   "source": [
    "sys.stdout.write(\"This is written to the console\")\n",
    "\n",
    "import sys \n",
    "def print_to_stderr(*a): \n",
    "    print(*a, file = sys.stderr) \n",
    "\n",
    "print_to_stderr(\"Hello World\")\n"
   ]
  },
  {
   "cell_type": "code",
   "execution_count": null,
   "id": "f08360c0-3721-4ec4-8604-a688093fac13",
   "metadata": {},
   "outputs": [],
   "source": [
    "#This is a python script called main.py\n",
    "import sys\n",
    "\n",
    "cli_arguments = sys.argv\n",
    "arg_count = 0\n",
    "for arg in cli_arguments:\n",
    "    print(f\"This is the argument {arg} passed with number {arg_count}\")\n",
    "arg_count += 1"
   ]
  }
 ],
 "metadata": {
  "kernelspec": {
   "display_name": "Python 3 (ipykernel)",
   "language": "python",
   "name": "python3"
  },
  "language_info": {
   "codemirror_mode": {
    "name": "ipython",
    "version": 3
   },
   "file_extension": ".py",
   "mimetype": "text/x-python",
   "name": "python",
   "nbconvert_exporter": "python",
   "pygments_lexer": "ipython3",
   "version": "3.10.10"
  }
 },
 "nbformat": 4,
 "nbformat_minor": 5
}
