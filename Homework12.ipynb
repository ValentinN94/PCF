{
 "cells": [
  {
   "cell_type": "markdown",
   "id": "90acdfae-1336-483f-a0be-c06ad55c2465",
   "metadata": {},
   "source": [
    "# Homework12. OOP"
   ]
  },
  {
   "cell_type": "markdown",
   "id": "2c1e368a-f52a-4b1c-897a-8c8b3e4d3fd0",
   "metadata": {},
   "source": [
    "### Exercise 1"
   ]
  },
  {
   "cell_type": "markdown",
   "id": "40fa3208-5fa4-4aad-ad14-55a02b57c247",
   "metadata": {},
   "source": [
    "Create a class called __InputValidator__ which should have a method called __validate_input__ to validate the arguments passed to the object. The arguments are the one passed to a register form for a site: name, lastname, email, date of birth, address, country, username and password. Think of ways the values provided to the class should be validated and return true if data is valid, print if there is any error."
   ]
  },
  {
   "cell_type": "code",
   "execution_count": null,
   "id": "3e70d06b-bad8-4d15-aa68-305140fe6701",
   "metadata": {},
   "outputs": [],
   "source": [
    "#INSERT CODE HERE"
   ]
  },
  {
   "cell_type": "markdown",
   "id": "c3930b45-b83b-4d41-9fc0-113376de7be0",
   "metadata": {},
   "source": [
    "No tests for this exercise"
   ]
  },
  {
   "cell_type": "markdown",
   "id": "6b87e2e6-fb33-4282-bb9b-27fdb16330d3",
   "metadata": {},
   "source": [
    "### Exercise 2"
   ]
  },
  {
   "cell_type": "markdown",
   "id": "da749880-bd9f-47c3-b0b9-50957cbd891b",
   "metadata": {},
   "source": [
    "Create an abstract class and make the InputValidator as it’s child class. The abstract class should enforce the validate_input method."
   ]
  },
  {
   "cell_type": "code",
   "execution_count": null,
   "id": "b2156b20-3fa2-4e41-835e-bd846852a7c8",
   "metadata": {},
   "outputs": [],
   "source": [
    "#INSERT CODE HERE"
   ]
  },
  {
   "cell_type": "markdown",
   "id": "a575ef1c-9e9d-4b56-af19-18a0b282263d",
   "metadata": {},
   "source": [
    "No tests for this exercise"
   ]
  }
 ],
 "metadata": {
  "kernelspec": {
   "display_name": "Python 3 (ipykernel)",
   "language": "python",
   "name": "python3"
  },
  "language_info": {
   "codemirror_mode": {
    "name": "ipython",
    "version": 3
   },
   "file_extension": ".py",
   "mimetype": "text/x-python",
   "name": "python",
   "nbconvert_exporter": "python",
   "pygments_lexer": "ipython3",
   "version": "3.10.10"
  }
 },
 "nbformat": 4,
 "nbformat_minor": 5
}
