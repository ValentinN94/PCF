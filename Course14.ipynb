{
 "cells": [
  {
   "cell_type": "markdown",
   "id": "210815d6-03ea-4458-9c3b-48ce6be14cd5",
   "metadata": {},
   "source": [
    "# Exception Handling"
   ]
  },
  {
   "cell_type": "markdown",
   "id": "cf4bd0c9-976e-40d1-bab6-67c48856c259",
   "metadata": {},
   "source": [
    "## Exceptions"
   ]
  },
  {
   "cell_type": "markdown",
   "id": "665d4c98-a9fd-47f4-823e-ac41875c7c11",
   "metadata": {},
   "source": [
    "- An Exception is when valid python code results into an error. \n",
    "- Examples:\n",
    "- Files not being in the folder we expected\n",
    "- Not enough permissions to open a file\n",
    "- Network connection or resources not being available\n",
    "- Division by zero"
   ]
  },
  {
   "cell_type": "markdown",
   "id": "c06b31ff-4c42-4a41-9b54-afa560292cb8",
   "metadata": {},
   "source": [
    "## Try-Except-Finally"
   ]
  },
  {
   "cell_type": "markdown",
   "id": "1c9ef519-0ac7-41c8-b400-abb004263fc1",
   "metadata": {},
   "source": [
    "- Try – lets you check if the block of code written inside the Try block can fail\n",
    "- Except - If there is any error, it will be handled by the Except block\n",
    "- Finally block lets you execute code, regardless of the result of the Try and Except block"
   ]
  },
  {
   "cell_type": "code",
   "execution_count": null,
   "id": "b38e45c0-4639-407b-8639-34212552a9cc",
   "metadata": {},
   "outputs": [],
   "source": [
    "try:\n",
    "    # This code is always executed, but there is a high chance off failure\n",
    "   print(100)\n",
    "except:\n",
    "    # This code is executed only if there was an error in the try block\n",
    "    print('An exception was raised')\n",
    "finally:\n",
    "    # This code is always executed\n",
    "    print('This is always executed')\n",
    "# What is the result of this script?"
   ]
  },
  {
   "cell_type": "code",
   "execution_count": null,
   "id": "5ef7d1dc-1637-40d2-96a9-f47358f9541c",
   "metadata": {},
   "outputs": [],
   "source": [
    "#Example of valid code which raises Exception\n",
    "print(a)"
   ]
  },
  {
   "cell_type": "code",
   "execution_count": null,
   "id": "dd7abc8b-109a-410f-9965-c815974eb985",
   "metadata": {},
   "outputs": [],
   "source": [
    "try:\n",
    "    print(a)\n",
    "except:\n",
    "    print('The try block failed, now this executes')\n",
    "    print('a is not defined anywhere')\n",
    "# What is the result of this script?"
   ]
  },
  {
   "cell_type": "code",
   "execution_count": null,
   "id": "18f6728a-ce4f-4e40-a85d-b32385b850b0",
   "metadata": {},
   "outputs": [],
   "source": [
    "try:\n",
    "    x = int(input(\"Enter a number: \"))\n",
    "    result = 10 / x\n",
    "except ZeroDivisionError:\n",
    "    print(\"You cannot divide by zero.\")\n",
    "except ValueError:\n",
    "    print(\"Invalid input. Please enter a valid number.\")\n",
    "except Exception as e:\n",
    "    print(f\"An error occurred: {e}\")"
   ]
  },
  {
   "cell_type": "code",
   "execution_count": null,
   "id": "506a0802-7b83-4509-9b52-4189015310df",
   "metadata": {},
   "outputs": [],
   "source": [
    "try:\n",
    "    f = open('my_text_file.txt', 'r')\n",
    "    for line in f:\n",
    "        print(line)\n",
    "except FileNotFoundError:\n",
    "    print('File does not exist')\n",
    "finally:\n",
    "    f.close()"
   ]
  },
  {
   "cell_type": "markdown",
   "id": "dd412f60-e839-4686-a1c7-abfe7b81dea0",
   "metadata": {},
   "source": [
    "## Raising Exceptions"
   ]
  },
  {
   "cell_type": "markdown",
   "id": "25a1865b-e1db-4be5-9717-92fa669cb092",
   "metadata": {},
   "source": [
    "- The raise statement allows the programmer to force a specified exception to occur\n",
    "- Raising exception is useful to explain when our code failed why the issue occur"
   ]
  },
  {
   "cell_type": "code",
   "execution_count": null,
   "id": "43dc28ba-2cdf-4a37-9395-51b156e4715c",
   "metadata": {},
   "outputs": [],
   "source": [
    "raise NameError('Hello')"
   ]
  },
  {
   "cell_type": "code",
   "execution_count": null,
   "id": "ea2f6999-9326-4d1a-8b2e-665dad93594f",
   "metadata": {},
   "outputs": [],
   "source": [
    "try:\n",
    "    raise NameError('HiThere')\n",
    "except NameError:\n",
    "    print('An exception flew by!')\n",
    "    raise"
   ]
  },
  {
   "cell_type": "code",
   "execution_count": null,
   "id": "2e304573-20d1-42a5-b45d-a60e6d131a82",
   "metadata": {},
   "outputs": [],
   "source": [
    "x = -1\n",
    "if x < 0:\n",
    "    raise Exception(\"Sorry, no numbers below zero\")"
   ]
  },
  {
   "cell_type": "markdown",
   "id": "33321fd0-12d6-4184-b83f-08400e386697",
   "metadata": {},
   "source": [
    "## User defined Exceptions"
   ]
  },
  {
   "cell_type": "code",
   "execution_count": null,
   "id": "f3fdf63f-ef9b-4859-902a-c9552933d8fe",
   "metadata": {},
   "outputs": [],
   "source": [
    "class TableFull(Exception):\n",
    "    pass\n",
    "class PercentageTooLowError(Exception):\n",
    "   pass\n",
    "class PercentageTooHighError(Exception):\n",
    "   pass"
   ]
  }
 ],
 "metadata": {
  "kernelspec": {
   "display_name": "Python 3 (ipykernel)",
   "language": "python",
   "name": "python3"
  },
  "language_info": {
   "codemirror_mode": {
    "name": "ipython",
    "version": 3
   },
   "file_extension": ".py",
   "mimetype": "text/x-python",
   "name": "python",
   "nbconvert_exporter": "python",
   "pygments_lexer": "ipython3",
   "version": "3.10.10"
  }
 },
 "nbformat": 4,
 "nbformat_minor": 5
}
