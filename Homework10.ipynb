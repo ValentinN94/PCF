{
 "cells": [
  {
   "cell_type": "markdown",
   "id": "b5e59700-edb2-4519-a70d-4f6a78f7935e",
   "metadata": {},
   "source": [
    "# Homework10. Modules"
   ]
  },
  {
   "cell_type": "markdown",
   "id": "bbaa2cad-4e11-4658-be70-32240dba3821",
   "metadata": {},
   "source": [
    "### Exercise 1"
   ]
  },
  {
   "cell_type": "markdown",
   "id": "bd4f4477-d53f-4f6f-92b6-eb98f89830b3",
   "metadata": {},
   "source": [
    "Add the following python packages to your venv using pip(either via command line or Pycharm UI):\n",
    "numpy, pywin32, pandas, matplotlib. Provide a screenshot with ur list of modules in your venv."
   ]
  },
  {
   "cell_type": "markdown",
   "id": "b645e04d-e8fc-4b6d-8b1f-876fa62c0c5a",
   "metadata": {},
   "source": [
    "No tests for this exercise. This exercise can be done in Pycharm or VSCode or in a terminal using __pip__"
   ]
  },
  {
   "cell_type": "markdown",
   "id": "0bb2c877-1b78-4b64-af0a-2ae36e9049da",
   "metadata": {},
   "source": [
    "### Exercise 2"
   ]
  },
  {
   "cell_type": "markdown",
   "id": "3808ac80-b77b-4b96-ae72-bc88a17e3a1b",
   "metadata": {},
   "source": [
    "Create a package and a directory in Pycharm. What is the difference between those two?"
   ]
  },
  {
   "cell_type": "markdown",
   "id": "1c0a7671-6a16-4505-b828-bc1b1cec2696",
   "metadata": {},
   "source": [
    "No tests for this exercise. This exercise can be done in Pycharm or VSCode."
   ]
  },
  {
   "cell_type": "markdown",
   "id": "413b1d49-8f49-429b-9f79-e7847142e209",
   "metadata": {},
   "source": [
    "### Exercise 3"
   ]
  },
  {
   "cell_type": "markdown",
   "id": "b0c6bc40-d9a7-4f0e-892c-75578edc7cee",
   "metadata": {},
   "source": [
    "Create a module called loan.  \n",
    "In the loan module there should be a function called interest_calculator which has 3 parameters: sum of money, period and interest_rate.\n",
    "Sum of money is the number of money loaned, period is the time of the loan, expressed in months and interest_rate is a percent of sum of money. By default the value of interest should be 5% and it can not be higher than 15% and should not be any lower than 5%.\n",
    "Calling the loan_money function will return a tuple with the sum of money which needs to be repaid(contains interest rate applied to the initial money sum) and the date at which the money has to be paid back."
   ]
  },
  {
   "cell_type": "markdown",
   "id": "acf98fe5-9bfd-4491-98ad-4e5ca12f8725",
   "metadata": {},
   "source": [
    "No tests for this exercise. This exercise can be done in Pycharm or VSCode or any other text editor."
   ]
  },
  {
   "cell_type": "markdown",
   "id": "52a9f914-1237-4c44-bc5c-d3af2fa0148d",
   "metadata": {},
   "source": [
    "### Exercise 4"
   ]
  },
  {
   "cell_type": "markdown",
   "id": "84810d65-0198-4b7f-b11d-1637f08acb37",
   "metadata": {},
   "source": [
    "In another module in your project, import the module and call the function with the following arguments:\n",
    "interest_calculator(1000, 7)\n",
    "interest_calculator(10000, 15, 15)\n",
    "interest_calculator(5000, 4, 8)\n",
    "interest_calculator(2000, 10, 2)\n",
    "interest_calculator(8490, 40, 10)"
   ]
  },
  {
   "cell_type": "markdown",
   "id": "0912f598-a238-4008-a529-2c016efde912",
   "metadata": {},
   "source": [
    "No tests for this exercise. This exercise can be done in Pycharm or VSCode or any other text editor."
   ]
  }
 ],
 "metadata": {
  "kernelspec": {
   "display_name": "Python 3 (ipykernel)",
   "language": "python",
   "name": "python3"
  },
  "language_info": {
   "codemirror_mode": {
    "name": "ipython",
    "version": 3
   },
   "file_extension": ".py",
   "mimetype": "text/x-python",
   "name": "python",
   "nbconvert_exporter": "python",
   "pygments_lexer": "ipython3",
   "version": "3.10.10"
  }
 },
 "nbformat": 4,
 "nbformat_minor": 5
}
