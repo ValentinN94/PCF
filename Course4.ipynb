{
 "cells": [
  {
   "cell_type": "markdown",
   "id": "67d5246b-9a6f-4b39-bb1e-2652f253c6ef",
   "metadata": {},
   "source": [
    "# Lists"
   ]
  },
  {
   "cell_type": "markdown",
   "id": "cbbf5d37-8a1a-4937-bcbe-e577ac1d7c5e",
   "metadata": {},
   "source": [
    "- A collection of multiple data type\n",
    "- Any kind of data can be joined together in a list\n",
    "- In python we use square brackets for list creation [ ]\n",
    "- Similar to an array in other programming languages\n",
    "- Unlike Strings, the list is mutable\n",
    "- There is a built-in list() type cast but it requires other collection data types"
   ]
  },
  {
   "cell_type": "code",
   "execution_count": null,
   "id": "f9939482-f7fc-4319-a262-a5bb9102f26d",
   "metadata": {},
   "outputs": [],
   "source": [
    "my_list = [123, 'hello', True, 2.0]\n",
    "print(my_list)\n",
    "my_list[0] = False\n",
    "print(my_list)"
   ]
  },
  {
   "cell_type": "code",
   "execution_count": null,
   "id": "98dc2c81-9ee6-4761-8ccd-d6c7050c6c2d",
   "metadata": {},
   "outputs": [],
   "source": [
    "my_list = [123, 'hello', True, 2.0]\n",
    "for item in my_list:\n",
    "    print(item)"
   ]
  },
  {
   "cell_type": "code",
   "execution_count": null,
   "id": "2231b172-71a5-4fee-95b2-944fe01178df",
   "metadata": {},
   "outputs": [],
   "source": [
    "my_list = [123, 'hello', True, 2.0]\n",
    "if True in my_list:\n",
    "    print('True is in my list!')"
   ]
  },
  {
   "cell_type": "code",
   "execution_count": null,
   "id": "eaad9189-d7c9-459d-89e1-b7ad245d05af",
   "metadata": {},
   "outputs": [],
   "source": [
    "my_list = list(range(10))\n",
    "for i in my_list:\n",
    "    print(i)"
   ]
  },
  {
   "cell_type": "code",
   "execution_count": null,
   "id": "b2763494-b0c4-4187-9531-31fb6e519f2e",
   "metadata": {},
   "outputs": [],
   "source": [
    "my_list = list('Python')\n",
    "print(my_list)\n",
    "my_list = []\n",
    "my_list += 'Hello'\n",
    "print(my_list)"
   ]
  },
  {
   "cell_type": "code",
   "execution_count": null,
   "id": "51d10009-83f1-47c2-a909-0220982b827b",
   "metadata": {},
   "outputs": [],
   "source": [
    "s = 'This is a longer string separated by spaces'\n",
    "my_list = s.split()\n",
    "for i in my_list:\n",
    "    print(i)"
   ]
  },
  {
   "cell_type": "markdown",
   "id": "b42b210d-8ddf-47b1-95bb-42782142ae73",
   "metadata": {},
   "source": [
    "## List functions"
   ]
  },
  {
   "cell_type": "code",
   "execution_count": null,
   "id": "b277f62b-1203-4f4f-90a4-0a586c82f3f8",
   "metadata": {},
   "outputs": [],
   "source": [
    "# appending an element to a list\n",
    "my_list = [1, 2, 3]\n",
    "my_list.append(4)\n",
    "print(my_list)"
   ]
  },
  {
   "cell_type": "code",
   "execution_count": null,
   "id": "f88945bc-780a-4309-8702-61f045871d78",
   "metadata": {},
   "outputs": [],
   "source": [
    "# counting the number of apperances in a list\n",
    "my_list = [1, 2, 3, 1, 4, 5]\n",
    "print(my_list.count(1))"
   ]
  },
  {
   "cell_type": "code",
   "execution_count": null,
   "id": "74ffb4f3-2608-4c27-a6cc-8d6752d34ad4",
   "metadata": {},
   "outputs": [],
   "source": [
    "# get the index of the first found element\n",
    "my_list = [1, 2, 3, 1, 4, 5]\n",
    "print(my_list.index(1))"
   ]
  },
  {
   "cell_type": "code",
   "execution_count": null,
   "id": "0986ad6a-5f3b-4f0b-a231-d1db1958d5e4",
   "metadata": {},
   "outputs": [],
   "source": [
    "# insert element in list a specified index\n",
    "my_list = ['a', 'b', 'c']\n",
    "my_list.insert(0, 'd')\n",
    "print(my_list)"
   ]
  },
  {
   "cell_type": "code",
   "execution_count": null,
   "id": "8c04c289-4294-46f3-816b-66ae5e3b95cf",
   "metadata": {},
   "outputs": [],
   "source": [
    "# remove last element from the list\n",
    "my_list = ['d', 'a', 'b', 'c']\n",
    "my_list.pop()\n",
    "print(my_list)"
   ]
  },
  {
   "cell_type": "code",
   "execution_count": null,
   "id": "e7e510bf-ebaa-4c2f-823c-71b64b1345b6",
   "metadata": {},
   "outputs": [],
   "source": [
    "# sort the list\n",
    "my_list = [34, 28, 1, 2]\n",
    "my_list.sort()\n",
    "print(my_list)"
   ]
  },
  {
   "cell_type": "markdown",
   "id": "0dea313c-1914-46f2-940b-09262dbea84c",
   "metadata": {},
   "source": [
    "## List slicing"
   ]
  },
  {
   "cell_type": "code",
   "execution_count": null,
   "id": "5fd9deaa-ad60-4d48-a770-437c3a75005e",
   "metadata": {},
   "outputs": [],
   "source": [
    "# accessing an element based on index\n",
    "my_list = [12, True, 'a', 2.0]\n",
    "print(my_list[1])"
   ]
  },
  {
   "cell_type": "code",
   "execution_count": null,
   "id": "d58e9e05-2f28-417c-a0a8-f72e39f7e43b",
   "metadata": {},
   "outputs": [],
   "source": [
    "# slicing from beginning to the end\n",
    "my_list = ['a', 'b', 'c', 'd', 'e', 'f']\n",
    "print(my_list[2:6])"
   ]
  },
  {
   "cell_type": "code",
   "execution_count": null,
   "id": "66cd9656-7084-48a4-9c2b-0d7c184425c6",
   "metadata": {},
   "outputs": [],
   "source": [
    "# slicing from the third element to the last one\n",
    "print(my_list[3:])"
   ]
  },
  {
   "cell_type": "code",
   "execution_count": null,
   "id": "ab4b66d3-60cb-4394-b390-9fa27114fc3b",
   "metadata": {},
   "outputs": [],
   "source": [
    "# slicing from the beginning until the third last element\n",
    "print(my_list[:-3])"
   ]
  },
  {
   "cell_type": "code",
   "execution_count": null,
   "id": "7bff8ce8-4c6e-42b6-844f-c1b46a28af09",
   "metadata": {},
   "outputs": [],
   "source": [
    "# reversing the list\n",
    "print(my_list[::-1])"
   ]
  }
 ],
 "metadata": {
  "kernelspec": {
   "display_name": "Python 3 (ipykernel)",
   "language": "python",
   "name": "python3"
  },
  "language_info": {
   "codemirror_mode": {
    "name": "ipython",
    "version": 3
   },
   "file_extension": ".py",
   "mimetype": "text/x-python",
   "name": "python",
   "nbconvert_exporter": "python",
   "pygments_lexer": "ipython3",
   "version": "3.10.10"
  }
 },
 "nbformat": 4,
 "nbformat_minor": 5
}
