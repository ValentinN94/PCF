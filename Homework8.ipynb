{
 "cells": [
  {
   "cell_type": "markdown",
   "id": "06605e55-fe11-4681-9f19-0bedfb09a089",
   "metadata": {},
   "source": [
    "# Homework7. Dictionaries"
   ]
  },
  {
   "cell_type": "markdown",
   "id": "fc30d556-4592-4c16-948f-bbb74f911a87",
   "metadata": {},
   "source": [
    "### Exercise 1"
   ]
  },
  {
   "cell_type": "markdown",
   "id": "6a066ae3-545c-49b1-80a9-4190ea8d5bc4",
   "metadata": {},
   "source": [
    "Create a function called __greetings__ which has 2 parameters, the first one is a string called __greeting__ and should have the default value of __\"Hello\"__. The second one should be the string we have to pass to the function and should be appended to the greeting. The function should print the two strings in one line.  \n",
    "Invoke the function with the following values:  \n",
    "greetings(“Sam”)  \n",
    "greetings(“Dan”, “Good morning”)  \n",
    "greetings(“Alex”, “Good afternoon”)  \n",
    "greetings(‘Lily”, “Good day”)  "
   ]
  },
  {
   "cell_type": "code",
   "execution_count": null,
   "id": "2424a184-07bd-42b4-ac6f-af5d5ebb68d3",
   "metadata": {},
   "outputs": [],
   "source": [
    "#INSERT CODE HERE\n"
   ]
  },
  {
   "cell_type": "markdown",
   "id": "500cb6ed-bd3c-4964-a885-b819bcc28967",
   "metadata": {},
   "source": [
    "No test for this exercise but the print should match the follow pattern:   \n",
    "Hello, Sam.  \n",
    "Good morning, Dan. \n",
    "Good afternoon, Alex.   \n",
    "Good day, Lily.  "
   ]
  },
  {
   "cell_type": "markdown",
   "id": "c233397f-9094-4c71-ba33-d3aef9ac6540",
   "metadata": {},
   "source": [
    "### Exercise 2"
   ]
  },
  {
   "cell_type": "markdown",
   "id": "a6c209db-8311-423b-9900-baf988743872",
   "metadata": {},
   "source": [
    "Create a function which should behave like range function from python2 and return a list of wished integers. You can call it __my_range2__.  \n",
    "The function signature is the following: __range(start, stop, step)__ \n",
    "However, in python the user can provide just the stop value and it will create a list of integers from the beginning till the stop value. Also users can specify the step value.\n",
    "Invoke the function with the following values:\n",
    "my_range2(10)\n",
    "my_range2(10, 20)\n",
    "my_range2(20, 10)\n",
    "my_range2(10, 20, 2)\n",
    "my_range2(10, 20, 3)"
   ]
  },
  {
   "cell_type": "code",
   "execution_count": null,
   "id": "ebffb9a1-9c78-4f11-b509-e43e04c3f005",
   "metadata": {},
   "outputs": [],
   "source": [
    "#INSERT CODE HERE\n"
   ]
  },
  {
   "cell_type": "code",
   "execution_count": null,
   "id": "9333a75b-1ec5-449f-ad14-755a2beffc9a",
   "metadata": {},
   "outputs": [],
   "source": [
    "#TEST FOR EXERCISE 2\n",
    "assert (my_range2(10) == list(range(10)))\n",
    "assert (my_range2(10, 20) == list(range(10, 20)))\n",
    "assert (my_range2(20, 10) == list(range(20, 10)))\n",
    "assert (my_range2(10, 20, 2) == list(range(10, 20, 2)))\n",
    "assert (my_range2(10, 20, 3) == list(range(10, 20, 3)))"
   ]
  },
  {
   "cell_type": "markdown",
   "id": "959f7adc-127a-4f12-bbf1-41b97d1a23b7",
   "metadata": {},
   "source": [
    "### Exercise 3"
   ]
  },
  {
   "cell_type": "markdown",
   "id": "bad800f5-5f2e-485a-a90c-c6d2b8f9ad91",
   "metadata": {},
   "source": [
    "Create a function which will unpack a dictionary to a list provided to the function. Our dictionary can be as long as we want it to be.  \n",
    "\n",
    "Examples:\n",
    "dict_unpack(name=\"John\", lastname=\"Doe\", age=30, dob=\"10.12.1990\")   \n",
    "dict_unpack(name=\"John\", lastname=\"Doe\", age=30, dob='10.12.1990', color=\"blue\", car=None, nickname= None, location = \"NYC\")"
   ]
  },
  {
   "cell_type": "code",
   "execution_count": null,
   "id": "2b9c5849-4d11-48f6-8737-a4fc05404093",
   "metadata": {},
   "outputs": [],
   "source": [
    "#INSERT CODE HERE\n"
   ]
  },
  {
   "cell_type": "code",
   "execution_count": null,
   "id": "e3b75550-784e-4c0f-b7b2-307675a875d8",
   "metadata": {},
   "outputs": [],
   "source": [
    "#TESTS FOR EXERCISE 3\n",
    "assert (dict_unpack(name=\"John\", lastname=\"Doe\", age=30, dob='10.12.1990') == ['name','John','lastname','Doe','age',30,'dob','10.12.1990',])\n",
    "assert (dict_unpack(name=\"John\", lastname=\"Doe\", age=30, dob='10.12.1990', color=\"blue\", car=None, nickname= None, location = \"NYC\") == ['name', 'John', 'lastname', 'Doe', 'age', 30, 'dob', '10.12.1990', 'color', 'blue', 'car', None, 'nickname', None, 'location', 'NYC'])"
   ]
  },
  {
   "cell_type": "markdown",
   "id": "3a0fd355-ab2a-4750-a786-735a37534468",
   "metadata": {},
   "source": [
    "### Exercise 4"
   ]
  },
  {
   "cell_type": "code",
   "execution_count": null,
   "id": "952bdde2-0316-41f5-a6a2-e351bd9cdfec",
   "metadata": {},
   "outputs": [],
   "source": [
    "#You are given the following code:\n",
    "\n",
    "a = 100\n",
    "def my_f():\n",
    "    b = 200\n",
    "    def inner_my_f():\n",
    "        c = 300\n",
    "    inner_my_f()\n",
    "\n",
    "#Explain the scope of variables a, b and c."
   ]
  },
  {
   "cell_type": "markdown",
   "id": "65b18e46-cf2e-4a59-9ad2-721a6892bf30",
   "metadata": {},
   "source": [
    "No tests for this exercise"
   ]
  }
 ],
 "metadata": {
  "kernelspec": {
   "display_name": "Python 3 (ipykernel)",
   "language": "python",
   "name": "python3"
  },
  "language_info": {
   "codemirror_mode": {
    "name": "ipython",
    "version": 3
   },
   "file_extension": ".py",
   "mimetype": "text/x-python",
   "name": "python",
   "nbconvert_exporter": "python",
   "pygments_lexer": "ipython3",
   "version": "3.10.10"
  }
 },
 "nbformat": 4,
 "nbformat_minor": 5
}
