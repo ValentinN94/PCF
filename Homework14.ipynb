{
 "cells": [
  {
   "cell_type": "markdown",
   "id": "b68e0068-71cf-4178-b0a1-73c69d3eabc1",
   "metadata": {},
   "source": [
    "# Homework14. Exception Handling"
   ]
  },
  {
   "cell_type": "markdown",
   "id": "abbd1f0e-5cde-4747-9be2-df9298ca80c3",
   "metadata": {},
   "source": [
    "### Exercise 1"
   ]
  },
  {
   "cell_type": "markdown",
   "id": "24849eeb-47e0-46e1-9986-0f56da6626bc",
   "metadata": {},
   "source": [
    "Create the following exceptions: __GradeAverageTooLow__, __GradeAverageTooHigh__"
   ]
  },
  {
   "cell_type": "code",
   "execution_count": 2,
   "id": "bf282015-1c8c-4b54-b207-10e4b8046c7e",
   "metadata": {},
   "outputs": [],
   "source": [
    "#INSERT CODE HERE"
   ]
  },
  {
   "cell_type": "code",
   "execution_count": 3,
   "id": "214af737-0214-46d6-9272-315cb246a453",
   "metadata": {},
   "outputs": [],
   "source": [
    "#TESTS FOR EXERCISE 1\n",
    "assert issubclass(GradeAverageTooLow, Exception)\n",
    "assert issubclass(GradeAverageTooHigh, Exception)"
   ]
  },
  {
   "cell_type": "markdown",
   "id": "301ef951-a4b2-4c3d-891c-c44d6449c908",
   "metadata": {},
   "source": [
    "### Exercise 2"
   ]
  },
  {
   "cell_type": "markdown",
   "id": "fb99e377-81a8-4d11-80c6-c803c012fa19",
   "metadata": {},
   "source": [
    "Create a class called __Student__ which takes 2 arguments: __name__ and __grade_average__"
   ]
  },
  {
   "cell_type": "code",
   "execution_count": 4,
   "id": "12e083a6-e66a-46bf-8613-6519adb78ab1",
   "metadata": {},
   "outputs": [],
   "source": [
    "#INSERT CODE HERE"
   ]
  },
  {
   "cell_type": "code",
   "execution_count": 5,
   "id": "f9d65d76-6ee6-45cf-8b5b-183dbc1d85a2",
   "metadata": {},
   "outputs": [],
   "source": [
    "#TESTS FOR EXERCISE 3\n",
    "new_student = Student('George', 7)\n",
    "assert hasattr(new_student, '__init__')"
   ]
  },
  {
   "cell_type": "markdown",
   "id": "948b171d-ee9f-46ac-90d1-1bc640a5aed9",
   "metadata": {},
   "source": [
    "### Exercise 3"
   ]
  },
  {
   "cell_type": "markdown",
   "id": "e0e522d2-74b6-4152-8cf5-bac6211456eb",
   "metadata": {},
   "source": [
    "Create a class called HighSchoolAsign which takes 4 arguments:  \n",
    "- school_name  \n",
    "- lowest_grade_average_threshold  \n",
    "- highest_grade_average_threshold  \n",
    "- student_object\n",
    "\n",
    "If the Student object provided to the HighschoolAsign object has the grade_average lower than lowest_grade_average_threshold raise a GradeAverageTooLow exception.  \n",
    "If the Student object provided to the HighSchoolAsign object has the grade_average higher than highest_grade_average_threshold raise a GradeAverageTooHigh exception."
   ]
  },
  {
   "cell_type": "code",
   "execution_count": 6,
   "id": "37712ae7-e5fa-4c1a-808e-360f23c52844",
   "metadata": {},
   "outputs": [],
   "source": [
    "#INSERT CODE HERE"
   ]
  },
  {
   "cell_type": "markdown",
   "id": "1d0870fa-f249-4bb0-b1f2-494b0b61b388",
   "metadata": {},
   "source": [
    "No test for this exercise, provide your own examples and see if the Exceptions are raised if the Student average is outside of the treshold range."
   ]
  },
  {
   "cell_type": "markdown",
   "id": "9b9edd08-2659-4bcb-b1ca-ff4839b6bb78",
   "metadata": {},
   "source": [
    "### Exercise 4"
   ]
  },
  {
   "cell_type": "markdown",
   "id": "8e0c41e5-e59b-42bb-b889-ef7d3f1ede12",
   "metadata": {},
   "source": [
    "Using the open statement, write valid code which will raise an exception. Treat that exception with a try-except block."
   ]
  },
  {
   "cell_type": "code",
   "execution_count": null,
   "id": "e329f629-57ad-4e70-8474-6af33cc6aa56",
   "metadata": {},
   "outputs": [],
   "source": [
    "#INSERT CODE HERE"
   ]
  },
  {
   "cell_type": "markdown",
   "id": "0eadb3b9-769e-45c3-ae72-9899471dad4b",
   "metadata": {},
   "source": [
    "No tests for this exercise"
   ]
  }
 ],
 "metadata": {
  "kernelspec": {
   "display_name": "Python 3 (ipykernel)",
   "language": "python",
   "name": "python3"
  },
  "language_info": {
   "codemirror_mode": {
    "name": "ipython",
    "version": 3
   },
   "file_extension": ".py",
   "mimetype": "text/x-python",
   "name": "python",
   "nbconvert_exporter": "python",
   "pygments_lexer": "ipython3",
   "version": "3.10.10"
  }
 },
 "nbformat": 4,
 "nbformat_minor": 5
}
