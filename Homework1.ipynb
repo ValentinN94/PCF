{
 "cells": [
  {
   "cell_type": "markdown",
   "id": "8b572bf0-735d-410f-82ee-c12afcdcc054",
   "metadata": {},
   "source": [
    "# Homework1. Variables"
   ]
  },
  {
   "cell_type": "markdown",
   "id": "f0e0c584-92a8-47d1-a685-32ca8a79ffa2",
   "metadata": {},
   "source": [
    "### Exercise 1"
   ]
  },
  {
   "cell_type": "markdown",
   "id": "040b7016-a07d-40a9-aa80-3fd440fa5694",
   "metadata": {},
   "source": [
    "In one code cell define two integer variables called __x__ and __y__ with the value of __150__ for __x__ and __100__ for __y__. Store the sum of the two variable in a variable called __sum__.\n",
    "What is the result of the evaluation of the sum variable? \n",
    "What about the type of the sum variable? Explain the type obtained."
   ]
  },
  {
   "cell_type": "code",
   "execution_count": null,
   "id": "67142457-c8f7-4abc-8dcb-e9ca328f2d7b",
   "metadata": {},
   "outputs": [],
   "source": [
    "# INSERT YOUR CODE HERE\n"
   ]
  },
  {
   "cell_type": "code",
   "execution_count": null,
   "id": "623ebac5-4266-4e35-88c0-5a94351aba9b",
   "metadata": {
    "jupyter": {
     "source_hidden": true
    }
   },
   "outputs": [],
   "source": [
    "# TESTS FOR EXERCISE 1, DO NOT MODIFY\n",
    "assert (type(x) == int)\n",
    "assert (type(y) == int)\n",
    "assert (type(sum) == int)\n",
    "assert (x == 150)\n",
    "assert (y == 100)\n",
    "assert (sum == x + y)"
   ]
  },
  {
   "cell_type": "markdown",
   "id": "34deaad1-afd4-4e31-939c-d051619a26db",
   "metadata": {},
   "source": [
    "### Exercise 2"
   ]
  },
  {
   "cell_type": "markdown",
   "id": "c5a74ed6-5ac2-4d5c-8e07-add3d4cf37ee",
   "metadata": {},
   "source": [
    "In one code cell define two integer variables called __k__ and __l__ with the value of __20__ for __k__ and __5__ for __l__. Store the division of the two variables in a variable called __divis__ and __k__ should be divided by __l__. \n",
    "What is the result of the evaluation of the divis variable?\n",
    "What about the type of the divis variable? Explain the type obtained."
   ]
  },
  {
   "cell_type": "code",
   "execution_count": null,
   "id": "b3dda71c-db8d-464c-9323-caac74b754b7",
   "metadata": {},
   "outputs": [],
   "source": [
    "#INSERT YOUR CODE HERE\n"
   ]
  },
  {
   "cell_type": "code",
   "execution_count": null,
   "id": "92c9ac72-6f94-4987-8e47-a10f8f7fa7e9",
   "metadata": {
    "jupyter": {
     "source_hidden": true
    }
   },
   "outputs": [],
   "source": [
    "# TESTS FOR EXERCISE 2, DO NOT MODIFY\n",
    "assert (type(k) == int)\n",
    "assert (type(l) == int)\n",
    "assert (type(divis) == float)\n",
    "assert (k == 20)\n",
    "assert (l == 5)\n",
    "assert (divis == 4.0)"
   ]
  },
  {
   "cell_type": "markdown",
   "id": "1bb18ee5-6a0c-4070-9b00-9cda1ea0c5d8",
   "metadata": {},
   "source": [
    "### Exercise 3"
   ]
  },
  {
   "cell_type": "markdown",
   "id": "7ec8ea16-d958-4386-899d-31e81f0486b9",
   "metadata": {},
   "source": [
    "In one code cell define two floating point variables called __a__ and __b__ with the value of __2,0__ for __a__ and __5,0__ for __b__. Store the multiplication of the two variables in a variable called __mult__. What is the result of the evaluation of the mult variable? What about the type of the mult variable? Explain the type obtained."
   ]
  },
  {
   "cell_type": "code",
   "execution_count": null,
   "id": "92feeca8-c722-4324-bc15-8ba62e942b3a",
   "metadata": {},
   "outputs": [],
   "source": [
    "#INSERT YOUR CODE HERE\n"
   ]
  },
  {
   "cell_type": "code",
   "execution_count": null,
   "id": "06763dc2-c744-46d4-98ae-f4d9ac5f5b5a",
   "metadata": {
    "jupyter": {
     "source_hidden": true
    }
   },
   "outputs": [],
   "source": [
    "# TESTS FOR EXERCISE 3, DO NOT MODIFY\n",
    "assert (type(a) == float)\n",
    "assert (type(b) == float)\n",
    "assert (type(mult) == float)\n",
    "assert (a == 2.0)\n",
    "assert (b == 5.0)\n",
    "assert (mult == a * b)"
   ]
  },
  {
   "cell_type": "markdown",
   "id": "d41859c8-13c2-4c58-9c4c-6cb60f3f109f",
   "metadata": {},
   "source": [
    "### Exercise 4"
   ]
  },
  {
   "cell_type": "markdown",
   "id": "9f1ad4d9-1ce1-4b67-a07b-a64ee33287ac",
   "metadata": {},
   "source": [
    "In one code cell define one integer called __u__ with the value of __100__ and one floating point number with the value of __55,55__ with variable name of __f__. Store the difference of __f__ from the first variable called __u__ into a new variable called __diff__. What is the result of the difference? What is the type of the diff variable? Explain the type obtained."
   ]
  },
  {
   "cell_type": "code",
   "execution_count": null,
   "id": "4f3f5664-dac1-4681-bed2-eb45b1b57b32",
   "metadata": {},
   "outputs": [],
   "source": [
    "#INSERT YOUR CODE HERE\n"
   ]
  },
  {
   "cell_type": "code",
   "execution_count": null,
   "id": "e4ebeed4-6b41-46e2-af62-3ec6cbb46ce0",
   "metadata": {},
   "outputs": [],
   "source": [
    "# TESTS FOR EXERCISE 4, DO NOT MODIFY\n",
    "assert (type(u) == int)\n",
    "assert (type(f) == float)\n",
    "assert (type(diff) == float)\n",
    "assert (a == 100)\n",
    "assert (b == 55.55)\n",
    "assert (diff == u - f)"
   ]
  },
  {
   "cell_type": "markdown",
   "id": "f2ae902d-1dba-467f-afd3-fd78330b5f87",
   "metadata": {},
   "source": [
    "### Exercise 5"
   ]
  },
  {
   "cell_type": "markdown",
   "id": "e34d2e50-f499-4183-89dc-0516bb40ca1a",
   "metadata": {},
   "source": [
    "In one code cell define one variable called __floor_div__ where you perform a floor division on the number __100__ with the value of __7__. What is the answer and the type of the result? Explain the result of the type function?"
   ]
  },
  {
   "cell_type": "code",
   "execution_count": null,
   "id": "3d96f24c-3e08-40d0-9b19-4879f08e317a",
   "metadata": {},
   "outputs": [],
   "source": [
    "#INSERT YOUR CODE HERE\n"
   ]
  },
  {
   "cell_type": "code",
   "execution_count": null,
   "id": "12de7a61-7f2d-4864-8fe0-b31b29920cc5",
   "metadata": {
    "jupyter": {
     "source_hidden": true
    }
   },
   "outputs": [],
   "source": [
    "# TESTS FOR EXERCISE 5, DO NOT MODIFY\n",
    "assert (floor_div == 14)\n",
    "assert (type(floor_div) == int)"
   ]
  },
  {
   "cell_type": "markdown",
   "id": "35512022-4f4a-4cb7-bf8a-d1c05a051159",
   "metadata": {},
   "source": [
    "### Exercise 6"
   ]
  },
  {
   "cell_type": "markdown",
   "id": "37fa77d6-8e32-434c-bf48-3e8e611a1a07",
   "metadata": {},
   "source": [
    "Define two boolean variables __boolean_true__ and __boolean_false__ with the values of __True__ and __False__. Perform the boolean or operation and boolean and operation on the two variables and store the results in the variable called __boolean_or__ and in __boolean_and__. Explain why did you receive the result."
   ]
  },
  {
   "cell_type": "code",
   "execution_count": null,
   "id": "7b7fd52a-345d-4c64-aef7-02f970a9cc8f",
   "metadata": {},
   "outputs": [],
   "source": [
    "#INSERT YOUR CODE HERE\n"
   ]
  },
  {
   "cell_type": "code",
   "execution_count": null,
   "id": "4dbf3023-aac4-4366-bc05-1982fecb8ca9",
   "metadata": {
    "jupyter": {
     "source_hidden": true
    }
   },
   "outputs": [],
   "source": [
    "# TESTS FOR EXERCISE 6, DO NOT MODIFY\n",
    "assert (type(boolean_true) == bool)\n",
    "assert (type(boolean_false) == bool)\n",
    "assert (type(boolean_and) == bool)\n",
    "assert (type(boolean_or) == bool)\n",
    "assert (boolean_true == True)\n",
    "assert (boolean_false == False)\n",
    "assert (boolean_and == (boolean_true and boolean_false))\n",
    "assert (boolean_or == (boolean_true or boolean_false))"
   ]
  },
  {
   "cell_type": "markdown",
   "id": "9535024f-8170-4881-ab0c-e91038a1f83c",
   "metadata": {},
   "source": [
    "### Exercise 7"
   ]
  },
  {
   "cell_type": "markdown",
   "id": "99da9a73-1635-4018-b15b-603d386f018e",
   "metadata": {},
   "source": [
    "Define two variables called __not_boolean_true__ and __not_boolean_false__ in which you apply the not operation to __boolean_true__ and __boolean_false__.\n",
    "Explain the result received? What about if you call the function on the result variables __boolean_or__ and __boolean_and__? Explain the result received."
   ]
  },
  {
   "cell_type": "code",
   "execution_count": null,
   "id": "87edcf73-c206-4cea-be2f-64da5fa0a96f",
   "metadata": {},
   "outputs": [],
   "source": [
    "#INSERT YOUR CODE HERE\n"
   ]
  },
  {
   "cell_type": "code",
   "execution_count": null,
   "id": "0a2b90e0-2563-4627-aa7f-6feb562026e2",
   "metadata": {
    "jupyter": {
     "source_hidden": true
    }
   },
   "outputs": [],
   "source": [
    "# TESTS FOR EXERCISE 7, DO NOT MODIFY\n",
    "assert (type(not_boolean_true) == bool)\n",
    "assert (type(not_boolean_false) == bool)\n",
    "assert (not_boolean_true == False)\n",
    "assert (not_boolean_false == True)"
   ]
  },
  {
   "cell_type": "markdown",
   "id": "79b476d2-9d39-4f2a-a0df-b15ccdc3cf22",
   "metadata": {},
   "source": [
    "### Exercise 8 (This makes a reference to Exercise 6)"
   ]
  },
  {
   "cell_type": "markdown",
   "id": "5587de07-6073-4343-908b-e4acd8740af7",
   "metadata": {},
   "source": [
    "Reassign to the variables __boolean_true__ and __boolean_false__ with the values of __1__ and __0__(look at Exercise 6 definition, that's where were taking our information). Perform the operation again and store it in the same variables. How does the result differ from the previous exercise? What is the result of the type function called on the __boolean_true__ and __boolean_false__? After calling the type function of the two variables compare the result with the results of the previous"
   ]
  },
  {
   "cell_type": "code",
   "execution_count": null,
   "id": "f7f55b72-3d99-49e8-871f-a20594c333e8",
   "metadata": {},
   "outputs": [],
   "source": [
    "#INSERT YOUR CODE HERE\n"
   ]
  },
  {
   "cell_type": "code",
   "execution_count": null,
   "id": "7d53c2a7-6f49-4255-a27f-817af1636859",
   "metadata": {
    "jupyter": {
     "source_hidden": true
    }
   },
   "outputs": [],
   "source": [
    "# TESTS FOR EXERCISE 8, DO NOT MODIFY\n",
    "assert (type(boolean_true) == int)\n",
    "assert (type(boolean_false) == int)\n",
    "assert (type(boolean_and) == int)\n",
    "assert (type(boolean_or) == int)\n",
    "assert (boolean_true == True)\n",
    "assert (boolean_false == False)\n",
    "assert (boolean_and == (boolean_true and boolean_false))\n",
    "assert (boolean_or == (boolean_true or boolean_false))"
   ]
  },
  {
   "cell_type": "markdown",
   "id": "61c27acb-ec2b-4df6-b013-5f6d21bf9de5",
   "metadata": {},
   "source": [
    " ### Exercise 9"
   ]
  },
  {
   "cell_type": "markdown",
   "id": "947832c2-10d7-403d-af1e-027b4a567a43",
   "metadata": {},
   "source": [
    " Define a string called __hello__ containing the __Hello, world!__ value."
   ]
  },
  {
   "cell_type": "code",
   "execution_count": null,
   "id": "ddadeb6e-837d-458b-8819-4bc5652e2eb9",
   "metadata": {},
   "outputs": [],
   "source": [
    "#INSERT YOUR CODE HERE\n"
   ]
  },
  {
   "cell_type": "code",
   "execution_count": null,
   "id": "11f22c62-072d-4b1f-a27d-8f1fd3ee2a40",
   "metadata": {
    "jupyter": {
     "source_hidden": true
    }
   },
   "outputs": [],
   "source": [
    "# TESTS FOR EXERCISE 8, DO NOT MODIFY\n",
    "assert (type(hello) == str)\n",
    "assert (hello == 'Hello, world!')"
   ]
  }
 ],
 "metadata": {
  "kernelspec": {
   "display_name": "Python 3 (ipykernel)",
   "language": "python",
   "name": "python3"
  },
  "language_info": {
   "codemirror_mode": {
    "name": "ipython",
    "version": 3
   },
   "file_extension": ".py",
   "mimetype": "text/x-python",
   "name": "python",
   "nbconvert_exporter": "python",
   "pygments_lexer": "ipython3",
   "version": "3.10.10"
  }
 },
 "nbformat": 4,
 "nbformat_minor": 5
}
