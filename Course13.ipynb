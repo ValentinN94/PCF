{
 "cells": [
  {
   "cell_type": "markdown",
   "id": "ff73c0b1-5dfc-4d81-aeb2-c5e307058d58",
   "metadata": {},
   "source": [
    "# File Handling"
   ]
  },
  {
   "cell_type": "markdown",
   "id": "d9efe92c-5a04-4be6-8ae5-cb9296c55350",
   "metadata": {},
   "source": [
    "## File Reading"
   ]
  },
  {
   "cell_type": "markdown",
   "id": "6cf7661d-4b19-459b-9c47-62480edf4359",
   "metadata": {},
   "source": [
    "- Python offers builtin function for reading file\n",
    "- There are multiple ways of reading a file in python:\n",
    "  - read only(‘r’): open the file for reading\n",
    "  - read and write(‘r+’): open the file for reading and writing\n",
    "  - append and read(‘a+’): open the file for reading and writing, if data is already in file it will add it at the end"
   ]
  },
  {
   "cell_type": "markdown",
   "id": "521442b1-5df4-4fc5-abc0-bd1c3fc8992d",
   "metadata": {},
   "source": [
    "## Open Function"
   ]
  },
  {
   "cell_type": "markdown",
   "id": "fef3f538-80f2-47dd-af0a-6b70a012df95",
   "metadata": {},
   "source": [
    "- Used for opening a text file\n",
    "- Follows the following syntax:\n",
    "- file_obj = open(‘Path_to_file’, ‘Access_mode’)\n",
    "- Where Path_to_file is a string variable representing the path to the file we want to read\n",
    "- Access_mode is the way we want to open the file(for e.g read, read and append, read and write)"
   ]
  },
  {
   "cell_type": "code",
   "execution_count": null,
   "id": "19fe74d8-6e1f-4baf-8d23-aa187e00e41a",
   "metadata": {},
   "outputs": [],
   "source": [
    "import os\n",
    "print(os.listdir())\n",
    "print(os.getcwd())\n",
    "my_file = open('demo.txt', 'r')\n",
    "my_file.readline()"
   ]
  },
  {
   "cell_type": "code",
   "execution_count": null,
   "id": "bb6c3a9c-c56f-476e-9eb3-8b36941efb8d",
   "metadata": {},
   "outputs": [],
   "source": [
    "my_file = open(r'/home/jupyter-admin/PythonFundamentals/demo.txt', 'r')\n",
    "print(my_file.readline())\n",
    "print(my_file.readline())\n",
    "print(my_file.readline())\n",
    "my_file.close()"
   ]
  },
  {
   "cell_type": "code",
   "execution_count": null,
   "id": "38cab3c1-f25f-4f65-90d6-3c490d383215",
   "metadata": {},
   "outputs": [],
   "source": [
    "my_file = open(r'/home/jupyter-admin/PythonFundamentals/demo.txt', 'r')\n",
    "print(type(my_file.read()))\n",
    "with open('demo.txt', 'r') as file_reader:\n",
    "    for line in file_reader:\n",
    "        print(line)"
   ]
  },
  {
   "cell_type": "markdown",
   "id": "68b94a91-bd11-4f81-b683-95e4e203e301",
   "metadata": {},
   "source": [
    "## Write/Create files"
   ]
  },
  {
   "cell_type": "markdown",
   "id": "8c71d5a3-e403-49bb-9dcd-e00a97a3e55d",
   "metadata": {},
   "source": [
    "- Similar to read files using the open functions\n",
    "- Different access modes:\n",
    "- Write only(‘w’): creates or opens a file for writing, data is overwritten if data already exists in an opened file\n",
    "- Write and read(‘w+’): creates or opens a fire for reading or writing, data is overwritten if it already exists in a file\n",
    "- Append(‘a’):  creates or opens a file writing, data written is appended at the end of the file without overwritting current data"
   ]
  },
  {
   "cell_type": "code",
   "execution_count": null,
   "id": "506aff75-8413-4c8a-80db-5b691872c289",
   "metadata": {},
   "outputs": [],
   "source": [
    "my_file = open('my_text_file.txt', 'w')\n",
    "my_file.write('This is inserted into the text file by write function')\n",
    "my_file.close()\n",
    "my_file = open('my_text_file.txt', 'r')\n",
    "print(my_file.read())\n",
    "my_file.close()"
   ]
  },
  {
   "cell_type": "code",
   "execution_count": null,
   "id": "a5c6a15a-314a-4045-b3fa-b52ee3af5307",
   "metadata": {},
   "outputs": [],
   "source": [
    "list_of_text = ['This is what we want in the text file \\n', 'Second line \\n', 'Third line \\n']\n",
    "with open('my_text_file.txt', 'w') as f:\n",
    "    f.write('Insert this as first line \\n')\n",
    "    for line in list_of_text:\n",
    "        print(f.write(line))"
   ]
  },
  {
   "cell_type": "code",
   "execution_count": null,
   "id": "ba0ecd81-a7f6-45ef-bc90-0f2bb587a2b9",
   "metadata": {},
   "outputs": [],
   "source": [
    "with open('new_text_file.txt', 'r') as my_f:\n",
    "    for line in my_f:\n",
    "        print(line)"
   ]
  },
  {
   "cell_type": "code",
   "execution_count": null,
   "id": "995b150d-cea5-417d-9b60-e7dcb21dd776",
   "metadata": {},
   "outputs": [],
   "source": [
    "import os\n",
    "\n",
    "os.remove(\"my_text_file.txt\")\n",
    "if os.path.exists(\"new_text_file.txt\"):\n",
    "    os.remove(\"new_text_file.txt\")\n",
    "else:\n",
    "    print('The file does not exist')\n"
   ]
  },
  {
   "cell_type": "markdown",
   "id": "cb0ee645-37ba-424d-bf09-9aa099792bdc",
   "metadata": {},
   "source": [
    "## Context managers"
   ]
  },
  {
   "cell_type": "markdown",
   "id": "4f1e2cc4-ae78-458a-bed0-176cda156053",
   "metadata": {},
   "source": [
    "- Provides precision in resource allocation\n",
    "- Every class which override the object __enter__ and __exit__ methods is a Context Manager\n",
    "- Once you have a context manager you enter it via the with statement, and exit it automatically after the code inside finishes running\n",
    "- Examples: with open(‘my_file.txt”,’r’) as f:"
   ]
  },
  {
   "cell_type": "code",
   "execution_count": null,
   "id": "38dda903-b8d6-41dc-b200-6b2a357d2450",
   "metadata": {},
   "outputs": [],
   "source": [
    "class File(object):\n",
    "    def __init__(self, file_name, method):\n",
    "        self.file_obj = open(file_name, method)\n",
    "    def __enter__(self):\n",
    "        return self.file_obj\n",
    "    def __exit__(self, type, value, traceback):\n",
    "        self.file_obj.close()\n",
    "\n",
    "with File('demo.txt', 'w') as opened_file:\n",
    "    opened_file.write('Hello!')"
   ]
  }
 ],
 "metadata": {
  "kernelspec": {
   "display_name": "Python 3 (ipykernel)",
   "language": "python",
   "name": "python3"
  },
  "language_info": {
   "codemirror_mode": {
    "name": "ipython",
    "version": 3
   },
   "file_extension": ".py",
   "mimetype": "text/x-python",
   "name": "python",
   "nbconvert_exporter": "python",
   "pygments_lexer": "ipython3",
   "version": "3.10.10"
  }
 },
 "nbformat": 4,
 "nbformat_minor": 5
}
