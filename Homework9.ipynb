{
 "cells": [
  {
   "cell_type": "markdown",
   "id": "fbc5eabd-664d-42f0-b90b-1a810699208b",
   "metadata": {},
   "source": [
    "# Homework9. Generators"
   ]
  },
  {
   "cell_type": "markdown",
   "id": "23826d5f-83d0-4552-82cd-b7db0ac4db6b",
   "metadata": {},
   "source": [
    "### Exercise 1"
   ]
  },
  {
   "cell_type": "markdown",
   "id": "92dfcfe1-93b3-426f-bad6-babb7a1f63eb",
   "metadata": {},
   "source": [
    "Create a function which should behave like range function from python3 and return a generator. You can call it __my_range3__.  \n",
    "The function signature is the following: range(start, stop, step)   \n",
    "However, in python the user can provide just the stop value and it will create a list of integers from the beginning till the stop value. Also users can specify the step value.  \n",
    "Invoke the function with the following values:  \n",
    "my_range3(10)  \n",
    "my_range3(10, 20)  \n",
    "my_range3(20, 10)  \n",
    "my_range3(10, 20, 2)  \n",
    "my_range3(10, 20, 3)  "
   ]
  },
  {
   "cell_type": "code",
   "execution_count": 10,
   "id": "d61791aa-a7ab-48b4-a477-86ec627f769b",
   "metadata": {},
   "outputs": [],
   "source": [
    "#INSERT CODE HERE"
   ]
  },
  {
   "cell_type": "code",
   "execution_count": 7,
   "id": "f797e9ed-aaf8-4009-a737-b180379c7ad9",
   "metadata": {},
   "outputs": [],
   "source": [
    "#TESTS FOR EXERCISE 1\n",
    "assert (list(my_range3(10)) == list(range(10)))\n",
    "assert (list(my_range3(10, 20)) == list(range(10, 20)))\n",
    "assert (list(my_range3(20, 10)) == list(range(20, 10)))\n",
    "assert (list(my_range3(10, 20, 2)) == list((range(10, 20, 2))))\n",
    "assert (list(my_range3(10, 20, 3)) == list((range(10, 20, 3))))"
   ]
  },
  {
   "cell_type": "markdown",
   "id": "04fa6f37-8385-4875-bc86-bb438b16447a",
   "metadata": {},
   "source": [
    "### Exercise 2"
   ]
  },
  {
   "cell_type": "markdown",
   "id": "c3dd58f4-9560-4c02-b0a5-f3e84b122efe",
   "metadata": {},
   "source": [
    "Create a generator function that yields cubes of numbers from 1 to n. Pass n as an argument to the function."
   ]
  },
  {
   "cell_type": "code",
   "execution_count": null,
   "id": "94b5a23e-3f90-4cf8-aee0-e95dc1c57a14",
   "metadata": {},
   "outputs": [],
   "source": [
    "#INSERT CODE HERE"
   ]
  },
  {
   "cell_type": "markdown",
   "id": "ef205b5f-674d-438d-9359-79007d77ac38",
   "metadata": {},
   "source": [
    "No tests for this exercise"
   ]
  }
 ],
 "metadata": {
  "kernelspec": {
   "display_name": "Python 3 (ipykernel)",
   "language": "python",
   "name": "python3"
  },
  "language_info": {
   "codemirror_mode": {
    "name": "ipython",
    "version": 3
   },
   "file_extension": ".py",
   "mimetype": "text/x-python",
   "name": "python",
   "nbconvert_exporter": "python",
   "pygments_lexer": "ipython3",
   "version": "3.12.4"
  }
 },
 "nbformat": 4,
 "nbformat_minor": 5
}
